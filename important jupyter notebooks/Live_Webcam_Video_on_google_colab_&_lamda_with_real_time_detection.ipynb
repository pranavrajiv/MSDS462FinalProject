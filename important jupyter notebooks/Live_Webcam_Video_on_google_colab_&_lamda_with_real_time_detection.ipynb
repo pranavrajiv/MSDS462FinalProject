{
  "cells": [
    {
      "cell_type": "markdown",
      "metadata": {
        "id": "GKm2q-3o15lZ"
      },
      "source": [
        "### Import Packages"
      ]
    },
    {
      "cell_type": "code",
      "execution_count": 1,
      "metadata": {
        "colab": {
          "base_uri": "https://localhost:8080/"
        },
        "id": "nDZRXg-9_oUH",
        "outputId": "27a9223c-d9c4-4053-83ca-56063c1f849d"
      },
      "outputs": [
        {
          "output_type": "stream",
          "name": "stdout",
          "text": [
            "Looking in indexes: https://pypi.org/simple, https://us-python.pkg.dev/colab-wheels/public/simple/\n",
            "Requirement already satisfied: mediapipe in /usr/local/lib/python3.7/dist-packages (0.8.10)\n",
            "Requirement already satisfied: numpy in /usr/local/lib/python3.7/dist-packages (from mediapipe) (1.21.6)\n",
            "Requirement already satisfied: opencv-contrib-python in /usr/local/lib/python3.7/dist-packages (from mediapipe) (4.1.2.30)\n",
            "Requirement already satisfied: absl-py in /usr/local/lib/python3.7/dist-packages (from mediapipe) (1.0.0)\n",
            "Requirement already satisfied: attrs>=19.1.0 in /usr/local/lib/python3.7/dist-packages (from mediapipe) (21.4.0)\n",
            "Requirement already satisfied: matplotlib in /usr/local/lib/python3.7/dist-packages (from mediapipe) (3.2.2)\n",
            "Requirement already satisfied: protobuf>=3.11.4 in /usr/local/lib/python3.7/dist-packages (from mediapipe) (3.17.3)\n",
            "Requirement already satisfied: six>=1.9 in /usr/local/lib/python3.7/dist-packages (from protobuf>=3.11.4->mediapipe) (1.15.0)\n",
            "Requirement already satisfied: pyparsing!=2.0.4,!=2.1.2,!=2.1.6,>=2.0.1 in /usr/local/lib/python3.7/dist-packages (from matplotlib->mediapipe) (3.0.9)\n",
            "Requirement already satisfied: kiwisolver>=1.0.1 in /usr/local/lib/python3.7/dist-packages (from matplotlib->mediapipe) (1.4.2)\n",
            "Requirement already satisfied: python-dateutil>=2.1 in /usr/local/lib/python3.7/dist-packages (from matplotlib->mediapipe) (2.8.2)\n",
            "Requirement already satisfied: cycler>=0.10 in /usr/local/lib/python3.7/dist-packages (from matplotlib->mediapipe) (0.11.0)\n",
            "Requirement already satisfied: typing-extensions in /usr/local/lib/python3.7/dist-packages (from kiwisolver>=1.0.1->matplotlib->mediapipe) (4.2.0)\n"
          ]
        },
        {
          "output_type": "stream",
          "name": "stderr",
          "text": [
            "/usr/local/lib/python3.7/dist-packages/requests/__init__.py:91: RequestsDependencyWarning: urllib3 (1.26.9) or chardet (3.0.4) doesn't match a supported version!\n",
            "  RequestsDependencyWarning)\n"
          ]
        }
      ],
      "source": [
        "import cv2\n",
        "from google.colab.patches import cv2_imshow\n",
        "!pip install mediapipe\n",
        "\n",
        "import mediapipe as mp\n",
        "from tensorflow.keras.models import load_model\n",
        "import numpy as np\n",
        "import copy\n",
        "import itertools"
      ]
    },
    {
      "cell_type": "code",
      "execution_count": 2,
      "metadata": {
        "colab": {
          "base_uri": "https://localhost:8080/",
          "height": 35
        },
        "id": "6Vxo-jeP8Anb",
        "outputId": "c8c69fb5-f9ad-4dde-f246-eb9e751daad6"
      },
      "outputs": [
        {
          "output_type": "execute_result",
          "data": {
            "text/plain": [
              "'2.8.0'"
            ],
            "application/vnd.google.colaboratory.intrinsic+json": {
              "type": "string"
            }
          },
          "metadata": {},
          "execution_count": 2
        }
      ],
      "source": [
        "import tensorflow as tf\n",
        "tf.__version__"
      ]
    },
    {
      "cell_type": "markdown",
      "metadata": {
        "id": "UXGaBjpK2ELs"
      },
      "source": [
        "### Landmark Detection Functions"
      ]
    },
    {
      "cell_type": "code",
      "execution_count": 3,
      "metadata": {
        "id": "2fFbX__S_09r"
      },
      "outputs": [],
      "source": [
        "def calc_landmark_list(image, landmarks):\n",
        "    image_width, image_height = image.shape[1], image.shape[0]\n",
        "\n",
        "    landmark_point = []\n",
        "    \n",
        "    for _, landmark in enumerate(landmarks.landmark):\n",
        "        landmark_x = min(int(landmark.x * image_width), image_width - 1)\n",
        "        landmark_y = min(int(landmark.y * image_height), image_height - 1)\n",
        "        \n",
        "        landmark_point.append([landmark_x, landmark_y])\n",
        "\n",
        "    return landmark_point"
      ]
    },
    {
      "cell_type": "code",
      "execution_count": 4,
      "metadata": {
        "id": "PAS1RxM2_7Kv"
      },
      "outputs": [],
      "source": [
        "def pre_process_landmark(landmark_list):\n",
        "    temp_landmark_list = copy.deepcopy(landmark_list)\n",
        "\n",
        "    \n",
        "    base_x, base_y = 0, 0\n",
        "    for index, landmark_point in enumerate(temp_landmark_list):\n",
        "        if index == 0:\n",
        "            base_x, base_y = landmark_point[0], landmark_point[1]\n",
        "\n",
        "        temp_landmark_list[index][0] = temp_landmark_list[index][0] - base_x\n",
        "        temp_landmark_list[index][1] = temp_landmark_list[index][1] - base_y\n",
        "\n",
        "    \n",
        "    temp_landmark_list = list(itertools.chain.from_iterable(temp_landmark_list))\n",
        "\n",
        "    \n",
        "    max_value = max(list(map(abs, temp_landmark_list)))\n",
        "\n",
        "    def normalize_(n):\n",
        "        return n / max_value\n",
        "\n",
        "    temp_landmark_list = list(map(normalize_, temp_landmark_list))\n",
        "\n",
        "    return temp_landmark_list\n"
      ]
    },
    {
      "cell_type": "markdown",
      "metadata": {
        "id": "Jmlh5qk82IyG"
      },
      "source": [
        "Import the Trained Model"
      ]
    },
    {
      "cell_type": "code",
      "execution_count": 5,
      "metadata": {
        "colab": {
          "base_uri": "https://localhost:8080/"
        },
        "id": "3Ay_lojjxqLJ",
        "outputId": "9e43d489-1009-454c-a358-a7013593c826"
      },
      "outputs": [
        {
          "output_type": "stream",
          "name": "stdout",
          "text": [
            "Drive already mounted at /content/drive; to attempt to forcibly remount, call drive.mount(\"/content/drive\", force_remount=True).\n"
          ]
        }
      ],
      "source": [
        "from google.colab import drive\n",
        "drive.mount('/content/drive')"
      ]
    },
    {
      "cell_type": "code",
      "execution_count": 7,
      "metadata": {
        "colab": {
          "base_uri": "https://localhost:8080/"
        },
        "id": "_rxx-394_9yT",
        "outputId": "dfefa332-df22-47ba-e534-f87353a8c865"
      },
      "outputs": [
        {
          "output_type": "stream",
          "name": "stdout",
          "text": [
            "WARNING:tensorflow:No training configuration found in the save file, so the model was *not* compiled. Compile it manually.\n"
          ]
        }
      ],
      "source": [
        "model = load_model('/content/drive/My Drive/Colab Notebooks/latestModel')"
      ]
    },
    {
      "cell_type": "code",
      "execution_count": 6,
      "metadata": {
        "id": "ttmrYTRrd1hb"
      },
      "outputs": [],
      "source": [
        "mpHands = mp.solutions.hands\n",
        "hands = mpHands.Hands()\n",
        "mpDraw = mp.solutions.drawing_utils\n",
        "\n",
        "labels_dict = {'A':0,'B':1,'C':2,'D':3,'E':4,'F':5,'G':6,'H':7,'I':8,'J':9,'K':10,'L':11,'M':12,'N':13,'O':14,'P':15,'Q':16,'R':17,'S':18,'T':19,'U':20,'V':21,'W':22,'X':23,'Y':24,'Z':25,'space':26,'del':27,'nothing':28}\n"
      ]
    },
    {
      "cell_type": "code",
      "execution_count": 7,
      "metadata": {
        "id": "bEPLJW_2FfUz"
      },
      "outputs": [],
      "source": [
        "#from google.colab.patches import cv2_imshow\n",
        "def get_key(val):\n",
        "    for key, value in labels_dict.items():\n",
        "        if val == value:\n",
        "            return key\n",
        "    return \"nothing\""
      ]
    },
    {
      "cell_type": "markdown",
      "metadata": {
        "id": "ObectvS22RCS"
      },
      "source": [
        "### Setup of Webcam to Accept Live Stream"
      ]
    },
    {
      "cell_type": "code",
      "execution_count": 8,
      "metadata": {
        "id": "V9jgHhP1PsMb"
      },
      "outputs": [],
      "source": [
        "import base64\n",
        "import html\n",
        "import io\n",
        "import time\n",
        "\n",
        "from IPython.display import display, Javascript\n",
        "from google.colab.output import eval_js\n",
        "import numpy as np\n",
        "from PIL import Image\n",
        "import cv2\n",
        "\n",
        "\n",
        "def start_input():\n",
        "    js = Javascript('''\n",
        "    var video;\n",
        "    var div = null;\n",
        "    var stream;\n",
        "    var captureCanvas;\n",
        "    var imgElement;\n",
        "    var modelOut\n",
        "    \n",
        "    var pendingResolve = null;\n",
        "    var shutdown = false;\n",
        "    \n",
        "    function removeDom() {\n",
        "       stream.getVideoTracks()[0].stop();\n",
        "       video.remove();\n",
        "       div.remove();\n",
        "       video = null;\n",
        "       div = null;\n",
        "       stream = null;\n",
        "       imgElement = null;\n",
        "       captureCanvas = null;\n",
        "       modelOut = null;\n",
        "    }\n",
        "    \n",
        "    function onAnimationFrame() {\n",
        "      if (!shutdown) {\n",
        "        window.requestAnimationFrame(onAnimationFrame);\n",
        "      }\n",
        "      if (pendingResolve) {\n",
        "        var result = \"\";\n",
        "        if (!shutdown) {\n",
        "          captureCanvas.getContext('2d').drawImage(video, 0, 0, 512, 512);\n",
        "          result = captureCanvas.toDataURL('image/jpeg', 0.8)\n",
        "        }\n",
        "        var lp = pendingResolve;\n",
        "        pendingResolve = null;\n",
        "        lp(result);\n",
        "      }\n",
        "    }\n",
        "    \n",
        "    async function createDom(label) {\n",
        "      if (div !== null) {\n",
        "        return stream;\n",
        "      }\n",
        "\n",
        "      div = document.createElement('div');\n",
        "      div.style.border = '2px solid black';\n",
        "      div.style.padding = '3px';\n",
        "      div.style.width = '100%';\n",
        "      div.style.maxWidth = '600px';\n",
        "      document.body.appendChild(div);\n",
        "      \n",
        "      modelOut = document.createElement('div');\n",
        "      modelOut.style.fontWeight = 'bold';\n",
        "      modelOut.style.height = \"50px\";\n",
        "      div.appendChild(modelOut);\n",
        "           \n",
        "      video = document.createElement('video');\n",
        "      video.style.display = 'block';\n",
        "      video.width = div.clientWidth - 6;\n",
        "      video.setAttribute('playsinline', '');\n",
        "      video.onclick = () => { shutdown = true; };\n",
        "      stream = await navigator.mediaDevices.getUserMedia(\n",
        "          {video: { facingMode: \"environment\"}});\n",
        "      div.appendChild(video);\n",
        "\n",
        "      imgElement = document.createElement('img');\n",
        "      imgElement.style.position = 'absolute';\n",
        "      imgElement.style.zIndex = 1;\n",
        "      imgElement.onclick = () => { shutdown = true; };\n",
        "      div.appendChild(imgElement);\n",
        "      \n",
        "      const instruction = document.createElement('div');\n",
        "      instruction.innerHTML = \n",
        "          '<span style=\"color: red; font-weight: bold;\">' +\n",
        "          'When finished, click here or on the video to stop this demo</span>';\n",
        "      div.appendChild(instruction);\n",
        "      instruction.onclick = () => { shutdown = true; };\n",
        "      \n",
        "      video.srcObject = stream;\n",
        "      await video.play();\n",
        "\n",
        "      captureCanvas = document.createElement('canvas');\n",
        "      captureCanvas.width = video.videoWidth;\n",
        "      captureCanvas.height = video.videoHeight;\n",
        "      window.requestAnimationFrame(onAnimationFrame);\n",
        "      \n",
        "      return stream;\n",
        "    }\n",
        "    async function takePhoto(label, imgData) {\n",
        "      if (shutdown) {\n",
        "        removeDom();\n",
        "        shutdown = false;\n",
        "        return '';\n",
        "      }\n",
        "\n",
        "      var preCreate = Date.now();\n",
        "      stream = await createDom(label);\n",
        "      \n",
        "      var preShow = Date.now();\n",
        "      if (label != \"\") {\n",
        "        modelOut.innerHTML  = \"<H1 style='color:blue;'>Translation: \"+label+\"</H1>\" \n",
        "        } else {\n",
        "          modelOut.innerHTML  = \"<H1></H1>\"\n",
        "        }\n",
        "            \n",
        "      if (imgData != \"\") {\n",
        "        var videoRect = video.getClientRects()[0];\n",
        "        imgElement.style.top = videoRect.top + \"px\";\n",
        "        imgElement.style.left = videoRect.left + \"px\";\n",
        "        imgElement.style.width = videoRect.width + \"px\";\n",
        "        imgElement.style.height = videoRect.height + \"px\";\n",
        "        imgElement.src = imgData;\n",
        "      }\n",
        "      \n",
        "      var preCapture = Date.now();\n",
        "      var result = await new Promise(function(resolve, reject) {\n",
        "        pendingResolve = resolve;\n",
        "      });\n",
        "      shutdown = false;\n",
        "      \n",
        "      return {'create': preShow - preCreate, \n",
        "              'show': preCapture - preShow, \n",
        "              'capture': Date.now() - preCapture,\n",
        "              'img': result};\n",
        "    }\n",
        "    ''')\n",
        "\n",
        "    display(js)\n",
        "\n",
        "\n",
        "def take_photo(label, img_data):\n",
        "    data = eval_js('takePhoto(\"{}\", \"{}\")'.format(label, img_data))\n",
        "    return data"
      ]
    },
    {
      "cell_type": "code",
      "execution_count": 9,
      "metadata": {
        "id": "SKrfK7gSPsSY"
      },
      "outputs": [],
      "source": [
        "from PIL import Image\n",
        "\n",
        "def js_reply_to_image(js_reply):\n",
        "    \"\"\"\n",
        "    input: \n",
        "          js_reply: JavaScript object, contain image from webcam\n",
        "\n",
        "    output: \n",
        "          open_cv_image\n",
        "    \"\"\"\n",
        "    jpeg_bytes = base64.b64decode(js_reply['img'].split(',')[1])\n",
        "    image_PIL = Image.open(io.BytesIO(jpeg_bytes)).convert('RGB')\n",
        "    open_cv_image = np.array(image_PIL)\n",
        "    return open_cv_image"
      ]
    },
    {
      "cell_type": "code",
      "execution_count": 13,
      "metadata": {
        "colab": {
          "base_uri": "https://localhost:8080/",
          "height": 17
        },
        "id": "4MtedoyKPsfF",
        "outputId": "72423795-17d3-442d-ab1e-28e243b54fab"
      },
      "outputs": [
        {
          "output_type": "display_data",
          "data": {
            "text/plain": [
              "<IPython.core.display.Javascript object>"
            ],
            "application/javascript": [
              "\n",
              "    var video;\n",
              "    var div = null;\n",
              "    var stream;\n",
              "    var captureCanvas;\n",
              "    var imgElement;\n",
              "    var modelOut\n",
              "    \n",
              "    var pendingResolve = null;\n",
              "    var shutdown = false;\n",
              "    \n",
              "    function removeDom() {\n",
              "       stream.getVideoTracks()[0].stop();\n",
              "       video.remove();\n",
              "       div.remove();\n",
              "       video = null;\n",
              "       div = null;\n",
              "       stream = null;\n",
              "       imgElement = null;\n",
              "       captureCanvas = null;\n",
              "       modelOut = null;\n",
              "    }\n",
              "    \n",
              "    function onAnimationFrame() {\n",
              "      if (!shutdown) {\n",
              "        window.requestAnimationFrame(onAnimationFrame);\n",
              "      }\n",
              "      if (pendingResolve) {\n",
              "        var result = \"\";\n",
              "        if (!shutdown) {\n",
              "          captureCanvas.getContext('2d').drawImage(video, 0, 0, 512, 512);\n",
              "          result = captureCanvas.toDataURL('image/jpeg', 0.8)\n",
              "        }\n",
              "        var lp = pendingResolve;\n",
              "        pendingResolve = null;\n",
              "        lp(result);\n",
              "      }\n",
              "    }\n",
              "    \n",
              "    async function createDom(label) {\n",
              "      if (div !== null) {\n",
              "        return stream;\n",
              "      }\n",
              "\n",
              "      div = document.createElement('div');\n",
              "      div.style.border = '2px solid black';\n",
              "      div.style.padding = '3px';\n",
              "      div.style.width = '100%';\n",
              "      div.style.maxWidth = '600px';\n",
              "      document.body.appendChild(div);\n",
              "      \n",
              "      modelOut = document.createElement('div');\n",
              "      modelOut.style.fontWeight = 'bold';\n",
              "      modelOut.style.height = \"50px\";\n",
              "      div.appendChild(modelOut);\n",
              "           \n",
              "      video = document.createElement('video');\n",
              "      video.style.display = 'block';\n",
              "      video.width = div.clientWidth - 6;\n",
              "      video.setAttribute('playsinline', '');\n",
              "      video.onclick = () => { shutdown = true; };\n",
              "      stream = await navigator.mediaDevices.getUserMedia(\n",
              "          {video: { facingMode: \"environment\"}});\n",
              "      div.appendChild(video);\n",
              "\n",
              "      imgElement = document.createElement('img');\n",
              "      imgElement.style.position = 'absolute';\n",
              "      imgElement.style.zIndex = 1;\n",
              "      imgElement.onclick = () => { shutdown = true; };\n",
              "      div.appendChild(imgElement);\n",
              "      \n",
              "      const instruction = document.createElement('div');\n",
              "      instruction.innerHTML = \n",
              "          '<span style=\"color: red; font-weight: bold;\">' +\n",
              "          'When finished, click here or on the video to stop this demo</span>';\n",
              "      div.appendChild(instruction);\n",
              "      instruction.onclick = () => { shutdown = true; };\n",
              "      \n",
              "      video.srcObject = stream;\n",
              "      await video.play();\n",
              "\n",
              "      captureCanvas = document.createElement('canvas');\n",
              "      captureCanvas.width = video.videoWidth;\n",
              "      captureCanvas.height = video.videoHeight;\n",
              "      window.requestAnimationFrame(onAnimationFrame);\n",
              "      \n",
              "      return stream;\n",
              "    }\n",
              "    async function takePhoto(label, imgData) {\n",
              "      if (shutdown) {\n",
              "        removeDom();\n",
              "        shutdown = false;\n",
              "        return '';\n",
              "      }\n",
              "\n",
              "      var preCreate = Date.now();\n",
              "      stream = await createDom(label);\n",
              "      \n",
              "      var preShow = Date.now();\n",
              "      if (label != \"\") {\n",
              "        modelOut.innerHTML  = \"<H1 style='color:blue;'>Translation: \"+label+\"</H1>\" \n",
              "        } else {\n",
              "          modelOut.innerHTML  = \"<H1></H1>\"\n",
              "        }\n",
              "            \n",
              "      if (imgData != \"\") {\n",
              "        var videoRect = video.getClientRects()[0];\n",
              "        imgElement.style.top = videoRect.top + \"px\";\n",
              "        imgElement.style.left = videoRect.left + \"px\";\n",
              "        imgElement.style.width = videoRect.width + \"px\";\n",
              "        imgElement.style.height = videoRect.height + \"px\";\n",
              "        imgElement.src = imgData;\n",
              "      }\n",
              "      \n",
              "      var preCapture = Date.now();\n",
              "      var result = await new Promise(function(resolve, reject) {\n",
              "        pendingResolve = resolve;\n",
              "      });\n",
              "      shutdown = false;\n",
              "      \n",
              "      return {'create': preShow - preCreate, \n",
              "              'show': preCapture - preShow, \n",
              "              'capture': Date.now() - preCapture,\n",
              "              'img': result};\n",
              "    }\n",
              "    "
            ]
          },
          "metadata": {}
        }
      ],
      "source": [
        "#WORKING using colab model\n",
        "from google.colab import output\n",
        "from datetime import datetime,timedelta\n",
        "\n",
        "start_input()\n",
        "label_html = \"\"\n",
        "img_data = ''\n",
        "count = 0\n",
        "class_x_1 =[]\n",
        "tempList =[]\n",
        "startTime = datetime.now()\n",
        "    \n",
        "# Process the model and the image taken above:\n",
        "while True:\n",
        "    js_reply = take_photo(label_html, img_data)\n",
        "    if not js_reply:\n",
        "        break\n",
        "    label_html = \"\"\n",
        "    redictions=\"\"\n",
        "    image = js_reply_to_image(js_reply)\n",
        "    results = hands.process(image)\n",
        "    if results.multi_hand_landmarks:\n",
        "        for hand_landmarks, handedness in zip(results.multi_hand_landmarks,results.multi_handedness):\n",
        "            landmark_list = calc_landmark_list(image, hand_landmarks)\n",
        "            pre_processed_landmark_list = pre_process_landmark(landmark_list)\n",
        "            predictions = model.predict(np.array([pre_processed_landmark_list], dtype=np.float32))\n",
        "            classes_x=np.argmax(np.squeeze(predictions))\n",
        "            key = get_key(classes_x)\n",
        "            \n",
        "            tempList.append(key)\n",
        "            if len(set(tempList)) != 1:\n",
        "                tempList = []\n",
        "                startTime = datetime.now()\n",
        "                \n",
        "            if int((datetime.now() - startTime).total_seconds()) > 1: #hold the hand sign for at-least 1s\n",
        "                if key:\n",
        "                    if key == \"space\":\n",
        "                        class_x_1.append(\" \")\n",
        "                    elif key == \"del\":\n",
        "                        if (len(class_x_1) > 0):\n",
        "                            class_x_1.pop()\n",
        "                    elif key != \"nothing\":\n",
        "                        class_x_1.append(key)\n",
        "                tempList = []\n",
        "                startTime = datetime.now()\n",
        "            \n",
        "            \n",
        "            label_html = ''.join(class_x_1)"
      ]
    },
    {
      "cell_type": "code",
      "source": [
        "!pip install boto3"
      ],
      "metadata": {
        "colab": {
          "base_uri": "https://localhost:8080/",
          "height": 569
        },
        "id": "i8XNOzcYeqF1",
        "outputId": "45733256-9710-40d2-f041-3084ad398bd0"
      },
      "execution_count": 15,
      "outputs": [
        {
          "output_type": "stream",
          "name": "stdout",
          "text": [
            "Looking in indexes: https://pypi.org/simple, https://us-python.pkg.dev/colab-wheels/public/simple/\n",
            "Collecting boto3\n",
            "  Downloading boto3-1.23.9-py3-none-any.whl (132 kB)\n",
            "\u001b[K     |████████████████████████████████| 132 kB 33.4 MB/s \n",
            "\u001b[?25hCollecting jmespath<2.0.0,>=0.7.1\n",
            "  Downloading jmespath-1.0.0-py3-none-any.whl (23 kB)\n",
            "Collecting botocore<1.27.0,>=1.26.9\n",
            "  Downloading botocore-1.26.9-py3-none-any.whl (8.8 MB)\n",
            "\u001b[K     |████████████████████████████████| 8.8 MB 61.9 MB/s \n",
            "\u001b[?25hCollecting s3transfer<0.6.0,>=0.5.0\n",
            "  Downloading s3transfer-0.5.2-py3-none-any.whl (79 kB)\n",
            "\u001b[K     |████████████████████████████████| 79 kB 9.5 MB/s \n",
            "\u001b[?25hCollecting urllib3<1.27,>=1.25.4\n",
            "  Downloading urllib3-1.26.9-py2.py3-none-any.whl (138 kB)\n",
            "\u001b[K     |████████████████████████████████| 138 kB 77.0 MB/s \n",
            "\u001b[?25hRequirement already satisfied: python-dateutil<3.0.0,>=2.1 in /usr/local/lib/python3.7/dist-packages (from botocore<1.27.0,>=1.26.9->boto3) (2.8.2)\n",
            "Requirement already satisfied: six>=1.5 in /usr/local/lib/python3.7/dist-packages (from python-dateutil<3.0.0,>=2.1->botocore<1.27.0,>=1.26.9->boto3) (1.15.0)\n",
            "Installing collected packages: urllib3, jmespath, botocore, s3transfer, boto3\n",
            "  Attempting uninstall: urllib3\n",
            "    Found existing installation: urllib3 1.24.3\n",
            "    Uninstalling urllib3-1.24.3:\n",
            "      Successfully uninstalled urllib3-1.24.3\n",
            "\u001b[31mERROR: pip's dependency resolver does not currently take into account all the packages that are installed. This behaviour is the source of the following dependency conflicts.\n",
            "requests 2.23.0 requires urllib3!=1.25.0,!=1.25.1,<1.26,>=1.21.1, but you have urllib3 1.26.9 which is incompatible.\n",
            "datascience 0.10.6 requires folium==0.2.1, but you have folium 0.8.3 which is incompatible.\u001b[0m\n",
            "Successfully installed boto3-1.23.9 botocore-1.26.9 jmespath-1.0.0 s3transfer-0.5.2 urllib3-1.26.9\n"
          ]
        },
        {
          "output_type": "display_data",
          "data": {
            "application/vnd.colab-display-data+json": {
              "pip_warning": {
                "packages": [
                  "urllib3"
                ]
              }
            }
          },
          "metadata": {}
        }
      ]
    },
    {
      "cell_type": "code",
      "execution_count": 11,
      "metadata": {
        "id": "fHCDj2Fvp3zD",
        "colab": {
          "base_uri": "https://localhost:8080/"
        },
        "outputId": "b3f269f6-8351-4934-de07-41344861069f"
      },
      "outputs": [
        {
          "output_type": "stream",
          "name": "stdout",
          "text": [
            "\n",
            "Label\n",
            "W\n",
            "\n",
            "\n"
          ]
        }
      ],
      "source": [
        "\n",
        "#Working USING Predict FUNCTION\n",
        "import os\n",
        "import io\n",
        "import boto3\n",
        "import json\n",
        "import csv\n",
        "\n",
        "# grab environment variables\n",
        "ENDPOINT_NAME = 'sagemaker-tensorflow-serving-2022-05-27-02-43-44-834'\n",
        "runtime= boto3.client('runtime.sagemaker', \n",
        "                     region_name='us-east-2', # make sure to set correct region\n",
        "                     aws_access_key_id='',\n",
        "                      aws_secret_access_key='')\n",
        "while True:\n",
        "    #success, image = cap.read()\n",
        "    image = cv2.imread(\"/content/drive/My Drive/Colab Notebooks/W_test.jpg\", cv2.IMREAD_COLOR)\n",
        "    imgRGB = cv2.cvtColor(image, cv2.COLOR_BGR2RGB)\n",
        "    results = hands.process(imgRGB)\n",
        "    predictions=\"\"\n",
        "    if results.multi_hand_landmarks:\n",
        "        for hand_landmarks, handedness in zip(results.multi_hand_landmarks,results.multi_handedness):\n",
        "            landmark_list = calc_landmark_list(imgRGB, hand_landmarks)\n",
        "            pre_processed_landmark_list = pre_process_landmark(landmark_list)\n",
        "            payload = ','.join(str(e) for e in pre_processed_landmark_list)\n",
        "            response = runtime.invoke_endpoint(EndpointName=ENDPOINT_NAME,\n",
        "                                   ContentType='text/csv',\n",
        "                                   Body=payload)\n",
        "            \n",
        "            jsonData = json.loads(response['Body'].read().decode())\n",
        "            classes_x=np.argmax(np.squeeze(jsonData[\"predictions\"]))\n",
        "            print(\"\\nLabel\")\n",
        "            print(get_key(classes_x))\n",
        "            print(\"\\n\")\n",
        "            cv2.putText(image, get_key(classes_x),(10,60), cv2.FONT_HERSHEY_PLAIN,3, (255,0,255),4)\n",
        "    #remove the below break statement when you are ready to make mutiple api calls \n",
        "    break\n",
        "    cv2.imshow(\"Results\", image)\n",
        "    if cv2.waitKey(1) & 0XFF == ord('q'):\n",
        "        break\n"
      ]
    },
    {
      "cell_type": "code",
      "source": [
        "#  TESTING  Working USING lamda FUNCTION\n",
        "import json\n",
        "import csv\n",
        "import requests\n",
        "from google.colab import output\n",
        "from datetime import datetime,timedelta\n",
        "\n",
        "start_input()\n",
        "label_html = \"\"\n",
        "img_data = ''\n",
        "count = 0\n",
        "class_x_1 =[]\n",
        "tempList =[]\n",
        "startTime = datetime.now()\n",
        "\n",
        "URL = 'https://9cmmrs6rwb.execute-api.us-east-2.amazonaws.com/test/predict'\n",
        "header = {\"Content-Type\":\"application/json\"}\n",
        "\n",
        "while True:\n",
        "    js_reply = take_photo(label_html, img_data)\n",
        "    if not js_reply:\n",
        "        break\n",
        "    label_html = \"\"\n",
        "    image = js_reply_to_image(js_reply)\n",
        "    results = hands.process(image)\n",
        "    predictions=\"\"\n",
        "    if results.multi_hand_landmarks:\n",
        "        for hand_landmarks, handedness in zip(results.multi_hand_landmarks,results.multi_handedness):\n",
        "            landmark_list = calc_landmark_list(image, hand_landmarks)\n",
        "            pre_processed_landmark_list = pre_process_landmark(landmark_list)\n",
        "            payload = ','.join(str(e) for e in pre_processed_landmark_list)\n",
        "            data_payload = '{\"data\":\"'+payload+'\"}'\n",
        "            #print(data_payload)\n",
        "            request = requests.request(\"POST\",URL, headers=header, data=data_payload)\n",
        "            #print()\n",
        "\n",
        "            #jsonData = json.loads(request['Body'].read().decode())\n",
        "            #classes_x=np.argmax(np.squeeze(jsonData[\"predictions\"]))\n",
        "            classes_x=np.argmax(np.squeeze(request.json()[0]))\n",
        "            key = get_key(classes_x)\n",
        "            \n",
        "            tempList.append(key)\n",
        "            if len(set(tempList)) != 1:\n",
        "                tempList = []\n",
        "                startTime = datetime.now()\n",
        "                \n",
        "            if int((datetime.now() - startTime).total_seconds()) > 1: #hold the hand sign for at-least 1s\n",
        "                if key:\n",
        "                    if key == \"space\":\n",
        "                        class_x_1.append(\" \")\n",
        "                    elif key == \"del\":\n",
        "                        if (len(class_x_1) > 0):\n",
        "                            class_x_1.pop()\n",
        "                    elif key != \"nothing\":\n",
        "                        class_x_1.append(key)\n",
        "                tempList = []\n",
        "                startTime = datetime.now()\n",
        "            \n",
        "            \n",
        "            label_html = ''.join(class_x_1)\n",
        "            #print(\"\\nLabel\")\n",
        "            #print(key)\n",
        "            #print(\"\\n\")\n",
        "    #remove the below break statement when you are ready to make mutiple api calls \n",
        "    #break\n"
      ],
      "metadata": {
        "colab": {
          "base_uri": "https://localhost:8080/",
          "height": 17
        },
        "id": "WluZeQsJqifk",
        "outputId": "f94b78ed-af6d-46b0-f31a-aa49676008c4"
      },
      "execution_count": 19,
      "outputs": [
        {
          "output_type": "display_data",
          "data": {
            "text/plain": [
              "<IPython.core.display.Javascript object>"
            ],
            "application/javascript": [
              "\n",
              "    var video;\n",
              "    var div = null;\n",
              "    var stream;\n",
              "    var captureCanvas;\n",
              "    var imgElement;\n",
              "    var modelOut\n",
              "    \n",
              "    var pendingResolve = null;\n",
              "    var shutdown = false;\n",
              "    \n",
              "    function removeDom() {\n",
              "       stream.getVideoTracks()[0].stop();\n",
              "       video.remove();\n",
              "       div.remove();\n",
              "       video = null;\n",
              "       div = null;\n",
              "       stream = null;\n",
              "       imgElement = null;\n",
              "       captureCanvas = null;\n",
              "       modelOut = null;\n",
              "    }\n",
              "    \n",
              "    function onAnimationFrame() {\n",
              "      if (!shutdown) {\n",
              "        window.requestAnimationFrame(onAnimationFrame);\n",
              "      }\n",
              "      if (pendingResolve) {\n",
              "        var result = \"\";\n",
              "        if (!shutdown) {\n",
              "          captureCanvas.getContext('2d').drawImage(video, 0, 0, 512, 512);\n",
              "          result = captureCanvas.toDataURL('image/jpeg', 0.8)\n",
              "        }\n",
              "        var lp = pendingResolve;\n",
              "        pendingResolve = null;\n",
              "        lp(result);\n",
              "      }\n",
              "    }\n",
              "    \n",
              "    async function createDom(label) {\n",
              "      if (div !== null) {\n",
              "        return stream;\n",
              "      }\n",
              "\n",
              "      div = document.createElement('div');\n",
              "      div.style.border = '2px solid black';\n",
              "      div.style.padding = '3px';\n",
              "      div.style.width = '100%';\n",
              "      div.style.maxWidth = '600px';\n",
              "      document.body.appendChild(div);\n",
              "      \n",
              "      modelOut = document.createElement('div');\n",
              "      modelOut.style.fontWeight = 'bold';\n",
              "      modelOut.style.height = \"50px\";\n",
              "      div.appendChild(modelOut);\n",
              "           \n",
              "      video = document.createElement('video');\n",
              "      video.style.display = 'block';\n",
              "      video.width = div.clientWidth - 6;\n",
              "      video.setAttribute('playsinline', '');\n",
              "      video.onclick = () => { shutdown = true; };\n",
              "      stream = await navigator.mediaDevices.getUserMedia(\n",
              "          {video: { facingMode: \"environment\"}});\n",
              "      div.appendChild(video);\n",
              "\n",
              "      imgElement = document.createElement('img');\n",
              "      imgElement.style.position = 'absolute';\n",
              "      imgElement.style.zIndex = 1;\n",
              "      imgElement.onclick = () => { shutdown = true; };\n",
              "      div.appendChild(imgElement);\n",
              "      \n",
              "      const instruction = document.createElement('div');\n",
              "      instruction.innerHTML = \n",
              "          '<span style=\"color: red; font-weight: bold;\">' +\n",
              "          'When finished, click here or on the video to stop this demo</span>';\n",
              "      div.appendChild(instruction);\n",
              "      instruction.onclick = () => { shutdown = true; };\n",
              "      \n",
              "      video.srcObject = stream;\n",
              "      await video.play();\n",
              "\n",
              "      captureCanvas = document.createElement('canvas');\n",
              "      captureCanvas.width = video.videoWidth;\n",
              "      captureCanvas.height = video.videoHeight;\n",
              "      window.requestAnimationFrame(onAnimationFrame);\n",
              "      \n",
              "      return stream;\n",
              "    }\n",
              "    async function takePhoto(label, imgData) {\n",
              "      if (shutdown) {\n",
              "        removeDom();\n",
              "        shutdown = false;\n",
              "        return '';\n",
              "      }\n",
              "\n",
              "      var preCreate = Date.now();\n",
              "      stream = await createDom(label);\n",
              "      \n",
              "      var preShow = Date.now();\n",
              "      if (label != \"\") {\n",
              "        modelOut.innerHTML  = \"<H1 style='color:blue;'>Translation: \"+label+\"</H1>\" \n",
              "        } else {\n",
              "          modelOut.innerHTML  = \"<H1></H1>\"\n",
              "        }\n",
              "            \n",
              "      if (imgData != \"\") {\n",
              "        var videoRect = video.getClientRects()[0];\n",
              "        imgElement.style.top = videoRect.top + \"px\";\n",
              "        imgElement.style.left = videoRect.left + \"px\";\n",
              "        imgElement.style.width = videoRect.width + \"px\";\n",
              "        imgElement.style.height = videoRect.height + \"px\";\n",
              "        imgElement.src = imgData;\n",
              "      }\n",
              "      \n",
              "      var preCapture = Date.now();\n",
              "      var result = await new Promise(function(resolve, reject) {\n",
              "        pendingResolve = resolve;\n",
              "      });\n",
              "      shutdown = false;\n",
              "      \n",
              "      return {'create': preShow - preCreate, \n",
              "              'show': preCapture - preShow, \n",
              "              'capture': Date.now() - preCapture,\n",
              "              'img': result};\n",
              "    }\n",
              "    "
            ]
          },
          "metadata": {}
        }
      ]
    }
  ],
  "metadata": {
    "accelerator": "GPU",
    "colab": {
      "collapsed_sections": [],
      "name": "Live Webcam Video on google colab & lamda with real time detection.ipynb",
      "provenance": []
    },
    "kernelspec": {
      "display_name": "Python 3 (ipykernel)",
      "language": "python",
      "name": "python3"
    },
    "language_info": {
      "codemirror_mode": {
        "name": "ipython",
        "version": 3
      },
      "file_extension": ".py",
      "mimetype": "text/x-python",
      "name": "python",
      "nbconvert_exporter": "python",
      "pygments_lexer": "ipython3",
      "version": "3.7.6"
    }
  },
  "nbformat": 4,
  "nbformat_minor": 0
}