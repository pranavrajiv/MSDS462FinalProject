{
 "cells": [
  {
   "cell_type": "markdown",
   "metadata": {},
   "source": [
    "# preferable do the following in a virtual environment as tensorflow needs to be downgraded to v1 to be compatible with sagemaker"
   ]
  },
  {
   "cell_type": "code",
   "execution_count": null,
   "metadata": {},
   "outputs": [],
   "source": [
    "!pip install tensorflow==1.15.5"
   ]
  },
  {
   "cell_type": "code",
   "execution_count": 2,
   "metadata": {},
   "outputs": [],
   "source": [
    "import csv\n",
    "import numpy as np\n",
    "import tensorflow as tf\n",
    "from sklearn.model_selection import train_test_split"
   ]
  },
  {
   "cell_type": "code",
   "execution_count": 3,
   "metadata": {},
   "outputs": [
    {
     "data": {
      "text/plain": [
       "'1.15.5'"
      ]
     },
     "execution_count": 3,
     "metadata": {},
     "output_type": "execute_result"
    }
   ],
   "source": [
    "#make sure the tensorflow version using is 1.15.5\n",
    "tf.__version__"
   ]
  },
  {
   "cell_type": "code",
   "execution_count": 4,
   "metadata": {},
   "outputs": [],
   "source": [
    "dataset_p1 = 'keypoint_part1.csv'\n",
    "dataset_p2 = 'keypoint_part2.csv'\n",
    "dataset_p3 = 'keypoint_part3.csv'\n",
    "dataset_p4 = 'data.csv'\n",
    "model_save_path = 'latestModel'"
   ]
  },
  {
   "cell_type": "code",
   "execution_count": 5,
   "metadata": {},
   "outputs": [
    {
     "data": {
      "text/plain": [
       "'\\n#shuffle data\\nimport pandas as pd\\ndf = pd.read_csv(dataset_p4, header=None)\\nds = df.sample(frac=1)\\nds.to_csv(dataset_p4)\\n'"
      ]
     },
     "execution_count": 5,
     "metadata": {},
     "output_type": "execute_result"
    }
   ],
   "source": [
    "'''\n",
    "#shuffle data\n",
    "import pandas as pd\n",
    "df = pd.read_csv(dataset_p4, header=None)\n",
    "ds = df.sample(frac=1)\n",
    "ds.to_csv(dataset_p4)\n",
    "'''"
   ]
  },
  {
   "cell_type": "code",
   "execution_count": 6,
   "metadata": {},
   "outputs": [],
   "source": [
    "NUM_CLASSES = 29\n",
    "RANDOM_SEED = 42"
   ]
  },
  {
   "cell_type": "code",
   "execution_count": 7,
   "metadata": {},
   "outputs": [],
   "source": [
    "X_dataset1 = np.loadtxt(dataset_p1, delimiter=',', dtype='float32', usecols=list(range(1, (21 * 2) + 1)))\n",
    "y_dataset1 = np.loadtxt(dataset_p1, delimiter=',', dtype='int32', usecols=(0))"
   ]
  },
  {
   "cell_type": "code",
   "execution_count": 8,
   "metadata": {},
   "outputs": [],
   "source": [
    "X_dataset2 = np.loadtxt(dataset_p2, delimiter=',', dtype='float32', usecols=list(range(1, (21 * 2) + 1)))\n",
    "y_dataset2 = np.loadtxt(dataset_p2, delimiter=',', dtype='int32', usecols=(0))\n",
    "y_dataset2 = y_dataset2+10"
   ]
  },
  {
   "cell_type": "code",
   "execution_count": 9,
   "metadata": {},
   "outputs": [],
   "source": [
    "X_dataset3 = np.loadtxt(dataset_p3, delimiter=',', dtype='float32', usecols=list(range(1, (21 * 2) + 1)))\n",
    "y_dataset3 = np.loadtxt(dataset_p3, delimiter=',', dtype='int32', usecols=(0))\n",
    "y_dataset3 = y_dataset3+20"
   ]
  },
  {
   "cell_type": "code",
   "execution_count": 10,
   "metadata": {},
   "outputs": [],
   "source": [
    "X_dataset4 = np.loadtxt(dataset_p4, delimiter=',', dtype='float32', usecols=list(range(1, (21 * 2) + 1)))\n",
    "y_dataset4 = np.loadtxt(dataset_p4, delimiter=',', dtype='int32', usecols=(0))"
   ]
  },
  {
   "cell_type": "code",
   "execution_count": 11,
   "metadata": {},
   "outputs": [],
   "source": [
    "concat_x = np.concatenate((X_dataset1,X_dataset2),axis=0)\n",
    "concat_x = np.concatenate((concat_x,X_dataset3),axis=0)\n",
    "concat_x = np.concatenate((concat_x,X_dataset4),axis=0)"
   ]
  },
  {
   "cell_type": "code",
   "execution_count": 12,
   "metadata": {},
   "outputs": [
    {
     "name": "stdout",
     "output_type": "stream",
     "text": [
      "(70789,)\n"
     ]
    }
   ],
   "source": [
    "concat_y = np.concatenate((y_dataset1,y_dataset2),axis=0)\n",
    "concat_y = np.concatenate((concat_y,y_dataset3),axis=0)\n",
    "concat_y = np.concatenate((concat_y,y_dataset4),axis=0)\n",
    "print(concat_y.shape)"
   ]
  },
  {
   "cell_type": "code",
   "execution_count": 13,
   "metadata": {},
   "outputs": [],
   "source": [
    "X_train, X_test, y_train, y_test = train_test_split(concat_x, concat_y, train_size=0.75, random_state=RANDOM_SEED)"
   ]
  },
  {
   "cell_type": "code",
   "execution_count": 14,
   "metadata": {},
   "outputs": [
    {
     "data": {
      "text/plain": [
       "(70789, 42)"
      ]
     },
     "execution_count": 14,
     "metadata": {},
     "output_type": "execute_result"
    }
   ],
   "source": [
    "concat_x.shape"
   ]
  },
  {
   "cell_type": "code",
   "execution_count": 15,
   "metadata": {},
   "outputs": [],
   "source": [
    "### Validation data\n",
    "x_train_split, x_valid_split, y_train_split, y_valid_split = train_test_split(X_train\n",
    "                                                                              ,y_train\n",
    "                                                                              ,test_size=.2\n",
    "                                                                              ,random_state=RANDOM_SEED\n",
    "                                                                              ,shuffle=True)"
   ]
  },
  {
   "cell_type": "code",
   "execution_count": 58,
   "metadata": {},
   "outputs": [],
   "source": [
    "model = tf.keras.Sequential([\n",
    "    tf.keras.layers.Input((21 * 2, )),\n",
    "    tf.keras.layers.Dense(1024, activation='relu'),\n",
    "    tf.keras.layers.Dropout(0.3),\n",
    "    tf.keras.layers.Dense(512, activation='relu'),\n",
    "    tf.keras.layers.Dropout(0.2),\n",
    "    tf.keras.layers.Dense(29, activation='softmax')\n",
    "])"
   ]
  },
  {
   "cell_type": "code",
   "execution_count": 59,
   "metadata": {
    "scrolled": true
   },
   "outputs": [
    {
     "name": "stdout",
     "output_type": "stream",
     "text": [
      "Model: \"sequential_6\"\n",
      "_________________________________________________________________\n",
      "Layer (type)                 Output Shape              Param #   \n",
      "=================================================================\n",
      "dense_18 (Dense)             (None, 1024)              44032     \n",
      "_________________________________________________________________\n",
      "dropout_12 (Dropout)         (None, 1024)              0         \n",
      "_________________________________________________________________\n",
      "dense_19 (Dense)             (None, 512)               524800    \n",
      "_________________________________________________________________\n",
      "dropout_13 (Dropout)         (None, 512)               0         \n",
      "_________________________________________________________________\n",
      "dense_20 (Dense)             (None, 29)                14877     \n",
      "=================================================================\n",
      "Total params: 583,709\n",
      "Trainable params: 583,709\n",
      "Non-trainable params: 0\n",
      "_________________________________________________________________\n"
     ]
    }
   ],
   "source": [
    "model.summary()  # tf.keras.utils.plot_model(model, show_shapes=True)"
   ]
  },
  {
   "cell_type": "code",
   "execution_count": 60,
   "metadata": {},
   "outputs": [],
   "source": [
    "cp_callback = tf.keras.callbacks.ModelCheckpoint(\n",
    "    model_save_path, verbose=1, save_weights_only=False)"
   ]
  },
  {
   "cell_type": "code",
   "execution_count": 61,
   "metadata": {},
   "outputs": [],
   "source": [
    "model.compile(\n",
    "    optimizer='adam',\n",
    "    loss='sparse_categorical_crossentropy',\n",
    "    metrics=['accuracy']\n",
    ")"
   ]
  },
  {
   "cell_type": "code",
   "execution_count": 63,
   "metadata": {
    "scrolled": true,
    "tags": [
     "outputPrepend"
    ]
   },
   "outputs": [
    {
     "name": "stdout",
     "output_type": "stream",
     "text": [
      "Train on 53091 samples, validate on 17698 samples\n",
      "Epoch 1/1000\n",
      "52736/53091 [============================>.] - ETA: 0s - loss: 1.0385 - acc: 0.7154\n",
      "Epoch 00001: saving model to latestModel\n",
      "53091/53091 [==============================] - 4s 76us/sample - loss: 1.0353 - acc: 0.7163 - val_loss: 0.4551 - val_acc: 0.8933\n",
      "Epoch 2/1000\n",
      "52736/53091 [============================>.] - ETA: 0s - loss: 0.4223 - acc: 0.8845\n",
      "Epoch 00002: saving model to latestModel\n",
      "53091/53091 [==============================] - 4s 77us/sample - loss: 0.4218 - acc: 0.8847 - val_loss: 0.3273 - val_acc: 0.9206\n",
      "Epoch 3/1000\n",
      "52736/53091 [============================>.] - ETA: 0s - loss: 0.3315 - acc: 0.9101\n",
      "Epoch 00003: saving model to latestModel\n",
      "53091/53091 [==============================] - 4s 75us/sample - loss: 0.3309 - acc: 0.9102 - val_loss: 0.2748 - val_acc: 0.9294\n",
      "Epoch 4/1000\n",
      "52736/53091 [============================>.] - ETA: 0s - loss: 0.2820 - acc: 0.9218\n",
      "Epoch 00004: saving model to latestModel\n",
      "53091/53091 [==============================] - 4s 71us/sample - loss: 0.2826 - acc: 0.9215 - val_loss: 0.2470 - val_acc: 0.9345\n",
      "Epoch 5/1000\n",
      "52736/53091 [============================>.] - ETA: 0s - loss: 0.2474 - acc: 0.9291\n",
      "Epoch 00005: saving model to latestModel\n",
      "53091/53091 [==============================] - 3s 63us/sample - loss: 0.2476 - acc: 0.9292 - val_loss: 0.2199 - val_acc: 0.9406\n",
      "Epoch 6/1000\n",
      "52224/53091 [============================>.] - ETA: 0s - loss: 0.2256 - acc: 0.9358\n",
      "Epoch 00006: saving model to latestModel\n",
      "53091/53091 [==============================] - 3s 62us/sample - loss: 0.2260 - acc: 0.9358 - val_loss: 0.2048 - val_acc: 0.9455\n",
      "Epoch 7/1000\n",
      "52736/53091 [============================>.] - ETA: 0s - loss: 0.2079 - acc: 0.9409\n",
      "Epoch 00007: saving model to latestModel\n",
      "53091/53091 [==============================] - 4s 77us/sample - loss: 0.2076 - acc: 0.9410 - val_loss: 0.1919 - val_acc: 0.9474\n",
      "Epoch 8/1000\n",
      "52736/53091 [============================>.] - ETA: 0s - loss: 0.1962 - acc: 0.9425\n",
      "Epoch 00008: saving model to latestModel\n",
      "53091/53091 [==============================] - 4s 73us/sample - loss: 0.1962 - acc: 0.9425 - val_loss: 0.1820 - val_acc: 0.9495\n",
      "Epoch 9/1000\n",
      "52736/53091 [============================>.] - ETA: 0s - loss: 0.1835 - acc: 0.9463\n",
      "Epoch 00009: saving model to latestModel\n",
      "53091/53091 [==============================] - 4s 66us/sample - loss: 0.1834 - acc: 0.9465 - val_loss: 0.1718 - val_acc: 0.9531\n",
      "Epoch 10/1000\n",
      "52224/53091 [============================>.] - ETA: 0s - loss: 0.1756 - acc: 0.9483\n",
      "Epoch 00010: saving model to latestModel\n",
      "53091/53091 [==============================] - 4s 68us/sample - loss: 0.1748 - acc: 0.9486 - val_loss: 0.1669 - val_acc: 0.9534\n",
      "Epoch 11/1000\n",
      "52736/53091 [============================>.] - ETA: 0s - loss: 0.1650 - acc: 0.9502\n",
      "Epoch 00011: saving model to latestModel\n",
      "53091/53091 [==============================] - 4s 66us/sample - loss: 0.1652 - acc: 0.9503 - val_loss: 0.1665 - val_acc: 0.9536\n",
      "Epoch 12/1000\n",
      "52224/53091 [============================>.] - ETA: 0s - loss: 0.1578 - acc: 0.9525\n",
      "Epoch 00012: saving model to latestModel\n",
      "53091/53091 [==============================] - 4s 67us/sample - loss: 0.1582 - acc: 0.9522 - val_loss: 0.1526 - val_acc: 0.9561\n",
      "Epoch 13/1000\n",
      "52224/53091 [============================>.] - ETA: 0s - loss: 0.1538 - acc: 0.9536\n",
      "Epoch 00013: saving model to latestModel\n",
      "53091/53091 [==============================] - 4s 68us/sample - loss: 0.1538 - acc: 0.9536 - val_loss: 0.1490 - val_acc: 0.9568\n",
      "Epoch 14/1000\n",
      "52736/53091 [============================>.] - ETA: 0s - loss: 0.1492 - acc: 0.9545\n",
      "Epoch 00014: saving model to latestModel\n",
      "53091/53091 [==============================] - 4s 67us/sample - loss: 0.1493 - acc: 0.9545 - val_loss: 0.1464 - val_acc: 0.9581\n",
      "Epoch 15/1000\n",
      "52736/53091 [============================>.] - ETA: 0s - loss: 0.1421 - acc: 0.9561\n",
      "Epoch 00015: saving model to latestModel\n",
      "53091/53091 [==============================] - 4s 67us/sample - loss: 0.1418 - acc: 0.9561 - val_loss: 0.1428 - val_acc: 0.9601\n",
      "Epoch 16/1000\n",
      "52224/53091 [============================>.] - ETA: 0s - loss: 0.1339 - acc: 0.9587\n",
      "Epoch 00016: saving model to latestModel\n",
      "53091/53091 [==============================] - 4s 69us/sample - loss: 0.1340 - acc: 0.9586 - val_loss: 0.1361 - val_acc: 0.9616\n",
      "Epoch 17/1000\n",
      "52736/53091 [============================>.] - ETA: 0s - loss: 0.1342 - acc: 0.9586\n",
      "Epoch 00017: saving model to latestModel\n",
      "53091/53091 [==============================] - 4s 69us/sample - loss: 0.1340 - acc: 0.9587 - val_loss: 0.1329 - val_acc: 0.9632\n",
      "Epoch 18/1000\n",
      "52736/53091 [============================>.] - ETA: 0s - loss: 0.1264 - acc: 0.9604\n",
      "Epoch 00018: saving model to latestModel\n",
      "53091/53091 [==============================] - 4s 69us/sample - loss: 0.1265 - acc: 0.9604 - val_loss: 0.1326 - val_acc: 0.9632\n",
      "Epoch 19/1000\n",
      "52224/53091 [============================>.] - ETA: 0s - loss: 0.1225 - acc: 0.9604\n",
      "Epoch 00019: saving model to latestModel\n",
      "53091/53091 [==============================] - 4s 70us/sample - loss: 0.1225 - acc: 0.9604 - val_loss: 0.1283 - val_acc: 0.9638\n",
      "Epoch 20/1000\n",
      "52736/53091 [============================>.] - ETA: 0s - loss: 0.1213 - acc: 0.9620\n",
      "Epoch 00020: saving model to latestModel\n",
      "53091/53091 [==============================] - 4s 68us/sample - loss: 0.1212 - acc: 0.9621 - val_loss: 0.1325 - val_acc: 0.9628\n",
      "Epoch 21/1000\n",
      "52736/53091 [============================>.] - ETA: 0s - loss: 0.1168 - acc: 0.9629\n",
      "Epoch 00021: saving model to latestModel\n",
      "53091/53091 [==============================] - 4s 72us/sample - loss: 0.1168 - acc: 0.9629 - val_loss: 0.1275 - val_acc: 0.9644\n",
      "Epoch 22/1000\n",
      "52224/53091 [============================>.] - ETA: 0s - loss: 0.1144 - acc: 0.9635\n",
      "Epoch 00022: saving model to latestModel\n",
      "53091/53091 [==============================] - 4s 67us/sample - loss: 0.1140 - acc: 0.9636 - val_loss: 0.1228 - val_acc: 0.9653\n",
      "Epoch 23/1000\n",
      "52736/53091 [============================>.] - ETA: 0s - loss: 0.1109 - acc: 0.9642\n",
      "Epoch 00023: saving model to latestModel\n",
      "53091/53091 [==============================] - 4s 68us/sample - loss: 0.1110 - acc: 0.9641 - val_loss: 0.1224 - val_acc: 0.9649\n",
      "Epoch 24/1000\n",
      "52224/53091 [============================>.] - ETA: 0s - loss: 0.1092 - acc: 0.9649\n",
      "Epoch 00024: saving model to latestModel\n",
      "53091/53091 [==============================] - 4s 69us/sample - loss: 0.1091 - acc: 0.9650 - val_loss: 0.1229 - val_acc: 0.9649\n",
      "Epoch 25/1000\n",
      "52736/53091 [============================>.] - ETA: 0s - loss: 0.1053 - acc: 0.9657\n",
      "Epoch 00025: saving model to latestModel\n",
      "53091/53091 [==============================] - 4s 69us/sample - loss: 0.1054 - acc: 0.9657 - val_loss: 0.1216 - val_acc: 0.9656\n",
      "Epoch 26/1000\n",
      "52224/53091 [============================>.] - ETA: 0s - loss: 0.1025 - acc: 0.9677\n",
      "Epoch 00026: saving model to latestModel\n",
      "53091/53091 [==============================] - 4s 68us/sample - loss: 0.1025 - acc: 0.9678 - val_loss: 0.1212 - val_acc: 0.9663\n",
      "Epoch 27/1000\n",
      "52224/53091 [============================>.] - ETA: 0s - loss: 0.1012 - acc: 0.9665\n",
      "Epoch 00027: saving model to latestModel\n",
      "53091/53091 [==============================] - 4s 76us/sample - loss: 0.1014 - acc: 0.9665 - val_loss: 0.1208 - val_acc: 0.9655\n",
      "Epoch 28/1000\n",
      "52224/53091 [============================>.] - ETA: 0s - loss: 0.0981 - acc: 0.9682\n",
      "Epoch 00028: saving model to latestModel\n",
      "53091/53091 [==============================] - 4s 68us/sample - loss: 0.0977 - acc: 0.9684 - val_loss: 0.1190 - val_acc: 0.9674\n",
      "Epoch 29/1000\n",
      "52736/53091 [============================>.] - ETA: 0s - loss: 0.0954 - acc: 0.9683\n",
      "Epoch 00029: saving model to latestModel\n",
      "53091/53091 [==============================] - 4s 68us/sample - loss: 0.0959 - acc: 0.9682 - val_loss: 0.1181 - val_acc: 0.9668\n",
      "Epoch 30/1000\n",
      "52736/53091 [============================>.] - ETA: 0s - loss: 0.0948 - acc: 0.9689\n",
      "Epoch 00030: saving model to latestModel\n",
      "53091/53091 [==============================] - 4s 73us/sample - loss: 0.0947 - acc: 0.9689 - val_loss: 0.1156 - val_acc: 0.9669\n",
      "Epoch 31/1000\n",
      "52736/53091 [============================>.] - ETA: 0s - loss: 0.0930 - acc: 0.9694\n",
      "Epoch 00031: saving model to latestModel\n",
      "53091/53091 [==============================] - 4s 71us/sample - loss: 0.0931 - acc: 0.9693 - val_loss: 0.1155 - val_acc: 0.9670\n"
     ]
    },
    {
     "name": "stdout",
     "output_type": "stream",
     "text": [
      "Epoch 32/1000\n",
      "52224/53091 [============================>.] - ETA: 0s - loss: 0.0919 - acc: 0.9702\n",
      "Epoch 00032: saving model to latestModel\n",
      "53091/53091 [==============================] - 3s 64us/sample - loss: 0.0918 - acc: 0.9703 - val_loss: 0.1128 - val_acc: 0.9682\n",
      "Epoch 33/1000\n",
      "52736/53091 [============================>.] - ETA: 0s - loss: 0.0911 - acc: 0.9697\n",
      "Epoch 00033: saving model to latestModel\n",
      "53091/53091 [==============================] - 3s 62us/sample - loss: 0.0909 - acc: 0.9698 - val_loss: 0.1141 - val_acc: 0.9679\n",
      "Epoch 34/1000\n",
      "52736/53091 [============================>.] - ETA: 0s - loss: 0.0877 - acc: 0.9715\n",
      "Epoch 00034: saving model to latestModel\n",
      "53091/53091 [==============================] - 3s 64us/sample - loss: 0.0876 - acc: 0.9715 - val_loss: 0.1118 - val_acc: 0.9673\n",
      "Epoch 35/1000\n",
      "52736/53091 [============================>.] - ETA: 0s - loss: 0.0880 - acc: 0.9714\n",
      "Epoch 00035: saving model to latestModel\n",
      "53091/53091 [==============================] - 4s 77us/sample - loss: 0.0881 - acc: 0.9714 - val_loss: 0.1165 - val_acc: 0.9680\n",
      "Epoch 36/1000\n",
      "52224/53091 [============================>.] - ETA: 0s - loss: 0.0870 - acc: 0.9715\n",
      "Epoch 00036: saving model to latestModel\n",
      "53091/53091 [==============================] - 4s 74us/sample - loss: 0.0868 - acc: 0.9715 - val_loss: 0.1093 - val_acc: 0.9690\n",
      "Epoch 37/1000\n",
      "52224/53091 [============================>.] - ETA: 0s - loss: 0.0830 - acc: 0.9729\n",
      "Epoch 00037: saving model to latestModel\n",
      "53091/53091 [==============================] - 4s 69us/sample - loss: 0.0831 - acc: 0.9728 - val_loss: 0.1095 - val_acc: 0.9688\n",
      "Epoch 38/1000\n",
      "52736/53091 [============================>.] - ETA: 0s - loss: 0.0808 - acc: 0.9736\n",
      "Epoch 00038: saving model to latestModel\n",
      "53091/53091 [==============================] - 3s 65us/sample - loss: 0.0809 - acc: 0.9735 - val_loss: 0.1095 - val_acc: 0.9703\n",
      "Epoch 39/1000\n",
      "52224/53091 [============================>.] - ETA: 0s - loss: 0.0799 - acc: 0.9731\n",
      "Epoch 00039: saving model to latestModel\n",
      "53091/53091 [==============================] - 4s 69us/sample - loss: 0.0798 - acc: 0.9731 - val_loss: 0.1074 - val_acc: 0.9697\n",
      "Epoch 40/1000\n",
      "52736/53091 [============================>.] - ETA: 0s - loss: 0.0784 - acc: 0.9741\n",
      "Epoch 00040: saving model to latestModel\n",
      "53091/53091 [==============================] - 4s 67us/sample - loss: 0.0785 - acc: 0.9740 - val_loss: 0.1118 - val_acc: 0.9695\n",
      "Epoch 41/1000\n",
      "52224/53091 [============================>.] - ETA: 0s - loss: 0.0773 - acc: 0.9739\n",
      "Epoch 00041: saving model to latestModel\n",
      "53091/53091 [==============================] - 4s 69us/sample - loss: 0.0772 - acc: 0.9739 - val_loss: 0.1159 - val_acc: 0.9672\n",
      "Epoch 42/1000\n",
      "52736/53091 [============================>.] - ETA: 0s - loss: 0.0771 - acc: 0.9741\n",
      "Epoch 00042: saving model to latestModel\n",
      "53091/53091 [==============================] - 3s 65us/sample - loss: 0.0770 - acc: 0.9741 - val_loss: 0.1124 - val_acc: 0.9696\n",
      "Epoch 43/1000\n",
      "52736/53091 [============================>.] - ETA: 0s - loss: 0.0771 - acc: 0.9739\n",
      "Epoch 00043: saving model to latestModel\n",
      "53091/53091 [==============================] - 4s 69us/sample - loss: 0.0771 - acc: 0.9739 - val_loss: 0.1109 - val_acc: 0.9711\n",
      "Epoch 44/1000\n",
      "52736/53091 [============================>.] - ETA: 0s - loss: 0.0740 - acc: 0.9754\n",
      "Epoch 00044: saving model to latestModel\n",
      "53091/53091 [==============================] - 4s 77us/sample - loss: 0.0739 - acc: 0.9754 - val_loss: 0.1112 - val_acc: 0.9703\n",
      "Epoch 45/1000\n",
      "52224/53091 [============================>.] - ETA: 0s - loss: 0.0737 - acc: 0.9752\n",
      "Epoch 00045: saving model to latestModel\n",
      "53091/53091 [==============================] - 4s 67us/sample - loss: 0.0736 - acc: 0.9752 - val_loss: 0.1090 - val_acc: 0.9697\n",
      "Epoch 46/1000\n",
      "52736/53091 [============================>.] - ETA: 0s - loss: 0.0722 - acc: 0.9764\n",
      "Epoch 00046: saving model to latestModel\n",
      "53091/53091 [==============================] - 4s 68us/sample - loss: 0.0722 - acc: 0.9764 - val_loss: 0.1113 - val_acc: 0.9691\n",
      "Epoch 47/1000\n",
      "52224/53091 [============================>.] - ETA: 0s - loss: 0.0721 - acc: 0.9755\n",
      "Epoch 00047: saving model to latestModel\n",
      "53091/53091 [==============================] - 4s 69us/sample - loss: 0.0722 - acc: 0.9754 - val_loss: 0.1121 - val_acc: 0.9692\n",
      "Epoch 48/1000\n",
      "52736/53091 [============================>.] - ETA: 0s - loss: 0.0720 - acc: 0.9751\n",
      "Epoch 00048: saving model to latestModel\n",
      "53091/53091 [==============================] - 4s 66us/sample - loss: 0.0719 - acc: 0.9751 - val_loss: 0.1135 - val_acc: 0.9709\n",
      "Epoch 49/1000\n",
      "52736/53091 [============================>.] - ETA: 0s - loss: 0.0692 - acc: 0.9769\n",
      "Epoch 00049: saving model to latestModel\n",
      "53091/53091 [==============================] - 4s 68us/sample - loss: 0.0692 - acc: 0.9769 - val_loss: 0.1141 - val_acc: 0.9691\n",
      "Epoch 50/1000\n",
      "52224/53091 [============================>.] - ETA: 0s - loss: 0.0687 - acc: 0.9770\n",
      "Epoch 00050: saving model to latestModel\n",
      "53091/53091 [==============================] - 4s 67us/sample - loss: 0.0686 - acc: 0.9770 - val_loss: 0.1066 - val_acc: 0.9712\n",
      "Epoch 51/1000\n",
      "52224/53091 [============================>.] - ETA: 0s - loss: 0.0659 - acc: 0.9780\n",
      "Epoch 00051: saving model to latestModel\n",
      "53091/53091 [==============================] - 4s 70us/sample - loss: 0.0661 - acc: 0.9779 - val_loss: 0.1115 - val_acc: 0.9706\n",
      "Epoch 52/1000\n",
      "52736/53091 [============================>.] - ETA: 0s - loss: 0.0684 - acc: 0.9764\n",
      "Epoch 00052: saving model to latestModel\n",
      "53091/53091 [==============================] - 4s 72us/sample - loss: 0.0683 - acc: 0.9764 - val_loss: 0.1095 - val_acc: 0.9707\n",
      "Epoch 53/1000\n",
      "52736/53091 [============================>.] - ETA: 0s - loss: 0.0639 - acc: 0.9781\n",
      "Epoch 00053: saving model to latestModel\n",
      "53091/53091 [==============================] - 4s 78us/sample - loss: 0.0638 - acc: 0.9782 - val_loss: 0.1107 - val_acc: 0.9710\n",
      "Epoch 54/1000\n",
      "52224/53091 [============================>.] - ETA: 0s - loss: 0.0643 - acc: 0.9784\n",
      "Epoch 00054: saving model to latestModel\n",
      "53091/53091 [==============================] - 4s 78us/sample - loss: 0.0642 - acc: 0.9784 - val_loss: 0.1078 - val_acc: 0.9713\n",
      "Epoch 55/1000\n",
      "52736/53091 [============================>.] - ETA: 0s - loss: 0.0631 - acc: 0.9786\n",
      "Epoch 00055: saving model to latestModel\n",
      "53091/53091 [==============================] - 4s 70us/sample - loss: 0.0632 - acc: 0.9786 - val_loss: 0.1031 - val_acc: 0.9716\n",
      "Epoch 56/1000\n",
      "52736/53091 [============================>.] - ETA: 0s - loss: 0.0613 - acc: 0.9791\n",
      "Epoch 00056: saving model to latestModel\n",
      "53091/53091 [==============================] - 4s 69us/sample - loss: 0.0613 - acc: 0.9791 - val_loss: 0.1083 - val_acc: 0.9703\n",
      "Epoch 57/1000\n",
      "52224/53091 [============================>.] - ETA: 0s - loss: 0.0634 - acc: 0.9787\n",
      "Epoch 00057: saving model to latestModel\n",
      "53091/53091 [==============================] - 4s 70us/sample - loss: 0.0632 - acc: 0.9788 - val_loss: 0.1064 - val_acc: 0.9716\n",
      "Epoch 58/1000\n",
      "52736/53091 [============================>.] - ETA: 0s - loss: 0.0598 - acc: 0.9791\n",
      "Epoch 00058: saving model to latestModel\n",
      "53091/53091 [==============================] - 4s 76us/sample - loss: 0.0599 - acc: 0.9790 - val_loss: 0.1048 - val_acc: 0.9728\n",
      "Epoch 59/1000\n",
      "52224/53091 [============================>.] - ETA: 0s - loss: 0.0623 - acc: 0.9790\n",
      "Epoch 00059: saving model to latestModel\n",
      "53091/53091 [==============================] - 4s 67us/sample - loss: 0.0622 - acc: 0.9791 - val_loss: 0.1047 - val_acc: 0.9723\n",
      "Epoch 60/1000\n",
      "52736/53091 [============================>.] - ETA: 0s - loss: 0.0609 - acc: 0.9789\n",
      "Epoch 00060: saving model to latestModel\n",
      "53091/53091 [==============================] - 4s 68us/sample - loss: 0.0607 - acc: 0.9790 - val_loss: 0.1062 - val_acc: 0.9720\n",
      "Epoch 61/1000\n",
      "52224/53091 [============================>.] - ETA: 0s - loss: 0.0570 - acc: 0.9808\n",
      "Epoch 00061: saving model to latestModel\n",
      "53091/53091 [==============================] - 4s 68us/sample - loss: 0.0567 - acc: 0.9809 - val_loss: 0.1092 - val_acc: 0.9717\n",
      "Epoch 62/1000\n",
      "52736/53091 [============================>.] - ETA: 0s - loss: 0.0594 - acc: 0.9797\n",
      "Epoch 00062: saving model to latestModel\n",
      "53091/53091 [==============================] - 3s 66us/sample - loss: 0.0594 - acc: 0.9798 - val_loss: 0.1065 - val_acc: 0.9729\n"
     ]
    },
    {
     "name": "stdout",
     "output_type": "stream",
     "text": [
      "Epoch 63/1000\n",
      "52224/53091 [============================>.] - ETA: 0s - loss: 0.0560 - acc: 0.9808\n",
      "Epoch 00063: saving model to latestModel\n",
      "53091/53091 [==============================] - 3s 63us/sample - loss: 0.0560 - acc: 0.9808 - val_loss: 0.1092 - val_acc: 0.9725\n",
      "Epoch 64/1000\n",
      "52224/53091 [============================>.] - ETA: 0s - loss: 0.0575 - acc: 0.9805\n",
      "Epoch 00064: saving model to latestModel\n",
      "53091/53091 [==============================] - 3s 62us/sample - loss: 0.0573 - acc: 0.9805 - val_loss: 0.1100 - val_acc: 0.9717\n",
      "Epoch 65/1000\n",
      "52736/53091 [============================>.] - ETA: 0s - loss: 0.0568 - acc: 0.9807\n",
      "Epoch 00065: saving model to latestModel\n",
      "53091/53091 [==============================] - 3s 63us/sample - loss: 0.0567 - acc: 0.9808 - val_loss: 0.1099 - val_acc: 0.9728\n",
      "Epoch 66/1000\n",
      "52736/53091 [============================>.] - ETA: 0s - loss: 0.0538 - acc: 0.9812\n",
      "Epoch 00066: saving model to latestModel\n",
      "53091/53091 [==============================] - 3s 61us/sample - loss: 0.0537 - acc: 0.9812 - val_loss: 0.1079 - val_acc: 0.9718\n",
      "Epoch 67/1000\n",
      "52736/53091 [============================>.] - ETA: 0s - loss: 0.0541 - acc: 0.9816\n",
      "Epoch 00067: saving model to latestModel\n",
      "53091/53091 [==============================] - 3s 61us/sample - loss: 0.0540 - acc: 0.9816 - val_loss: 0.1120 - val_acc: 0.9714\n",
      "Epoch 68/1000\n",
      "52736/53091 [============================>.] - ETA: 0s - loss: 0.0526 - acc: 0.9815\n",
      "Epoch 00068: saving model to latestModel\n",
      "53091/53091 [==============================] - 3s 64us/sample - loss: 0.0527 - acc: 0.9815 - val_loss: 0.1151 - val_acc: 0.9714\n",
      "Epoch 69/1000\n",
      "52224/53091 [============================>.] - ETA: 0s - loss: 0.0537 - acc: 0.9815\n",
      "Epoch 00069: saving model to latestModel\n",
      "53091/53091 [==============================] - 3s 62us/sample - loss: 0.0538 - acc: 0.9814 - val_loss: 0.1159 - val_acc: 0.9711\n",
      "Epoch 70/1000\n",
      "52736/53091 [============================>.] - ETA: 0s - loss: 0.0516 - acc: 0.9823\n",
      "Epoch 00070: saving model to latestModel\n",
      "53091/53091 [==============================] - 3s 62us/sample - loss: 0.0518 - acc: 0.9822 - val_loss: 0.1113 - val_acc: 0.9733\n",
      "Epoch 71/1000\n",
      "52736/53091 [============================>.] - ETA: 0s - loss: 0.0516 - acc: 0.9816\n",
      "Epoch 00071: saving model to latestModel\n",
      "53091/53091 [==============================] - 4s 67us/sample - loss: 0.0517 - acc: 0.9816 - val_loss: 0.1078 - val_acc: 0.9736\n",
      "Epoch 72/1000\n",
      "52736/53091 [============================>.] - ETA: 0s - loss: 0.0494 - acc: 0.9829\n",
      "Epoch 00072: saving model to latestModel\n",
      "53091/53091 [==============================] - 4s 70us/sample - loss: 0.0495 - acc: 0.9828 - val_loss: 0.1097 - val_acc: 0.9730\n",
      "Epoch 73/1000\n",
      "52224/53091 [============================>.] - ETA: 0s - loss: 0.0509 - acc: 0.9829\n",
      "Epoch 00073: saving model to latestModel\n",
      "53091/53091 [==============================] - 3s 66us/sample - loss: 0.0510 - acc: 0.9829 - val_loss: 0.1112 - val_acc: 0.9717\n",
      "Epoch 74/1000\n",
      "52736/53091 [============================>.] - ETA: 0s - loss: 0.0510 - acc: 0.9820\n",
      "Epoch 00074: saving model to latestModel\n",
      "53091/53091 [==============================] - 4s 67us/sample - loss: 0.0509 - acc: 0.9820 - val_loss: 0.1180 - val_acc: 0.9707\n",
      "Epoch 75/1000\n",
      "52736/53091 [============================>.] - ETA: 0s - loss: 0.0491 - acc: 0.9829\n",
      "Epoch 00075: saving model to latestModel\n",
      "53091/53091 [==============================] - 4s 66us/sample - loss: 0.0494 - acc: 0.9829 - val_loss: 0.1106 - val_acc: 0.9733\n",
      "Epoch 76/1000\n",
      "52224/53091 [============================>.] - ETA: 0s - loss: 0.0515 - acc: 0.9823\n",
      "Epoch 00076: saving model to latestModel\n",
      "53091/53091 [==============================] - 4s 67us/sample - loss: 0.0515 - acc: 0.9824 - val_loss: 0.1111 - val_acc: 0.9726\n",
      "Epoch 77/1000\n",
      "52736/53091 [============================>.] - ETA: 0s - loss: 0.0505 - acc: 0.9820\n",
      "Epoch 00077: saving model to latestModel\n",
      "53091/53091 [==============================] - 4s 67us/sample - loss: 0.0505 - acc: 0.9820 - val_loss: 0.1111 - val_acc: 0.9732\n",
      "Epoch 78/1000\n",
      "52736/53091 [============================>.] - ETA: 0s - loss: 0.0513 - acc: 0.9822\n",
      "Epoch 00078: saving model to latestModel\n",
      "53091/53091 [==============================] - 4s 68us/sample - loss: 0.0512 - acc: 0.9822 - val_loss: 0.1100 - val_acc: 0.9725\n",
      "Epoch 79/1000\n",
      "52224/53091 [============================>.] - ETA: 0s - loss: 0.0475 - acc: 0.9834\n",
      "Epoch 00079: saving model to latestModel\n",
      "53091/53091 [==============================] - 4s 76us/sample - loss: 0.0474 - acc: 0.9834 - val_loss: 0.1116 - val_acc: 0.9730\n",
      "Epoch 80/1000\n",
      "52736/53091 [============================>.] - ETA: 0s - loss: 0.0453 - acc: 0.9840\n",
      "Epoch 00080: saving model to latestModel\n",
      "53091/53091 [==============================] - 4s 69us/sample - loss: 0.0452 - acc: 0.9841 - val_loss: 0.1083 - val_acc: 0.9743\n",
      "Epoch 81/1000\n",
      "52736/53091 [============================>.] - ETA: 0s - loss: 0.0480 - acc: 0.9838\n",
      "Epoch 00081: saving model to latestModel\n",
      "53091/53091 [==============================] - 4s 68us/sample - loss: 0.0479 - acc: 0.9838 - val_loss: 0.1124 - val_acc: 0.9717\n",
      "Epoch 82/1000\n",
      "52224/53091 [============================>.] - ETA: 0s - loss: 0.0467 - acc: 0.9840\n",
      "Epoch 00082: saving model to latestModel\n",
      "53091/53091 [==============================] - 4s 71us/sample - loss: 0.0466 - acc: 0.9840 - val_loss: 0.1067 - val_acc: 0.9737\n",
      "Epoch 83/1000\n",
      "52736/53091 [============================>.] - ETA: 0s - loss: 0.0451 - acc: 0.9843\n",
      "Epoch 00083: saving model to latestModel\n",
      "53091/53091 [==============================] - 4s 70us/sample - loss: 0.0450 - acc: 0.9843 - val_loss: 0.1111 - val_acc: 0.9739\n",
      "Epoch 84/1000\n",
      "52224/53091 [============================>.] - ETA: 0s - loss: 0.0449 - acc: 0.9840\n",
      "Epoch 00084: saving model to latestModel\n",
      "53091/53091 [==============================] - 4s 67us/sample - loss: 0.0451 - acc: 0.9839 - val_loss: 0.1104 - val_acc: 0.9746\n",
      "Epoch 85/1000\n",
      "52736/53091 [============================>.] - ETA: 0s - loss: 0.0457 - acc: 0.9842\n",
      "Epoch 00085: saving model to latestModel\n",
      "53091/53091 [==============================] - 4s 74us/sample - loss: 0.0457 - acc: 0.9842 - val_loss: 0.1098 - val_acc: 0.9738\n",
      "Epoch 86/1000\n",
      "52736/53091 [============================>.] - ETA: 0s - loss: 0.0449 - acc: 0.9848\n",
      "Epoch 00086: saving model to latestModel\n",
      "53091/53091 [==============================] - 4s 70us/sample - loss: 0.0449 - acc: 0.9848 - val_loss: 0.1081 - val_acc: 0.9749\n",
      "Epoch 87/1000\n",
      "52736/53091 [============================>.] - ETA: 0s - loss: 0.0406 - acc: 0.9861\n",
      "Epoch 00087: saving model to latestModel\n",
      "53091/53091 [==============================] - 4s 69us/sample - loss: 0.0405 - acc: 0.9861 - val_loss: 0.1111 - val_acc: 0.9736\n",
      "Epoch 88/1000\n",
      "52736/53091 [============================>.] - ETA: 0s - loss: 0.0441 - acc: 0.9851\n",
      "Epoch 00088: saving model to latestModel\n",
      "53091/53091 [==============================] - 4s 69us/sample - loss: 0.0440 - acc: 0.9852 - val_loss: 0.1144 - val_acc: 0.9734\n",
      "Epoch 89/1000\n",
      "52224/53091 [============================>.] - ETA: 0s - loss: 0.0417 - acc: 0.9852\n",
      "Epoch 00089: saving model to latestModel\n",
      "53091/53091 [==============================] - 4s 69us/sample - loss: 0.0418 - acc: 0.9851 - val_loss: 0.1138 - val_acc: 0.9743\n",
      "Epoch 90/1000\n",
      "52736/53091 [============================>.] - ETA: 0s - loss: 0.0448 - acc: 0.9845\n",
      "Epoch 00090: saving model to latestModel\n",
      "53091/53091 [==============================] - 4s 68us/sample - loss: 0.0448 - acc: 0.9845 - val_loss: 0.1185 - val_acc: 0.9720\n",
      "Epoch 91/1000\n",
      "52224/53091 [============================>.] - ETA: 0s - loss: 0.0435 - acc: 0.9852\n",
      "Epoch 00091: saving model to latestModel\n",
      "53091/53091 [==============================] - 4s 67us/sample - loss: 0.0435 - acc: 0.9853 - val_loss: 0.1136 - val_acc: 0.9727\n",
      "Epoch 92/1000\n",
      "52736/53091 [============================>.] - ETA: 0s - loss: 0.0406 - acc: 0.9858\n",
      "Epoch 00092: saving model to latestModel\n",
      "53091/53091 [==============================] - 4s 69us/sample - loss: 0.0404 - acc: 0.9858 - val_loss: 0.1136 - val_acc: 0.9740\n",
      "Epoch 93/1000\n",
      "52224/53091 [============================>.] - ETA: 0s - loss: 0.0401 - acc: 0.9859\n",
      "Epoch 00093: saving model to latestModel\n",
      "53091/53091 [==============================] - 4s 69us/sample - loss: 0.0399 - acc: 0.9859 - val_loss: 0.1124 - val_acc: 0.9736\n"
     ]
    },
    {
     "name": "stdout",
     "output_type": "stream",
     "text": [
      "Epoch 94/1000\n",
      "52736/53091 [============================>.] - ETA: 0s - loss: 0.0414 - acc: 0.9854\n",
      "Epoch 00094: saving model to latestModel\n",
      "53091/53091 [==============================] - 3s 63us/sample - loss: 0.0414 - acc: 0.9853 - val_loss: 0.1141 - val_acc: 0.9731\n",
      "Epoch 95/1000\n",
      "52736/53091 [============================>.] - ETA: 0s - loss: 0.0403 - acc: 0.9859\n",
      "Epoch 00095: saving model to latestModel\n",
      "53091/53091 [==============================] - 3s 62us/sample - loss: 0.0403 - acc: 0.9859 - val_loss: 0.1166 - val_acc: 0.9723\n",
      "Epoch 96/1000\n",
      "52736/53091 [============================>.] - ETA: 0s - loss: 0.0407 - acc: 0.9855\n",
      "Epoch 00096: saving model to latestModel\n",
      "53091/53091 [==============================] - 3s 63us/sample - loss: 0.0407 - acc: 0.9855 - val_loss: 0.1136 - val_acc: 0.9746\n"
     ]
    }
   ],
   "source": [
    "history = model.fit(\n",
    "    X_train,\n",
    "    y_train,\n",
    "    epochs=1000,\n",
    "    batch_size=512,\n",
    "    validation_data=(X_test, y_test),\n",
    "    callbacks=[cp_callback,tf.keras.callbacks.EarlyStopping(monitor='val_acc', patience=10)]\n",
    ")"
   ]
  },
  {
   "cell_type": "code",
   "execution_count": 64,
   "metadata": {},
   "outputs": [
    {
     "name": "stdout",
     "output_type": "stream",
     "text": [
      "17698/17698 [==============================] - 0s 17us/sample - loss: 0.1136 - acc: 0.9746\n"
     ]
    }
   ],
   "source": [
    "val_loss, val_acc = model.evaluate(X_test, y_test, batch_size=512)"
   ]
  },
  {
   "cell_type": "code",
   "execution_count": 65,
   "metadata": {},
   "outputs": [
    {
     "data": {
      "image/png": "[encoded data removed]",
      "text/plain": [
       "<Figure size 576x360 with 1 Axes>"
      ]
     },
     "metadata": {
      "needs_background": "light"
     },
     "output_type": "display_data"
    }
   ],
   "source": [
    "import matplotlib.pyplot as plt\n",
    "import pandas as pd\n",
    "pd.DataFrame(history.history).plot(figsize=(8,5))\n",
    "plt.show()"
   ]
  },
  {
   "cell_type": "markdown",
   "metadata": {},
   "source": [
    "# Save Model"
   ]
  },
  {
   "cell_type": "code",
   "execution_count": 66,
   "metadata": {},
   "outputs": [],
   "source": [
    "model.save(model_save_path, include_optimizer=False)"
   ]
  },
  {
   "cell_type": "markdown",
   "metadata": {},
   "source": [
    "# Visualize"
   ]
  },
  {
   "cell_type": "code",
   "execution_count": 67,
   "metadata": {},
   "outputs": [
    {
     "name": "stdout",
     "output_type": "stream",
     "text": [
      "WARNING:tensorflow:From /Users/pranav/opt/anaconda3/lib/python3.7/site-packages/tensorflow_core/python/ops/init_ops.py:97: calling GlorotUniform.__init__ (from tensorflow.python.ops.init_ops) with dtype is deprecated and will be removed in a future version.\n",
      "Instructions for updating:\n",
      "Call initializer instance with the dtype argument instead of passing it to the constructor\n",
      "WARNING:tensorflow:From /Users/pranav/opt/anaconda3/lib/python3.7/site-packages/tensorflow_core/python/ops/init_ops.py:97: calling Zeros.__init__ (from tensorflow.python.ops.init_ops) with dtype is deprecated and will be removed in a future version.\n",
      "Instructions for updating:\n",
      "Call initializer instance with the dtype argument instead of passing it to the constructor\n",
      "WARNING:tensorflow:No training configuration found in save file: the model was *not* compiled. Compile it manually.\n"
     ]
    }
   ],
   "source": [
    "model = tf.keras.models.load_model(model_save_path)\n",
    "predict_result = model.predict(np.array([X_test[0]]))"
   ]
  },
  {
   "cell_type": "code",
   "execution_count": 68,
   "metadata": {
    "scrolled": false
   },
   "outputs": [
    {
     "data": {
      "image/png": "[encoded data removed]",
      "text/plain": [
       "<Figure size 1440x1440 with 2 Axes>"
      ]
     },
     "metadata": {
      "needs_background": "light"
     },
     "output_type": "display_data"
    },
    {
     "name": "stdout",
     "output_type": "stream",
     "text": [
      "Classification Report\n",
      "              precision    recall  f1-score   support\n",
      "\n",
      "           0       0.94      0.97      0.96       623\n",
      "           1       0.98      0.98      0.98       685\n",
      "           2       0.99      1.00      0.99       585\n",
      "           3       0.99      0.98      0.99       706\n",
      "           4       0.97      0.98      0.97       647\n",
      "           5       0.99      0.99      0.99       752\n",
      "           6       0.98      0.98      0.98       683\n",
      "           7       0.99      0.98      0.99       685\n",
      "           8       0.97      0.97      0.97       678\n",
      "           9       0.99      0.99      0.99       673\n",
      "          10       0.98      0.98      0.98       670\n",
      "          11       0.99      0.99      0.99       735\n",
      "          12       0.96      0.93      0.94       462\n",
      "          13       0.94      0.95      0.94       385\n",
      "          14       0.97      0.98      0.98       633\n",
      "          15       0.98      0.98      0.98       592\n",
      "          16       0.98      0.99      0.99       528\n",
      "          17       0.98      0.92      0.95       708\n",
      "          18       0.98      0.97      0.98       634\n",
      "          19       0.97      0.96      0.97       694\n",
      "          20       0.90      0.97      0.93       650\n",
      "          21       0.97      0.96      0.96       644\n",
      "          22       0.99      0.96      0.97       708\n",
      "          23       0.97      0.96      0.96       666\n",
      "          24       0.98      0.98      0.98       675\n",
      "          25       0.99      0.99      0.99       703\n",
      "          26       0.98      0.98      0.98       469\n",
      "          27       0.97      1.00      0.98       424\n",
      "          28       1.00      1.00      1.00         1\n",
      "\n",
      "    accuracy                           0.97     17698\n",
      "   macro avg       0.97      0.98      0.97     17698\n",
      "weighted avg       0.97      0.97      0.97     17698\n",
      "\n"
     ]
    }
   ],
   "source": [
    "import pandas as pd\n",
    "import seaborn as sns\n",
    "import matplotlib.pyplot as plt\n",
    "from sklearn.metrics import confusion_matrix, classification_report\n",
    "\n",
    "def print_confusion_matrix(y_true, y_pred, report=True):\n",
    "    labels = sorted(list(set(y_true)))\n",
    "    cmx_data = confusion_matrix(y_true, y_pred, labels=labels)\n",
    "    \n",
    "    df_cmx = pd.DataFrame(cmx_data, index=labels, columns=labels)\n",
    " \n",
    "    fig, ax = plt.subplots(figsize=(20, 20))\n",
    "    sns.heatmap(df_cmx, annot=True, fmt='g' ,square=False)\n",
    "    ax.set_ylim(len(set(y_true)), 0)\n",
    "    plt.show()\n",
    "    \n",
    "    if report:\n",
    "        print('Classification Report')\n",
    "        print(classification_report(y_test, y_pred))\n",
    "\n",
    "Y_pred = model.predict(X_test)\n",
    "y_pred = np.argmax(Y_pred, axis=1)\n",
    "\n",
    "print_confusion_matrix(y_test, y_pred)"
   ]
  },
  {
   "cell_type": "code",
   "execution_count": null,
   "metadata": {},
   "outputs": [],
   "source": []
  }
 ],
 "metadata": {
  "kernelspec": {
   "display_name": "Python 3",
   "language": "python",
   "name": "python3"
  },
  "language_info": {
   "codemirror_mode": {
    "name": "ipython",
    "version": 3
   },
   "file_extension": ".py",
   "mimetype": "text/x-python",
   "name": "python",
   "nbconvert_exporter": "python",
   "pygments_lexer": "ipython3",
   "version": "3.8.3"
  }
 },
 "nbformat": 4,
 "nbformat_minor": 4
}
