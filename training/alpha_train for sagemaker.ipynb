{
 "cells": [
  {
   "cell_type": "markdown",
   "metadata": {},
   "source": [
    "# preferable do the following in a virtual environment as tensorflow needs to be downgraded to v1 to be compatible with sagemaker"
   ]
  },
  {
   "cell_type": "code",
   "execution_count": null,
   "metadata": {},
   "outputs": [],
   "source": [
    "!pip install tensorflow==1.15.5"
   ]
  },
  {
   "cell_type": "code",
   "execution_count": 17,
   "metadata": {},
   "outputs": [
    {
     "name": "stdout",
     "output_type": "stream",
     "text": [
      "Collecting tensorflow==2.8.0\n",
      "  Downloading tensorflow-2.8.0-cp38-cp38-macosx_10_14_x86_64.whl (217.4 MB)\n",
      "\u001b[K     |████████████████████████████████| 217.4 MB 9.4 kB/s  eta 0:00:01  |▏                               | 1.2 MB 279 kB/s eta 0:12:54     |██▉                             | 19.0 MB 16.1 MB/s eta 0:00:13     |█████████████████████████████   | 197.7 MB 16.8 MB/s eta 0:00:02\n",
      "\u001b[?25hCollecting numpy>=1.20\n",
      "  Downloading numpy-1.22.3-cp38-cp38-macosx_10_14_x86_64.whl (17.6 MB)\n",
      "\u001b[K     |████████████████████████████████| 17.6 MB 12.1 MB/s eta 0:00:01\n",
      "\u001b[?25hRequirement already satisfied: setuptools in /Users/prw3100/anaconda3/lib/python3.8/site-packages (from tensorflow==2.8.0) (49.2.0.post20200714)\n",
      "Requirement already satisfied: grpcio<2.0,>=1.24.3 in /Users/prw3100/anaconda3/lib/python3.8/site-packages (from tensorflow==2.8.0) (1.41.1)\n",
      "Requirement already satisfied: gast>=0.2.1 in /Users/prw3100/anaconda3/lib/python3.8/site-packages (from tensorflow==2.8.0) (0.4.0)\n",
      "Requirement already satisfied: absl-py>=0.4.0 in /Users/prw3100/anaconda3/lib/python3.8/site-packages (from tensorflow==2.8.0) (0.15.0)\n",
      "Requirement already satisfied: opt-einsum>=2.3.2 in /Users/prw3100/anaconda3/lib/python3.8/site-packages (from tensorflow==2.8.0) (3.3.0)\n",
      "Requirement already satisfied: six>=1.12.0 in /Users/prw3100/anaconda3/lib/python3.8/site-packages (from tensorflow==2.8.0) (1.15.0)\n",
      "Collecting keras<2.9,>=2.8.0rc0\n",
      "  Downloading keras-2.8.0-py2.py3-none-any.whl (1.4 MB)\n",
      "\u001b[K     |████████████████████████████████| 1.4 MB 13.9 MB/s eta 0:00:01\n",
      "\u001b[?25hRequirement already satisfied: typing-extensions>=3.6.6 in /Users/prw3100/anaconda3/lib/python3.8/site-packages (from tensorflow==2.8.0) (3.7.4.2)\n",
      "Requirement already satisfied: termcolor>=1.1.0 in /Users/prw3100/anaconda3/lib/python3.8/site-packages (from tensorflow==2.8.0) (1.1.0)\n",
      "Requirement already satisfied: flatbuffers>=1.12 in /Users/prw3100/anaconda3/lib/python3.8/site-packages (from tensorflow==2.8.0) (2.0)\n",
      "Collecting tensorboard<2.9,>=2.8\n",
      "  Downloading tensorboard-2.8.0-py3-none-any.whl (5.8 MB)\n",
      "\u001b[K     |████████████████████████████████| 5.8 MB 14.6 MB/s eta 0:00:01\n",
      "\u001b[?25hRequirement already satisfied: keras-preprocessing>=1.1.1 in /Users/prw3100/anaconda3/lib/python3.8/site-packages (from tensorflow==2.8.0) (1.1.2)\n",
      "Requirement already satisfied: google-pasta>=0.1.1 in /Users/prw3100/anaconda3/lib/python3.8/site-packages (from tensorflow==2.8.0) (0.2.0)\n",
      "Collecting tensorflow-io-gcs-filesystem>=0.23.1\n",
      "  Downloading tensorflow_io_gcs_filesystem-0.25.0-cp38-cp38-macosx_10_14_x86_64.whl (1.6 MB)\n",
      "\u001b[K     |████████████████████████████████| 1.6 MB 10.4 MB/s eta 0:00:01\n",
      "\u001b[?25hRequirement already satisfied: wrapt>=1.11.0 in /Users/prw3100/anaconda3/lib/python3.8/site-packages (from tensorflow==2.8.0) (1.11.2)\n",
      "Requirement already satisfied: h5py>=2.9.0 in /Users/prw3100/anaconda3/lib/python3.8/site-packages (from tensorflow==2.8.0) (2.10.0)\n",
      "Collecting tf-estimator-nightly==2.8.0.dev2021122109\n",
      "  Downloading tf_estimator_nightly-2.8.0.dev2021122109-py2.py3-none-any.whl (462 kB)\n",
      "\u001b[K     |████████████████████████████████| 462 kB 15.9 MB/s eta 0:00:01\n",
      "\u001b[?25hRequirement already satisfied: libclang>=9.0.1 in /Users/prw3100/anaconda3/lib/python3.8/site-packages (from tensorflow==2.8.0) (12.0.0)\n",
      "Requirement already satisfied: protobuf>=3.9.2 in /Users/prw3100/anaconda3/lib/python3.8/site-packages (from tensorflow==2.8.0) (3.19.1)\n",
      "Requirement already satisfied: astunparse>=1.6.0 in /Users/prw3100/anaconda3/lib/python3.8/site-packages (from tensorflow==2.8.0) (1.6.3)\n",
      "Requirement already satisfied: google-auth<3,>=1.6.3 in /Users/prw3100/anaconda3/lib/python3.8/site-packages (from tensorboard<2.9,>=2.8->tensorflow==2.8.0) (2.3.3)\n",
      "Requirement already satisfied: tensorboard-data-server<0.7.0,>=0.6.0 in /Users/prw3100/anaconda3/lib/python3.8/site-packages (from tensorboard<2.9,>=2.8->tensorflow==2.8.0) (0.6.1)\n",
      "Requirement already satisfied: wheel>=0.26 in /Users/prw3100/anaconda3/lib/python3.8/site-packages (from tensorboard<2.9,>=2.8->tensorflow==2.8.0) (0.34.2)\n",
      "Requirement already satisfied: tensorboard-plugin-wit>=1.6.0 in /Users/prw3100/anaconda3/lib/python3.8/site-packages (from tensorboard<2.9,>=2.8->tensorflow==2.8.0) (1.8.0)\n",
      "Requirement already satisfied: markdown>=2.6.8 in /Users/prw3100/anaconda3/lib/python3.8/site-packages (from tensorboard<2.9,>=2.8->tensorflow==2.8.0) (3.3.4)\n",
      "Requirement already satisfied: google-auth-oauthlib<0.5,>=0.4.1 in /Users/prw3100/anaconda3/lib/python3.8/site-packages (from tensorboard<2.9,>=2.8->tensorflow==2.8.0) (0.4.6)\n",
      "Requirement already satisfied: requests<3,>=2.21.0 in /Users/prw3100/anaconda3/lib/python3.8/site-packages (from tensorboard<2.9,>=2.8->tensorflow==2.8.0) (2.24.0)\n",
      "Requirement already satisfied: werkzeug>=0.11.15 in /Users/prw3100/anaconda3/lib/python3.8/site-packages (from tensorboard<2.9,>=2.8->tensorflow==2.8.0) (1.0.1)\n",
      "Requirement already satisfied: cachetools<5.0,>=2.0.0 in /Users/prw3100/anaconda3/lib/python3.8/site-packages (from google-auth<3,>=1.6.3->tensorboard<2.9,>=2.8->tensorflow==2.8.0) (4.2.4)\n",
      "Requirement already satisfied: pyasn1-modules>=0.2.1 in /Users/prw3100/anaconda3/lib/python3.8/site-packages (from google-auth<3,>=1.6.3->tensorboard<2.9,>=2.8->tensorflow==2.8.0) (0.2.8)\n",
      "Requirement already satisfied: rsa<5,>=3.1.4; python_version >= \"3.6\" in /Users/prw3100/anaconda3/lib/python3.8/site-packages (from google-auth<3,>=1.6.3->tensorboard<2.9,>=2.8->tensorflow==2.8.0) (4.7.2)\n",
      "Requirement already satisfied: requests-oauthlib>=0.7.0 in /Users/prw3100/anaconda3/lib/python3.8/site-packages (from google-auth-oauthlib<0.5,>=0.4.1->tensorboard<2.9,>=2.8->tensorflow==2.8.0) (1.3.0)\n",
      "Requirement already satisfied: chardet<4,>=3.0.2 in /Users/prw3100/anaconda3/lib/python3.8/site-packages (from requests<3,>=2.21.0->tensorboard<2.9,>=2.8->tensorflow==2.8.0) (3.0.4)\n",
      "Requirement already satisfied: idna<3,>=2.5 in /Users/prw3100/anaconda3/lib/python3.8/site-packages (from requests<3,>=2.21.0->tensorboard<2.9,>=2.8->tensorflow==2.8.0) (2.10)\n",
      "Requirement already satisfied: certifi>=2017.4.17 in /Users/prw3100/anaconda3/lib/python3.8/site-packages (from requests<3,>=2.21.0->tensorboard<2.9,>=2.8->tensorflow==2.8.0) (2020.6.20)\n",
      "Requirement already satisfied: urllib3!=1.25.0,!=1.25.1,<1.26,>=1.21.1 in /Users/prw3100/anaconda3/lib/python3.8/site-packages (from requests<3,>=2.21.0->tensorboard<2.9,>=2.8->tensorflow==2.8.0) (1.25.9)\n",
      "Requirement already satisfied: pyasn1<0.5.0,>=0.4.6 in /Users/prw3100/anaconda3/lib/python3.8/site-packages (from pyasn1-modules>=0.2.1->google-auth<3,>=1.6.3->tensorboard<2.9,>=2.8->tensorflow==2.8.0) (0.4.8)\n",
      "Requirement already satisfied: oauthlib>=3.0.0 in /Users/prw3100/anaconda3/lib/python3.8/site-packages (from requests-oauthlib>=0.7.0->google-auth-oauthlib<0.5,>=0.4.1->tensorboard<2.9,>=2.8->tensorflow==2.8.0) (3.1.1)\n",
      "Installing collected packages: numpy, keras, tensorboard, tensorflow-io-gcs-filesystem, tf-estimator-nightly, tensorflow\n",
      "  Attempting uninstall: numpy\n",
      "    Found existing installation: numpy 1.19.2\n",
      "    Uninstalling numpy-1.19.2:\n",
      "      Successfully uninstalled numpy-1.19.2\n",
      "  Attempting uninstall: keras\n",
      "    Found existing installation: keras 2.7.0\n",
      "    Uninstalling keras-2.7.0:\n",
      "      Successfully uninstalled keras-2.7.0\n",
      "  Attempting uninstall: tensorboard\n",
      "    Found existing installation: tensorboard 2.7.0\n",
      "    Uninstalling tensorboard-2.7.0:\n",
      "      Successfully uninstalled tensorboard-2.7.0\n",
      "  Attempting uninstall: tensorflow-io-gcs-filesystem\n",
      "    Found existing installation: tensorflow-io-gcs-filesystem 0.21.0\n",
      "    Uninstalling tensorflow-io-gcs-filesystem-0.21.0:\n",
      "      Successfully uninstalled tensorflow-io-gcs-filesystem-0.21.0\n",
      "  Attempting uninstall: tensorflow\n",
      "    Found existing installation: tensorflow 2.7.0\n",
      "    Uninstalling tensorflow-2.7.0:\n",
      "      Successfully uninstalled tensorflow-2.7.0\n",
      "Successfully installed keras-2.8.0 numpy-1.22.3 tensorboard-2.8.0 tensorflow-2.8.0 tensorflow-io-gcs-filesystem-0.25.0 tf-estimator-nightly-2.8.0.dev2021122109\n",
      "Note: you may need to restart the kernel to use updated packages.\n"
     ]
    }
   ],
   "source": [
    "pip install tensorflow==2.8.0"
   ]
  },
  {
   "cell_type": "code",
   "execution_count": null,
   "metadata": {},
   "outputs": [],
   "source": []
  },
  {
   "cell_type": "code",
   "execution_count": 1,
   "metadata": {},
   "outputs": [],
   "source": [
    "import csv\n",
    "import numpy as np\n",
    "import tensorflow as tf\n",
    "from sklearn.model_selection import train_test_split\n",
    "#from keras.models import Sequential\n",
    "#from keras import models, layers\n",
    "#from keras.layers import Conv2D, MaxPooling2D, Flatten, Dense, Dropout, BatchNormalization, LSTM, GRU, Bidirectional"
   ]
  },
  {
   "cell_type": "code",
   "execution_count": null,
   "metadata": {},
   "outputs": [],
   "source": []
  },
  {
   "cell_type": "code",
   "execution_count": 2,
   "metadata": {},
   "outputs": [
    {
     "data": {
      "text/plain": [
       "'2.7.0'"
      ]
     },
     "execution_count": 2,
     "metadata": {},
     "output_type": "execute_result"
    }
   ],
   "source": [
    "#make sure the tensorflow version using is 1.15.5\n",
    "tf.__version__"
   ]
  },
  {
   "cell_type": "code",
   "execution_count": 3,
   "metadata": {},
   "outputs": [],
   "source": [
    "dataset_p1 = 'keypoint_part1.csv'\n",
    "dataset_p2 = 'keypoint_part2.csv'\n",
    "dataset_p3 = 'keypoint_part3.csv'\n",
    "dataset_p4 = 'data.csv'\n",
    "model_save_path = 'newModel.hdf5'"
   ]
  },
  {
   "cell_type": "code",
   "execution_count": 4,
   "metadata": {},
   "outputs": [
    {
     "data": {
      "text/plain": [
       "'\\n#shuffle data\\nimport pandas as pd\\ndf = pd.read_csv(dataset_p4, header=None)\\nds = df.sample(frac=1)\\nds.to_csv(dataset_p4)\\n'"
      ]
     },
     "execution_count": 4,
     "metadata": {},
     "output_type": "execute_result"
    }
   ],
   "source": [
    "'''\n",
    "#shuffle data\n",
    "import pandas as pd\n",
    "df = pd.read_csv(dataset_p4, header=None)\n",
    "ds = df.sample(frac=1)\n",
    "ds.to_csv(dataset_p4)\n",
    "'''"
   ]
  },
  {
   "cell_type": "code",
   "execution_count": 5,
   "metadata": {},
   "outputs": [],
   "source": [
    "NUM_CLASSES = 29\n",
    "RANDOM_SEED = 42"
   ]
  },
  {
   "cell_type": "code",
   "execution_count": 6,
   "metadata": {},
   "outputs": [],
   "source": [
    "X_dataset1 = np.loadtxt(dataset_p1, delimiter=',', dtype='float32', usecols=list(range(1, (21 * 2) + 1)))\n",
    "y_dataset1 = np.loadtxt(dataset_p1, delimiter=',', dtype='int32', usecols=(0))"
   ]
  },
  {
   "cell_type": "code",
   "execution_count": 7,
   "metadata": {},
   "outputs": [],
   "source": [
    "X_dataset2 = np.loadtxt(dataset_p2, delimiter=',', dtype='float32', usecols=list(range(1, (21 * 2) + 1)))\n",
    "y_dataset2 = np.loadtxt(dataset_p2, delimiter=',', dtype='int32', usecols=(0))\n",
    "y_dataset2 = y_dataset2+10"
   ]
  },
  {
   "cell_type": "code",
   "execution_count": 8,
   "metadata": {},
   "outputs": [],
   "source": [
    "X_dataset3 = np.loadtxt(dataset_p3, delimiter=',', dtype='float32', usecols=list(range(1, (21 * 2) + 1)))\n",
    "y_dataset3 = np.loadtxt(dataset_p3, delimiter=',', dtype='int32', usecols=(0))\n",
    "y_dataset3 = y_dataset3+20"
   ]
  },
  {
   "cell_type": "code",
   "execution_count": 9,
   "metadata": {},
   "outputs": [],
   "source": [
    "X_dataset4 = np.loadtxt(dataset_p4, delimiter=',', dtype='float32', usecols=list(range(1, (21 * 2) + 1)))\n",
    "y_dataset4 = np.loadtxt(dataset_p4, delimiter=',', dtype='int32', usecols=(0))"
   ]
  },
  {
   "cell_type": "code",
   "execution_count": 10,
   "metadata": {},
   "outputs": [],
   "source": [
    "concat_x = np.concatenate((X_dataset1,X_dataset2),axis=0)\n",
    "concat_x = np.concatenate((concat_x,X_dataset3),axis=0)\n",
    "concat_x = np.concatenate((concat_x,X_dataset4),axis=0)"
   ]
  },
  {
   "cell_type": "code",
   "execution_count": 11,
   "metadata": {},
   "outputs": [
    {
     "name": "stdout",
     "output_type": "stream",
     "text": [
      "(70789,)\n"
     ]
    }
   ],
   "source": [
    "concat_y = np.concatenate((y_dataset1,y_dataset2),axis=0)\n",
    "concat_y = np.concatenate((concat_y,y_dataset3),axis=0)\n",
    "concat_y = np.concatenate((concat_y,y_dataset4),axis=0)\n",
    "print(concat_y.shape)"
   ]
  },
  {
   "cell_type": "code",
   "execution_count": 12,
   "metadata": {},
   "outputs": [],
   "source": [
    "X_train, X_test, y_train, y_test = train_test_split(concat_x, concat_y, train_size=0.75, random_state=RANDOM_SEED)"
   ]
  },
  {
   "cell_type": "code",
   "execution_count": 13,
   "metadata": {},
   "outputs": [
    {
     "data": {
      "text/plain": [
       "(70789, 42)"
      ]
     },
     "execution_count": 13,
     "metadata": {},
     "output_type": "execute_result"
    }
   ],
   "source": [
    "concat_x.shape"
   ]
  },
  {
   "cell_type": "code",
   "execution_count": 14,
   "metadata": {},
   "outputs": [],
   "source": [
    "### Validation data\n",
    "x_train_split, x_valid_split, y_train_split, y_valid_split = train_test_split(X_train\n",
    "                                                                              ,y_train\n",
    "                                                                              ,test_size=.2\n",
    "                                                                              ,random_state=RANDOM_SEED\n",
    "                                                                              ,shuffle=True)"
   ]
  },
  {
   "cell_type": "code",
   "execution_count": 42,
   "metadata": {},
   "outputs": [],
   "source": [
    "\n",
    "model = tf.keras.Sequential([\n",
    "    tf.keras.layers.Input((21 * 2, )),\n",
    "    tf.keras.layers.Dense(1024, activation='relu'),\n",
    "    tf.keras.layers.Dropout(0.3),\n",
    "    tf.keras.layers.Dense(512, activation='relu'),\n",
    "    tf.keras.layers.Dropout(0.2),\n",
    "    tf.keras.layers.Dense(29, activation='softmax')\n",
    "])"
   ]
  },
  {
   "cell_type": "code",
   "execution_count": null,
   "metadata": {},
   "outputs": [],
   "source": []
  },
  {
   "cell_type": "code",
   "execution_count": 43,
   "metadata": {},
   "outputs": [
    {
     "name": "stdout",
     "output_type": "stream",
     "text": [
      "Model: \"sequential_1\"\n",
      "_________________________________________________________________\n",
      "Layer (type)                 Output Shape              Param #   \n",
      "=================================================================\n",
      "dense_2 (Dense)              (None, 1024)              44032     \n",
      "_________________________________________________________________\n",
      "dropout_1 (Dropout)          (None, 1024)              0         \n",
      "_________________________________________________________________\n",
      "dense_3 (Dense)              (None, 512)               524800    \n",
      "_________________________________________________________________\n",
      "dropout_2 (Dropout)          (None, 512)               0         \n",
      "_________________________________________________________________\n",
      "dense_4 (Dense)              (None, 29)                14877     \n",
      "=================================================================\n",
      "Total params: 583,709\n",
      "Trainable params: 583,709\n",
      "Non-trainable params: 0\n",
      "_________________________________________________________________\n"
     ]
    }
   ],
   "source": [
    "model.summary()  # tf.keras.utils.plot_model(model, show_shapes=True)"
   ]
  },
  {
   "cell_type": "code",
   "execution_count": 44,
   "metadata": {},
   "outputs": [],
   "source": [
    "\n",
    "cp_callback = tf.keras.callbacks.ModelCheckpoint(\n",
    "    model_save_path, verbose=1, save_weights_only=False)"
   ]
  },
  {
   "cell_type": "code",
   "execution_count": 45,
   "metadata": {},
   "outputs": [],
   "source": [
    "model.compile(\n",
    "    optimizer='adam',\n",
    "    loss='sparse_categorical_crossentropy',\n",
    "    metrics=['accuracy']\n",
    ")"
   ]
  },
  {
   "cell_type": "code",
   "execution_count": 46,
   "metadata": {},
   "outputs": [],
   "source": [
    "#import numpy as np\n",
    "#series_input_train = np.expand_dims(X_train, axis=-1)"
   ]
  },
  {
   "cell_type": "code",
   "execution_count": 47,
   "metadata": {
    "scrolled": true,
    "tags": [
     "outputPrepend"
    ]
   },
   "outputs": [
    {
     "name": "stdout",
     "output_type": "stream",
     "text": [
      "Train on 53091 samples, validate on 17698 samples\n",
      "Epoch 1/1000\n"
     ]
    },
    {
     "name": "stderr",
     "output_type": "stream",
     "text": [
      "2022-05-17 00:00:51.973998: I tensorflow/core/platform/cpu_feature_guard.cc:142] Your CPU supports instructions that this TensorFlow binary was not compiled to use: AVX2 FMA\n",
      "2022-05-17 00:00:52.003180: I tensorflow/compiler/xla/service/service.cc:168] XLA service 0x7fb626666c50 initialized for platform Host (this does not guarantee that XLA will be used). Devices:\n",
      "2022-05-17 00:00:52.003198: I tensorflow/compiler/xla/service/service.cc:176]   StreamExecutor device (0): Host, Default Version\n"
     ]
    },
    {
     "name": "stdout",
     "output_type": "stream",
     "text": [
      "52224/53091 [============================>.] - ETA: 0s - loss: 1.0698 - acc: 0.7068\n",
      "Epoch 00001: saving model to newModel.hdf5\n",
      "53091/53091 [==============================] - 4s 73us/sample - loss: 1.0602 - acc: 0.7093 - val_loss: 0.4583 - val_acc: 0.8759\n",
      "Epoch 2/1000\n",
      "52736/53091 [============================>.] - ETA: 0s - loss: 0.4202 - acc: 0.8859\n",
      "Epoch 00002: saving model to newModel.hdf5\n",
      "53091/53091 [==============================] - 4s 68us/sample - loss: 0.4198 - acc: 0.8861 - val_loss: 0.3201 - val_acc: 0.9191\n",
      "Epoch 3/1000\n",
      "52736/53091 [============================>.] - ETA: 0s - loss: 0.3280 - acc: 0.9095\n",
      "Epoch 00003: saving model to newModel.hdf5\n",
      "53091/53091 [==============================] - 4s 78us/sample - loss: 0.3278 - acc: 0.9095 - val_loss: 0.2718 - val_acc: 0.9261\n",
      "Epoch 4/1000\n",
      "52224/53091 [============================>.] - ETA: 0s - loss: 0.2792 - acc: 0.9222\n",
      "Epoch 00004: saving model to newModel.hdf5\n",
      "53091/53091 [==============================] - 4s 70us/sample - loss: 0.2792 - acc: 0.9224 - val_loss: 0.2486 - val_acc: 0.9328\n",
      "Epoch 5/1000\n",
      "52736/53091 [============================>.] - ETA: 0s - loss: 0.2499 - acc: 0.9286\n",
      "Epoch 00005: saving model to newModel.hdf5\n",
      "53091/53091 [==============================] - 4s 69us/sample - loss: 0.2497 - acc: 0.9286 - val_loss: 0.2168 - val_acc: 0.9394\n",
      "Epoch 6/1000\n",
      "52736/53091 [============================>.] - ETA: 0s - loss: 0.2268 - acc: 0.9351\n",
      "Epoch 00006: saving model to newModel.hdf5\n",
      "53091/53091 [==============================] - 4s 67us/sample - loss: 0.2270 - acc: 0.9351 - val_loss: 0.2025 - val_acc: 0.9412\n",
      "Epoch 7/1000\n",
      "52224/53091 [============================>.] - ETA: 0s - loss: 0.2101 - acc: 0.9375\n",
      "Epoch 00007: saving model to newModel.hdf5\n",
      "53091/53091 [==============================] - 4s 67us/sample - loss: 0.2104 - acc: 0.9375 - val_loss: 0.1865 - val_acc: 0.9451\n",
      "Epoch 8/1000\n",
      "52736/53091 [============================>.] - ETA: 0s - loss: 0.1966 - acc: 0.9419\n",
      "Epoch 00008: saving model to newModel.hdf5\n",
      "53091/53091 [==============================] - 4s 67us/sample - loss: 0.1966 - acc: 0.9418 - val_loss: 0.1782 - val_acc: 0.9475\n",
      "Epoch 9/1000\n",
      "52736/53091 [============================>.] - ETA: 0s - loss: 0.1845 - acc: 0.9442\n",
      "Epoch 00009: saving model to newModel.hdf5\n",
      "53091/53091 [==============================] - 3s 66us/sample - loss: 0.1844 - acc: 0.9442 - val_loss: 0.1620 - val_acc: 0.9524\n",
      "Epoch 10/1000\n",
      "52736/53091 [============================>.] - ETA: 0s - loss: 0.1730 - acc: 0.9478\n",
      "Epoch 00010: saving model to newModel.hdf5\n",
      "53091/53091 [==============================] - 5s 86us/sample - loss: 0.1731 - acc: 0.9478 - val_loss: 0.1656 - val_acc: 0.9502\n",
      "Epoch 11/1000\n",
      "52736/53091 [============================>.] - ETA: 0s - loss: 0.1649 - acc: 0.9499\n",
      "Epoch 00011: saving model to newModel.hdf5\n",
      "53091/53091 [==============================] - 5s 89us/sample - loss: 0.1650 - acc: 0.9500 - val_loss: 0.1558 - val_acc: 0.9534\n",
      "Epoch 12/1000\n",
      "52224/53091 [============================>.] - ETA: 0s - loss: 0.1554 - acc: 0.9528\n",
      "Epoch 00012: saving model to newModel.hdf5\n",
      "53091/53091 [==============================] - 4s 80us/sample - loss: 0.1557 - acc: 0.9527 - val_loss: 0.1555 - val_acc: 0.9531\n",
      "Epoch 13/1000\n",
      "52736/53091 [============================>.] - ETA: 0s - loss: 0.1529 - acc: 0.9534\n",
      "Epoch 00013: saving model to newModel.hdf5\n",
      "53091/53091 [==============================] - 4s 68us/sample - loss: 0.1528 - acc: 0.9535 - val_loss: 0.1466 - val_acc: 0.9564\n",
      "Epoch 14/1000\n",
      "52736/53091 [============================>.] - ETA: 0s - loss: 0.1476 - acc: 0.9549\n",
      "Epoch 00014: saving model to newModel.hdf5\n",
      "53091/53091 [==============================] - 4s 74us/sample - loss: 0.1477 - acc: 0.9549 - val_loss: 0.1466 - val_acc: 0.9560\n",
      "Epoch 15/1000\n",
      "52736/53091 [============================>.] - ETA: 0s - loss: 0.1413 - acc: 0.9559- ETA: 1s \n",
      "Epoch 00015: saving model to newModel.hdf5\n",
      "53091/53091 [==============================] - 4s 81us/sample - loss: 0.1413 - acc: 0.9560 - val_loss: 0.1460 - val_acc: 0.9566\n",
      "Epoch 16/1000\n",
      "52224/53091 [============================>.] - ETA: 0s - loss: 0.1375 - acc: 0.9576\n",
      "Epoch 00016: saving model to newModel.hdf5\n",
      "53091/53091 [==============================] - 4s 69us/sample - loss: 0.1371 - acc: 0.9578 - val_loss: 0.1359 - val_acc: 0.9588\n",
      "Epoch 17/1000\n",
      "52224/53091 [============================>.] - ETA: 0s - loss: 0.1312 - acc: 0.9588\n",
      "Epoch 00017: saving model to newModel.hdf5\n",
      "53091/53091 [==============================] - 4s 71us/sample - loss: 0.1316 - acc: 0.9587 - val_loss: 0.1319 - val_acc: 0.9611\n",
      "Epoch 18/1000\n",
      "52736/53091 [============================>.] - ETA: 0s - loss: 0.1296 - acc: 0.9594\n",
      "Epoch 00018: saving model to newModel.hdf5\n",
      "53091/53091 [==============================] - 4s 69us/sample - loss: 0.1298 - acc: 0.9592 - val_loss: 0.1337 - val_acc: 0.9607\n",
      "Epoch 19/1000\n",
      "52736/53091 [============================>.] - ETA: 0s - loss: 0.1241 - acc: 0.9608- ETA: 0s - loss: 0.1227 - ac\n",
      "Epoch 00019: saving model to newModel.hdf5\n",
      "53091/53091 [==============================] - 4s 73us/sample - loss: 0.1242 - acc: 0.9608 - val_loss: 0.1274 - val_acc: 0.9624\n",
      "Epoch 20/1000\n",
      "52736/53091 [============================>.] - ETA: 0s - loss: 0.1223 - acc: 0.9611\n",
      "Epoch 00020: saving model to newModel.hdf5\n",
      "53091/53091 [==============================] - 4s 72us/sample - loss: 0.1223 - acc: 0.9610 - val_loss: 0.1209 - val_acc: 0.9654\n",
      "Epoch 21/1000\n",
      "52736/53091 [============================>.] - ETA: 0s - loss: 0.1181 - acc: 0.9628\n",
      "Epoch 00021: saving model to newModel.hdf5\n",
      "53091/53091 [==============================] - 4s 73us/sample - loss: 0.1182 - acc: 0.9627 - val_loss: 0.1230 - val_acc: 0.9644\n",
      "Epoch 22/1000\n",
      "52736/53091 [============================>.] - ETA: 0s - loss: 0.1165 - acc: 0.9626\n",
      "Epoch 00022: saving model to newModel.hdf5\n",
      "53091/53091 [==============================] - 4s 67us/sample - loss: 0.1166 - acc: 0.9627 - val_loss: 0.1230 - val_acc: 0.9632\n",
      "Epoch 23/1000\n",
      "52224/53091 [============================>.] - ETA: 0s - loss: 0.1121 - acc: 0.9639\n",
      "Epoch 00023: saving model to newModel.hdf5\n",
      "53091/53091 [==============================] - 4s 68us/sample - loss: 0.1119 - acc: 0.9639 - val_loss: 0.1197 - val_acc: 0.9643\n",
      "Epoch 24/1000\n",
      "52224/53091 [============================>.] - ETA: 0s - loss: 0.1092 - acc: 0.9650\n",
      "Epoch 00024: saving model to newModel.hdf5\n",
      "53091/53091 [==============================] - 4s 76us/sample - loss: 0.1091 - acc: 0.9649 - val_loss: 0.1186 - val_acc: 0.9655\n",
      "Epoch 25/1000\n",
      "52736/53091 [============================>.] - ETA: 0s - loss: 0.1079 - acc: 0.9651\n",
      "Epoch 00025: saving model to newModel.hdf5\n",
      "53091/53091 [==============================] - 4s 75us/sample - loss: 0.1080 - acc: 0.9649 - val_loss: 0.1152 - val_acc: 0.9667\n",
      "Epoch 26/1000\n",
      "52736/53091 [============================>.] - ETA: 0s - loss: 0.1059 - acc: 0.9661\n",
      "Epoch 00026: saving model to newModel.hdf5\n",
      "53091/53091 [==============================] - 5s 98us/sample - loss: 0.1060 - acc: 0.9662 - val_loss: 0.1147 - val_acc: 0.9658\n",
      "Epoch 27/1000\n",
      "52736/53091 [============================>.] - ETA: 0s - loss: 0.1032 - acc: 0.9666\n",
      "Epoch 00027: saving model to newModel.hdf5\n",
      "53091/53091 [==============================] - 7s 126us/sample - loss: 0.1029 - acc: 0.9667 - val_loss: 0.1125 - val_acc: 0.9664\n",
      "Epoch 28/1000\n",
      "52736/53091 [============================>.] - ETA: 0s - loss: 0.0987 - acc: 0.9680\n",
      "Epoch 00028: saving model to newModel.hdf5\n",
      "53091/53091 [==============================] - 9s 170us/sample - loss: 0.0989 - acc: 0.9680 - val_loss: 0.1153 - val_acc: 0.9667\n",
      "Epoch 29/1000\n",
      "52224/53091 [============================>.] - ETA: 0s - loss: 0.0987 - acc: 0.9680\n",
      "Epoch 00029: saving model to newModel.hdf5\n",
      "53091/53091 [==============================] - 8s 150us/sample - loss: 0.0988 - acc: 0.9679 - val_loss: 0.1122 - val_acc: 0.9669\n",
      "Epoch 30/1000\n",
      "52736/53091 [============================>.] - ETA: 0s - loss: 0.0945 - acc: 0.9685\n",
      "Epoch 00030: saving model to newModel.hdf5\n",
      "53091/53091 [==============================] - 6s 122us/sample - loss: 0.0946 - acc: 0.9685 - val_loss: 0.1123 - val_acc: 0.9662\n",
      "Epoch 31/1000\n",
      "52224/53091 [============================>.] - ETA: 0s - loss: 0.0965 - acc: 0.9684\n",
      "Epoch 00031: saving model to newModel.hdf5\n",
      "53091/53091 [==============================] - 9s 162us/sample - loss: 0.0962 - acc: 0.9684 - val_loss: 0.1149 - val_acc: 0.9660\n"
     ]
    },
    {
     "name": "stdout",
     "output_type": "stream",
     "text": [
      "Epoch 32/1000\n",
      "52224/53091 [============================>.] - ETA: 0s - loss: 0.0943 - acc: 0.9698\n",
      "Epoch 00032: saving model to newModel.hdf5\n",
      "53091/53091 [==============================] - 5s 95us/sample - loss: 0.0950 - acc: 0.9694 - val_loss: 0.1101 - val_acc: 0.9684\n",
      "Epoch 33/1000\n",
      "52736/53091 [============================>.] - ETA: 0s - loss: 0.0936 - acc: 0.9689\n",
      "Epoch 00033: saving model to newModel.hdf5\n",
      "53091/53091 [==============================] - 3s 65us/sample - loss: 0.0936 - acc: 0.9688 - val_loss: 0.1050 - val_acc: 0.9689\n",
      "Epoch 34/1000\n",
      "52736/53091 [============================>.] - ETA: 0s - loss: 0.0892 - acc: 0.9707\n",
      "Epoch 00034: saving model to newModel.hdf5\n",
      "53091/53091 [==============================] - 3s 58us/sample - loss: 0.0893 - acc: 0.9707 - val_loss: 0.1089 - val_acc: 0.9676\n",
      "Epoch 35/1000\n",
      "52736/53091 [============================>.] - ETA: 0s - loss: 0.0891 - acc: 0.9702\n",
      "Epoch 00035: saving model to newModel.hdf5\n",
      "53091/53091 [==============================] - 3s 59us/sample - loss: 0.0893 - acc: 0.9701 - val_loss: 0.1116 - val_acc: 0.9682\n",
      "Epoch 36/1000\n",
      "52736/53091 [============================>.] - ETA: 0s - loss: 0.0860 - acc: 0.9716\n",
      "Epoch 00036: saving model to newModel.hdf5\n",
      "53091/53091 [==============================] - 3s 58us/sample - loss: 0.0860 - acc: 0.9716 - val_loss: 0.1070 - val_acc: 0.9689\n",
      "Epoch 37/1000\n",
      "52736/53091 [============================>.] - ETA: 0s - loss: 0.0850 - acc: 0.9721\n",
      "Epoch 00037: saving model to newModel.hdf5\n",
      "53091/53091 [==============================] - 3s 56us/sample - loss: 0.0850 - acc: 0.9720 - val_loss: 0.1048 - val_acc: 0.9696\n",
      "Epoch 38/1000\n",
      "52736/53091 [============================>.] - ETA: 0s - loss: 0.0843 - acc: 0.9724\n",
      "Epoch 00038: saving model to newModel.hdf5\n",
      "53091/53091 [==============================] - 3s 56us/sample - loss: 0.0844 - acc: 0.9724 - val_loss: 0.1054 - val_acc: 0.9697\n",
      "Epoch 39/1000\n",
      "52736/53091 [============================>.] - ETA: 0s - loss: 0.0799 - acc: 0.9739\n",
      "Epoch 00039: saving model to newModel.hdf5\n",
      "53091/53091 [==============================] - 3s 57us/sample - loss: 0.0803 - acc: 0.9738 - val_loss: 0.1051 - val_acc: 0.9699\n",
      "Epoch 40/1000\n",
      "52736/53091 [============================>.] - ETA: 0s - loss: 0.0797 - acc: 0.9735\n",
      "Epoch 00040: saving model to newModel.hdf5\n",
      "53091/53091 [==============================] - 4s 68us/sample - loss: 0.0798 - acc: 0.9735 - val_loss: 0.1032 - val_acc: 0.9711\n",
      "Epoch 41/1000\n",
      "52736/53091 [============================>.] - ETA: 0s - loss: 0.0796 - acc: 0.9738\n",
      "Epoch 00041: saving model to newModel.hdf5\n",
      "53091/53091 [==============================] - 8s 146us/sample - loss: 0.0796 - acc: 0.9738 - val_loss: 0.1071 - val_acc: 0.9690\n",
      "Epoch 42/1000\n",
      "52736/53091 [============================>.] - ETA: 0s - loss: 0.0758 - acc: 0.9748\n",
      "Epoch 00042: saving model to newModel.hdf5\n",
      "53091/53091 [==============================] - 7s 140us/sample - loss: 0.0758 - acc: 0.9749 - val_loss: 0.1007 - val_acc: 0.9704\n",
      "Epoch 43/1000\n",
      "52224/53091 [============================>.] - ETA: 0s - loss: 0.0779 - acc: 0.9729\n",
      "Epoch 00043: saving model to newModel.hdf5\n",
      "53091/53091 [==============================] - 5s 99us/sample - loss: 0.0785 - acc: 0.9727 - val_loss: 0.1068 - val_acc: 0.9701\n",
      "Epoch 44/1000\n",
      "52736/53091 [============================>.] - ETA: 0s - loss: 0.0767 - acc: 0.9742\n",
      "Epoch 00044: saving model to newModel.hdf5\n",
      "53091/53091 [==============================] - 5s 89us/sample - loss: 0.0767 - acc: 0.9742 - val_loss: 0.1044 - val_acc: 0.9698\n",
      "Epoch 45/1000\n",
      "52736/53091 [============================>.] - ETA: 0s - loss: 0.0747 - acc: 0.9746\n",
      "Epoch 00045: saving model to newModel.hdf5\n",
      "53091/53091 [==============================] - 6s 116us/sample - loss: 0.0749 - acc: 0.9746 - val_loss: 0.1006 - val_acc: 0.9711\n",
      "Epoch 46/1000\n",
      "52736/53091 [============================>.] - ETA: 0s - loss: 0.0737 - acc: 0.9758\n",
      "Epoch 00046: saving model to newModel.hdf5\n",
      "53091/53091 [==============================] - 4s 82us/sample - loss: 0.0736 - acc: 0.9758 - val_loss: 0.1042 - val_acc: 0.9713\n",
      "Epoch 47/1000\n",
      "52736/53091 [============================>.] - ETA: 0s - loss: 0.0705 - acc: 0.9758\n",
      "Epoch 00047: saving model to newModel.hdf5\n",
      "53091/53091 [==============================] - 5s 98us/sample - loss: 0.0707 - acc: 0.9757 - val_loss: 0.1032 - val_acc: 0.9712\n",
      "Epoch 48/1000\n",
      "52736/53091 [============================>.] - ETA: 0s - loss: 0.0728 - acc: 0.9753\n",
      "Epoch 00048: saving model to newModel.hdf5\n",
      "53091/53091 [==============================] - 4s 80us/sample - loss: 0.0728 - acc: 0.9753 - val_loss: 0.1008 - val_acc: 0.9710\n",
      "Epoch 49/1000\n",
      "52736/53091 [============================>.] - ETA: 0s - loss: 0.0707 - acc: 0.9765\n",
      "Epoch 00049: saving model to newModel.hdf5\n",
      "53091/53091 [==============================] - 4s 83us/sample - loss: 0.0709 - acc: 0.9764 - val_loss: 0.1062 - val_acc: 0.9702\n",
      "Epoch 50/1000\n",
      "52736/53091 [============================>.] - ETA: 0s - loss: 0.0690 - acc: 0.9766\n",
      "Epoch 00050: saving model to newModel.hdf5\n",
      "53091/53091 [==============================] - 4s 68us/sample - loss: 0.0689 - acc: 0.9767 - val_loss: 0.0979 - val_acc: 0.9729\n",
      "Epoch 51/1000\n",
      "52736/53091 [============================>.] - ETA: 0s - loss: 0.0682 - acc: 0.9772\n",
      "Epoch 00051: saving model to newModel.hdf5\n",
      "53091/53091 [==============================] - 4s 69us/sample - loss: 0.0682 - acc: 0.9773 - val_loss: 0.1005 - val_acc: 0.9708\n",
      "Epoch 52/1000\n",
      "52736/53091 [============================>.] - ETA: 0s - loss: 0.0672 - acc: 0.9770\n",
      "Epoch 00052: saving model to newModel.hdf5\n",
      "53091/53091 [==============================] - 4s 70us/sample - loss: 0.0673 - acc: 0.9770 - val_loss: 0.1004 - val_acc: 0.9718\n",
      "Epoch 53/1000\n",
      "52224/53091 [============================>.] - ETA: 0s - loss: 0.0658 - acc: 0.9771\n",
      "Epoch 00053: saving model to newModel.hdf5\n",
      "53091/53091 [==============================] - 4s 76us/sample - loss: 0.0658 - acc: 0.9772 - val_loss: 0.1028 - val_acc: 0.9710\n",
      "Epoch 54/1000\n",
      "52736/53091 [============================>.] - ETA: 0s - loss: 0.0649 - acc: 0.9781\n",
      "Epoch 00054: saving model to newModel.hdf5\n",
      "53091/53091 [==============================] - 4s 71us/sample - loss: 0.0648 - acc: 0.9782 - val_loss: 0.1046 - val_acc: 0.9717\n",
      "Epoch 55/1000\n",
      "52736/53091 [============================>.] - ETA: 0s - loss: 0.0636 - acc: 0.9779\n",
      "Epoch 00055: saving model to newModel.hdf5\n",
      "53091/53091 [==============================] - 4s 73us/sample - loss: 0.0638 - acc: 0.9778 - val_loss: 0.1019 - val_acc: 0.9716\n",
      "Epoch 56/1000\n",
      "52224/53091 [============================>.] - ETA: 0s - loss: 0.0642 - acc: 0.9778\n",
      "Epoch 00056: saving model to newModel.hdf5\n",
      "53091/53091 [==============================] - 4s 73us/sample - loss: 0.0645 - acc: 0.9776 - val_loss: 0.1015 - val_acc: 0.9716\n",
      "Epoch 57/1000\n",
      "52736/53091 [============================>.] - ETA: 0s - loss: 0.0613 - acc: 0.9793\n",
      "Epoch 00057: saving model to newModel.hdf5\n",
      "53091/53091 [==============================] - 4s 73us/sample - loss: 0.0611 - acc: 0.9794 - val_loss: 0.1009 - val_acc: 0.9733\n",
      "Epoch 58/1000\n",
      "52224/53091 [============================>.] - ETA: 0s - loss: 0.0620 - acc: 0.9790\n",
      "Epoch 00058: saving model to newModel.hdf5\n",
      "53091/53091 [==============================] - 4s 68us/sample - loss: 0.0617 - acc: 0.9791 - val_loss: 0.1028 - val_acc: 0.9724\n",
      "Epoch 59/1000\n",
      "52224/53091 [============================>.] - ETA: 0s - loss: 0.0627 - acc: 0.9787\n",
      "Epoch 00059: saving model to newModel.hdf5\n",
      "53091/53091 [==============================] - 4s 71us/sample - loss: 0.0627 - acc: 0.9786 - val_loss: 0.1016 - val_acc: 0.9724\n",
      "Epoch 60/1000\n",
      "52736/53091 [============================>.] - ETA: 0s - loss: 0.0602 - acc: 0.9794\n",
      "Epoch 00060: saving model to newModel.hdf5\n",
      "53091/53091 [==============================] - 4s 68us/sample - loss: 0.0600 - acc: 0.9794 - val_loss: 0.1021 - val_acc: 0.9724\n",
      "Epoch 61/1000\n",
      "52736/53091 [============================>.] - ETA: 0s - loss: 0.0615 - acc: 0.9788\n",
      "Epoch 00061: saving model to newModel.hdf5\n",
      "53091/53091 [==============================] - 4s 71us/sample - loss: 0.0616 - acc: 0.9787 - val_loss: 0.1001 - val_acc: 0.9733\n",
      "Epoch 62/1000\n",
      "52224/53091 [============================>.] - ETA: 0s - loss: 0.0595 - acc: 0.9799\n",
      "Epoch 00062: saving model to newModel.hdf5\n",
      "53091/53091 [==============================] - 4s 70us/sample - loss: 0.0596 - acc: 0.9798 - val_loss: 0.1000 - val_acc: 0.9730\n"
     ]
    },
    {
     "name": "stdout",
     "output_type": "stream",
     "text": [
      "Epoch 63/1000\n",
      "52224/53091 [============================>.] - ETA: 0s - loss: 0.0592 - acc: 0.9797\n",
      "Epoch 00063: saving model to newModel.hdf5\n",
      "53091/53091 [==============================] - 4s 67us/sample - loss: 0.0592 - acc: 0.9797 - val_loss: 0.0997 - val_acc: 0.9732\n",
      "Epoch 64/1000\n",
      "52736/53091 [============================>.] - ETA: 0s - loss: 0.0586 - acc: 0.9794\n",
      "Epoch 00064: saving model to newModel.hdf5\n",
      "53091/53091 [==============================] - 4s 67us/sample - loss: 0.0588 - acc: 0.9793 - val_loss: 0.0991 - val_acc: 0.9732\n",
      "Epoch 65/1000\n",
      "52224/53091 [============================>.] - ETA: 0s - loss: 0.0577 - acc: 0.9803\n",
      "Epoch 00065: saving model to newModel.hdf5\n",
      "53091/53091 [==============================] - 3s 66us/sample - loss: 0.0579 - acc: 0.9802 - val_loss: 0.1000 - val_acc: 0.9734\n",
      "Epoch 66/1000\n",
      "52736/53091 [============================>.] - ETA: 0s - loss: 0.0565 - acc: 0.9808\n",
      "Epoch 00066: saving model to newModel.hdf5\n",
      "53091/53091 [==============================] - 4s 69us/sample - loss: 0.0565 - acc: 0.9808 - val_loss: 0.1026 - val_acc: 0.9727\n",
      "Epoch 67/1000\n",
      "52736/53091 [============================>.] - ETA: 0s - loss: 0.0563 - acc: 0.9803\n",
      "Epoch 00067: saving model to newModel.hdf5\n",
      "53091/53091 [==============================] - 4s 67us/sample - loss: 0.0564 - acc: 0.9802 - val_loss: 0.1002 - val_acc: 0.9731\n",
      "Epoch 68/1000\n",
      "52736/53091 [============================>.] - ETA: 0s - loss: 0.0568 - acc: 0.9806\n",
      "Epoch 00068: saving model to newModel.hdf5\n",
      "53091/53091 [==============================] - 4s 70us/sample - loss: 0.0566 - acc: 0.9807 - val_loss: 0.0995 - val_acc: 0.9743\n",
      "Epoch 69/1000\n",
      "52224/53091 [============================>.] - ETA: 0s - loss: 0.0534 - acc: 0.9817\n",
      "Epoch 00069: saving model to newModel.hdf5\n",
      "53091/53091 [==============================] - 4s 71us/sample - loss: 0.0532 - acc: 0.9818 - val_loss: 0.0981 - val_acc: 0.9734\n",
      "Epoch 70/1000\n",
      "52736/53091 [============================>.] - ETA: 0s - loss: 0.0540 - acc: 0.9815\n",
      "Epoch 00070: saving model to newModel.hdf5\n",
      "53091/53091 [==============================] - 4s 67us/sample - loss: 0.0539 - acc: 0.9816 - val_loss: 0.1006 - val_acc: 0.9720\n",
      "Epoch 71/1000\n",
      "52224/53091 [============================>.] - ETA: 0s - loss: 0.0550 - acc: 0.9808\n",
      "Epoch 00071: saving model to newModel.hdf5\n",
      "53091/53091 [==============================] - 4s 70us/sample - loss: 0.0554 - acc: 0.9806 - val_loss: 0.0972 - val_acc: 0.9760\n",
      "Epoch 72/1000\n",
      "52736/53091 [============================>.] - ETA: 0s - loss: 0.0531 - acc: 0.9818\n",
      "Epoch 00072: saving model to newModel.hdf5\n",
      "53091/53091 [==============================] - 4s 73us/sample - loss: 0.0530 - acc: 0.9819 - val_loss: 0.1012 - val_acc: 0.9741\n",
      "Epoch 73/1000\n",
      "52736/53091 [============================>.] - ETA: 0s - loss: 0.0529 - acc: 0.9821\n",
      "Epoch 00073: saving model to newModel.hdf5\n",
      "53091/53091 [==============================] - 4s 67us/sample - loss: 0.0530 - acc: 0.9821 - val_loss: 0.1050 - val_acc: 0.9734\n",
      "Epoch 74/1000\n",
      "52224/53091 [============================>.] - ETA: 0s - loss: 0.0524 - acc: 0.9822\n",
      "Epoch 00074: saving model to newModel.hdf5\n",
      "53091/53091 [==============================] - 4s 76us/sample - loss: 0.0526 - acc: 0.9821 - val_loss: 0.1067 - val_acc: 0.9721\n",
      "Epoch 75/1000\n",
      "52736/53091 [============================>.] - ETA: 0s - loss: 0.0521 - acc: 0.9816\n",
      "Epoch 00075: saving model to newModel.hdf5\n",
      "53091/53091 [==============================] - 4s 69us/sample - loss: 0.0521 - acc: 0.9816 - val_loss: 0.1011 - val_acc: 0.9746\n",
      "Epoch 76/1000\n",
      "52736/53091 [============================>.] - ETA: 0s - loss: 0.0499 - acc: 0.9825\n",
      "Epoch 00076: saving model to newModel.hdf5\n",
      "53091/53091 [==============================] - 4s 71us/sample - loss: 0.0499 - acc: 0.9826 - val_loss: 0.1014 - val_acc: 0.9744\n",
      "Epoch 77/1000\n",
      "52736/53091 [============================>.] - ETA: 0s - loss: 0.0502 - acc: 0.9823\n",
      "Epoch 00077: saving model to newModel.hdf5\n",
      "53091/53091 [==============================] - 4s 69us/sample - loss: 0.0500 - acc: 0.9824 - val_loss: 0.1007 - val_acc: 0.9745\n",
      "Epoch 78/1000\n",
      "52224/53091 [============================>.] - ETA: 0s - loss: 0.0513 - acc: 0.9819\n",
      "Epoch 00078: saving model to newModel.hdf5\n",
      "53091/53091 [==============================] - 4s 69us/sample - loss: 0.0511 - acc: 0.9820 - val_loss: 0.1012 - val_acc: 0.9743\n",
      "Epoch 79/1000\n",
      "52736/53091 [============================>.] - ETA: 0s - loss: 0.0467 - acc: 0.9839\n",
      "Epoch 00079: saving model to newModel.hdf5\n",
      "53091/53091 [==============================] - 4s 71us/sample - loss: 0.0466 - acc: 0.9839 - val_loss: 0.0974 - val_acc: 0.9764\n",
      "Epoch 80/1000\n",
      "52224/53091 [============================>.] - ETA: 0s - loss: 0.0484 - acc: 0.9831\n",
      "Epoch 00080: saving model to newModel.hdf5\n",
      "53091/53091 [==============================] - 4s 72us/sample - loss: 0.0484 - acc: 0.9830 - val_loss: 0.1011 - val_acc: 0.9746\n",
      "Epoch 81/1000\n",
      "52736/53091 [============================>.] - ETA: 0s - loss: 0.0482 - acc: 0.9833\n",
      "Epoch 00081: saving model to newModel.hdf5\n",
      "53091/53091 [==============================] - 4s 71us/sample - loss: 0.0481 - acc: 0.9833 - val_loss: 0.1046 - val_acc: 0.9734\n",
      "Epoch 82/1000\n",
      "52224/53091 [============================>.] - ETA: 0s - loss: 0.0474 - acc: 0.9836\n",
      "Epoch 00082: saving model to newModel.hdf5\n",
      "53091/53091 [==============================] - 4s 68us/sample - loss: 0.0474 - acc: 0.9835 - val_loss: 0.1048 - val_acc: 0.9736\n",
      "Epoch 83/1000\n",
      "52224/53091 [============================>.] - ETA: 0s - loss: 0.0489 - acc: 0.9827\n",
      "Epoch 00083: saving model to newModel.hdf5\n",
      "53091/53091 [==============================] - 4s 68us/sample - loss: 0.0489 - acc: 0.9827 - val_loss: 0.0995 - val_acc: 0.9744\n",
      "Epoch 84/1000\n",
      "52736/53091 [============================>.] - ETA: 0s - loss: 0.0465 - acc: 0.9840\n",
      "Epoch 00084: saving model to newModel.hdf5\n",
      "53091/53091 [==============================] - 4s 70us/sample - loss: 0.0464 - acc: 0.9840 - val_loss: 0.1004 - val_acc: 0.9749\n",
      "Epoch 85/1000\n",
      "52224/53091 [============================>.] - ETA: 0s - loss: 0.0465 - acc: 0.9832\n",
      "Epoch 00085: saving model to newModel.hdf5\n",
      "53091/53091 [==============================] - 4s 74us/sample - loss: 0.0468 - acc: 0.9831 - val_loss: 0.1019 - val_acc: 0.9754\n",
      "Epoch 86/1000\n",
      "52224/53091 [============================>.] - ETA: 0s - loss: 0.0464 - acc: 0.9834\n",
      "Epoch 00086: saving model to newModel.hdf5\n",
      "53091/53091 [==============================] - 4s 69us/sample - loss: 0.0464 - acc: 0.9834 - val_loss: 0.1030 - val_acc: 0.9748\n",
      "Epoch 87/1000\n",
      "52224/53091 [============================>.] - ETA: 0s - loss: 0.0446 - acc: 0.9842\n",
      "Epoch 00087: saving model to newModel.hdf5\n",
      "53091/53091 [==============================] - 4s 71us/sample - loss: 0.0447 - acc: 0.9841 - val_loss: 0.1040 - val_acc: 0.9736\n",
      "Epoch 88/1000\n",
      "52736/53091 [============================>.] - ETA: 0s - loss: 0.0438 - acc: 0.9846\n",
      "Epoch 00088: saving model to newModel.hdf5\n",
      "53091/53091 [==============================] - 5s 86us/sample - loss: 0.0440 - acc: 0.9845 - val_loss: 0.1015 - val_acc: 0.9762\n",
      "Epoch 89/1000\n",
      "52736/53091 [============================>.] - ETA: 0s - loss: 0.0432 - acc: 0.9849\n",
      "Epoch 00089: saving model to newModel.hdf5\n",
      "53091/53091 [==============================] - 4s 81us/sample - loss: 0.0432 - acc: 0.9848 - val_loss: 0.1048 - val_acc: 0.9747\n"
     ]
    }
   ],
   "source": [
    "#best model 9.1Mb : loss: 0.3844 - accuracy: 0.8755 - val_loss: 0.3243 - val_accuracy: 0.8951 \n",
    "history = model.fit(\n",
    "    X_train,\n",
    "    y_train,\n",
    "    epochs=1000,\n",
    "    batch_size=512,\n",
    "    validation_data=(X_test, y_test),\n",
    "    callbacks=[cp_callback,tf.keras.callbacks.EarlyStopping(monitor='val_acc', patience=10)]\n",
    ")"
   ]
  },
  {
   "cell_type": "code",
   "execution_count": 48,
   "metadata": {},
   "outputs": [
    {
     "name": "stdout",
     "output_type": "stream",
     "text": [
      "17698/17698 [==============================] - 0s 20us/sample - loss: 0.1048 - acc: 0.9747\n"
     ]
    }
   ],
   "source": [
    "val_loss, val_acc = model.evaluate(X_test, y_test, batch_size=512)"
   ]
  },
  {
   "cell_type": "code",
   "execution_count": 51,
   "metadata": {},
   "outputs": [
    {
     "data": {
      "image/png": "[encoded data removed]",
      "text/plain": [
       "<Figure size 576x360 with 1 Axes>"
      ]
     },
     "metadata": {
      "needs_background": "light"
     },
     "output_type": "display_data"
    }
   ],
   "source": [
    "import matplotlib.pyplot as plt\n",
    "pd.DataFrame(history.history).plot(figsize=(8,5))\n",
    "plt.show()"
   ]
  },
  {
   "cell_type": "code",
   "execution_count": null,
   "metadata": {},
   "outputs": [],
   "source": []
  },
  {
   "cell_type": "markdown",
   "metadata": {},
   "source": [
    "# Save Model"
   ]
  },
  {
   "cell_type": "code",
   "execution_count": 52,
   "metadata": {},
   "outputs": [],
   "source": [
    "model.save(model_save_path, include_optimizer=False)"
   ]
  },
  {
   "cell_type": "code",
   "execution_count": null,
   "metadata": {},
   "outputs": [],
   "source": []
  },
  {
   "cell_type": "markdown",
   "metadata": {},
   "source": [
    "# Visualize"
   ]
  },
  {
   "cell_type": "code",
   "execution_count": 15,
   "metadata": {},
   "outputs": [
    {
     "name": "stdout",
     "output_type": "stream",
     "text": [
      "WARNING:tensorflow:No training configuration found in the save file, so the model was *not* compiled. Compile it manually.\n"
     ]
    }
   ],
   "source": [
    "model = tf.keras.models.load_model(model_save_path)\n",
    "predict_result = model.predict(np.array([X_test[0]]))\n",
    "#print(np.squeeze(predict_result))\n",
    "#print(np.argmax(np.squeeze(predict_result)))"
   ]
  },
  {
   "cell_type": "code",
   "execution_count": 16,
   "metadata": {
    "scrolled": false
   },
   "outputs": [
    {
     "data": {
      "image/png": "[encoded data removed]",
      "text/plain": [
       "<Figure size 1440x1440 with 2 Axes>"
      ]
     },
     "metadata": {
      "needs_background": "light"
     },
     "output_type": "display_data"
    },
    {
     "name": "stdout",
     "output_type": "stream",
     "text": [
      "Classification Report\n",
      "              precision    recall  f1-score   support\n",
      "\n",
      "           0       0.99      0.98      0.99       623\n",
      "           1       0.99      0.99      0.99       685\n",
      "           2       0.99      1.00      1.00       585\n",
      "           3       0.99      0.99      0.99       706\n",
      "           4       0.98      1.00      0.99       647\n",
      "           5       0.99      0.99      0.99       752\n",
      "           6       0.98      1.00      0.99       683\n",
      "           7       1.00      0.98      0.99       685\n",
      "           8       0.98      1.00      0.99       678\n",
      "           9       1.00      1.00      1.00       673\n",
      "          10       0.99      0.99      0.99       670\n",
      "          11       1.00      0.99      0.99       735\n",
      "          12       0.96      0.99      0.98       462\n",
      "          13       0.99      0.96      0.98       385\n",
      "          14       0.99      0.99      0.99       633\n",
      "          15       0.99      1.00      1.00       592\n",
      "          16       0.99      1.00      0.99       528\n",
      "          17       0.98      0.97      0.98       708\n",
      "          18       0.99      0.99      0.99       634\n",
      "          19       0.98      0.99      0.99       694\n",
      "          20       0.97      0.96      0.97       650\n",
      "          21       0.98      0.98      0.98       644\n",
      "          22       0.99      0.98      0.99       708\n",
      "          23       0.98      0.98      0.98       666\n",
      "          24       1.00      0.99      0.99       675\n",
      "          25       1.00      1.00      1.00       703\n",
      "          26       1.00      1.00      1.00       469\n",
      "          27       1.00      1.00      1.00       424\n",
      "          28       1.00      1.00      1.00         1\n",
      "\n",
      "    accuracy                           0.99     17698\n",
      "   macro avg       0.99      0.99      0.99     17698\n",
      "weighted avg       0.99      0.99      0.99     17698\n",
      "\n"
     ]
    }
   ],
   "source": [
    "import pandas as pd\n",
    "import seaborn as sns\n",
    "import matplotlib.pyplot as plt\n",
    "from sklearn.metrics import confusion_matrix, classification_report\n",
    "\n",
    "def print_confusion_matrix(y_true, y_pred, report=True):\n",
    "    labels = sorted(list(set(y_true)))\n",
    "    cmx_data = confusion_matrix(y_true, y_pred, labels=labels)\n",
    "    \n",
    "    df_cmx = pd.DataFrame(cmx_data, index=labels, columns=labels)\n",
    " \n",
    "    fig, ax = plt.subplots(figsize=(20, 20))\n",
    "    sns.heatmap(df_cmx, annot=True, fmt='g' ,square=False)\n",
    "    ax.set_ylim(len(set(y_true)), 0)\n",
    "    plt.show()\n",
    "    \n",
    "    if report:\n",
    "        print('Classification Report')\n",
    "        print(classification_report(y_test, y_pred))\n",
    "\n",
    "Y_pred = model.predict(X_test)\n",
    "y_pred = np.argmax(Y_pred, axis=1)\n",
    "\n",
    "print_confusion_matrix(y_test, y_pred)"
   ]
  },
  {
   "cell_type": "code",
   "execution_count": null,
   "metadata": {},
   "outputs": [],
   "source": []
  }
 ],
 "metadata": {
  "kernelspec": {
   "display_name": "Python 3",
   "language": "python",
   "name": "python3"
  },
  "language_info": {
   "codemirror_mode": {
    "name": "ipython",
    "version": 3
   },
   "file_extension": ".py",
   "mimetype": "text/x-python",
   "name": "python",
   "nbconvert_exporter": "python",
   "pygments_lexer": "ipython3",
   "version": "3.8.3"
  }
 },
 "nbformat": 4,
 "nbformat_minor": 4
}
