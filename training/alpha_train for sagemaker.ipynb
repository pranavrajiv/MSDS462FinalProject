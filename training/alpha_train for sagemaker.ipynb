{
 "cells": [
  {
   "cell_type": "markdown",
   "metadata": {},
   "source": [
    "# preferable do the following in a virtual environment as tensorflow needs to be downgraded to v1 to be compatible with sagemaker"
   ]
  },
  {
   "cell_type": "code",
   "execution_count": null,
   "metadata": {},
   "outputs": [],
   "source": [
    "!pip install tensorflow==1.15.5"
   ]
  },
  {
   "cell_type": "code",
   "execution_count": null,
   "metadata": {},
   "outputs": [],
   "source": []
  },
  {
   "cell_type": "code",
   "execution_count": null,
   "metadata": {},
   "outputs": [],
   "source": []
  },
  {
   "cell_type": "code",
   "execution_count": 1,
   "metadata": {},
   "outputs": [],
   "source": [
    "import csv\n",
    "import numpy as np\n",
    "import tensorflow as tf\n",
    "from sklearn.model_selection import train_test_split\n",
    "#from keras.models import Sequential\n",
    "#from keras import models, layers\n",
    "#from keras.layers import Conv2D, MaxPooling2D, Flatten, Dense, Dropout, BatchNormalization, LSTM, GRU, Bidirectional"
   ]
  },
  {
   "cell_type": "code",
   "execution_count": null,
   "metadata": {},
   "outputs": [],
   "source": []
  },
  {
   "cell_type": "code",
   "execution_count": 2,
   "metadata": {},
   "outputs": [
    {
     "data": {
      "text/plain": [
       "'1.15.5'"
      ]
     },
     "execution_count": 2,
     "metadata": {},
     "output_type": "execute_result"
    }
   ],
   "source": [
    "#make sure the tensorflow version using is 1.15.5\n",
    "tf.__version__"
   ]
  },
  {
   "cell_type": "code",
   "execution_count": 3,
   "metadata": {},
   "outputs": [],
   "source": [
    "dataset_p1 = 'keypoint_part1.csv'\n",
    "dataset_p2 = 'keypoint_part2.csv'\n",
    "dataset_p3 = 'keypoint_part3.csv'\n",
    "dataset_p4 = 'data.csv'\n",
    "model_save_path = 'sampleModel'"
   ]
  },
  {
   "cell_type": "code",
   "execution_count": 4,
   "metadata": {},
   "outputs": [
    {
     "data": {
      "text/plain": [
       "'\\n#shuffle data\\nimport pandas as pd\\ndf = pd.read_csv(dataset_p4, header=None)\\nds = df.sample(frac=1)\\nds.to_csv(dataset_p4)\\n'"
      ]
     },
     "execution_count": 4,
     "metadata": {},
     "output_type": "execute_result"
    }
   ],
   "source": [
    "'''\n",
    "#shuffle data\n",
    "import pandas as pd\n",
    "df = pd.read_csv(dataset_p4, header=None)\n",
    "ds = df.sample(frac=1)\n",
    "ds.to_csv(dataset_p4)\n",
    "'''"
   ]
  },
  {
   "cell_type": "code",
   "execution_count": 5,
   "metadata": {},
   "outputs": [],
   "source": [
    "NUM_CLASSES = 29\n",
    "RANDOM_SEED = 42"
   ]
  },
  {
   "cell_type": "code",
   "execution_count": 6,
   "metadata": {},
   "outputs": [],
   "source": [
    "X_dataset1 = np.loadtxt(dataset_p1, delimiter=',', dtype='float32', usecols=list(range(1, (21 * 2) + 1)))\n",
    "y_dataset1 = np.loadtxt(dataset_p1, delimiter=',', dtype='int32', usecols=(0))"
   ]
  },
  {
   "cell_type": "code",
   "execution_count": 7,
   "metadata": {},
   "outputs": [],
   "source": [
    "X_dataset2 = np.loadtxt(dataset_p2, delimiter=',', dtype='float32', usecols=list(range(1, (21 * 2) + 1)))\n",
    "y_dataset2 = np.loadtxt(dataset_p2, delimiter=',', dtype='int32', usecols=(0))\n",
    "y_dataset2 = y_dataset2+10"
   ]
  },
  {
   "cell_type": "code",
   "execution_count": 8,
   "metadata": {},
   "outputs": [],
   "source": [
    "X_dataset3 = np.loadtxt(dataset_p3, delimiter=',', dtype='float32', usecols=list(range(1, (21 * 2) + 1)))\n",
    "y_dataset3 = np.loadtxt(dataset_p3, delimiter=',', dtype='int32', usecols=(0))\n",
    "y_dataset3 = y_dataset3+20"
   ]
  },
  {
   "cell_type": "code",
   "execution_count": 9,
   "metadata": {},
   "outputs": [],
   "source": [
    "X_dataset4 = np.loadtxt(dataset_p4, delimiter=',', dtype='float32', usecols=list(range(1, (21 * 2) + 1)))\n",
    "y_dataset4 = np.loadtxt(dataset_p4, delimiter=',', dtype='int32', usecols=(0))"
   ]
  },
  {
   "cell_type": "code",
   "execution_count": 10,
   "metadata": {},
   "outputs": [],
   "source": [
    "concat_x = np.concatenate((X_dataset1,X_dataset2),axis=0)\n",
    "concat_x = np.concatenate((concat_x,X_dataset3),axis=0)\n",
    "concat_x = np.concatenate((concat_x,X_dataset4),axis=0)"
   ]
  },
  {
   "cell_type": "code",
   "execution_count": 11,
   "metadata": {},
   "outputs": [
    {
     "name": "stdout",
     "output_type": "stream",
     "text": [
      "(70789,)\n"
     ]
    }
   ],
   "source": [
    "concat_y = np.concatenate((y_dataset1,y_dataset2),axis=0)\n",
    "concat_y = np.concatenate((concat_y,y_dataset3),axis=0)\n",
    "concat_y = np.concatenate((concat_y,y_dataset4),axis=0)\n",
    "print(concat_y.shape)"
   ]
  },
  {
   "cell_type": "code",
   "execution_count": 12,
   "metadata": {},
   "outputs": [],
   "source": [
    "X_train, X_test, y_train, y_test = train_test_split(concat_x, concat_y, train_size=0.75, random_state=RANDOM_SEED)"
   ]
  },
  {
   "cell_type": "code",
   "execution_count": 13,
   "metadata": {},
   "outputs": [
    {
     "data": {
      "text/plain": [
       "(70789, 42)"
      ]
     },
     "execution_count": 13,
     "metadata": {},
     "output_type": "execute_result"
    }
   ],
   "source": [
    "concat_x.shape"
   ]
  },
  {
   "cell_type": "code",
   "execution_count": 14,
   "metadata": {},
   "outputs": [],
   "source": [
    "### Validation data\n",
    "x_train_split, x_valid_split, y_train_split, y_valid_split = train_test_split(X_train\n",
    "                                                                              ,y_train\n",
    "                                                                              ,test_size=.2\n",
    "                                                                              ,random_state=RANDOM_SEED\n",
    "                                                                              ,shuffle=True)"
   ]
  },
  {
   "cell_type": "code",
   "execution_count": 35,
   "metadata": {},
   "outputs": [],
   "source": [
    "###a adding timestep to makesure convo1D in TF 1.15.5 version works\n",
    "time_steps = 5\n",
    "model = tf.keras.Sequential()\n",
    "model.add(tf.keras.layers.Input(shape=(42,), name=\"input\"))\n",
    "model.add(tf.keras.layers.RepeatVector(time_steps))\n",
    "\n",
    "## adding convolutional layers\n",
    "model.add(tf.keras.layers.Conv1D(256, 5,1, activation=\"relu\", padding=\"same\",kernel_regularizer=tf.keras.regularizers.l2(0.001) ))\n",
    "model.add(tf.keras.layers.MaxPool1D(1,strides=2))\n",
    "model.add(tf.keras.layers.Dropout(.20))\n",
    "model.add(tf.keras.layers.Conv1D(128, 3,1, activation=\"relu\", padding=\"same\",kernel_regularizer=tf.keras.regularizers.l2(0.001)))\n",
    "model.add(tf.keras.layers.MaxPool1D(1,strides=2))\n",
    "model.add(tf.keras.layers.Dropout(.20))\n",
    "model.add(tf.keras.layers.Conv1D(64, 3,1, activation=\"relu\", padding=\"same\",kernel_regularizer=tf.keras.regularizers.l2(0.001)))\n",
    "model.add(tf.keras.layers.MaxPool1D(1,strides=2))\n",
    "model.add(tf.keras.layers.Dropout(.20))\n",
    "\n",
    "## adding Bidirectional LSTMlayers\n",
    "model.add(tf.keras.layers.Bidirectional(tf.keras.layers.LSTM(50, return_sequences=True)))\n",
    "model.add(tf.keras.layers.Dropout(.20))\n",
    "model.add(tf.keras.layers.Bidirectional(tf.keras.layers.LSTM(50, return_sequences=True)))\n",
    "model.add(tf.keras.layers.Dropout(.20))\n",
    "model.add(tf.keras.layers.Bidirectional(tf.keras.layers.LSTM(50, return_sequences=True)))\n",
    "model.add(tf.keras.layers.Dropout(.20))\n",
    "\n",
    "\n",
    "model.add(tf.keras.layers.Flatten())\n",
    "model.add(tf.keras.layers.BatchNormalization())\n",
    "model.add(tf.keras.layers.Dense(units=256, activation=tf.nn.relu,kernel_regularizer=tf.keras.regularizers.l2(0.001)))\n",
    "model.add(tf.keras.layers.Dense(units=50, activation=tf.nn.relu,kernel_regularizer=tf.keras.regularizers.l2(0.001)))\n",
    "model.add(tf.keras.layers.Dense(units=NUM_CLASSES, activation=tf.nn.softmax))\n",
    "model.build()"
   ]
  },
  {
   "cell_type": "code",
   "execution_count": null,
   "metadata": {},
   "outputs": [],
   "source": []
  },
  {
   "cell_type": "code",
   "execution_count": 36,
   "metadata": {},
   "outputs": [
    {
     "name": "stdout",
     "output_type": "stream",
     "text": [
      "Model: \"sequential_2\"\n",
      "_________________________________________________________________\n",
      "Layer (type)                 Output Shape              Param #   \n",
      "=================================================================\n",
      "repeat_vector_2 (RepeatVecto (None, 5, 42)             0         \n",
      "_________________________________________________________________\n",
      "conv1d_4 (Conv1D)            (None, 5, 256)            54016     \n",
      "_________________________________________________________________\n",
      "max_pooling1d_4 (MaxPooling1 (None, 3, 256)            0         \n",
      "_________________________________________________________________\n",
      "dropout_8 (Dropout)          (None, 3, 256)            0         \n",
      "_________________________________________________________________\n",
      "conv1d_5 (Conv1D)            (None, 3, 128)            98432     \n",
      "_________________________________________________________________\n",
      "max_pooling1d_5 (MaxPooling1 (None, 2, 128)            0         \n",
      "_________________________________________________________________\n",
      "dropout_9 (Dropout)          (None, 2, 128)            0         \n",
      "_________________________________________________________________\n",
      "conv1d_6 (Conv1D)            (None, 2, 64)             24640     \n",
      "_________________________________________________________________\n",
      "max_pooling1d_6 (MaxPooling1 (None, 1, 64)             0         \n",
      "_________________________________________________________________\n",
      "dropout_10 (Dropout)         (None, 1, 64)             0         \n",
      "_________________________________________________________________\n",
      "bidirectional_3 (Bidirection (None, 1, 100)            46000     \n",
      "_________________________________________________________________\n",
      "dropout_11 (Dropout)         (None, 1, 100)            0         \n",
      "_________________________________________________________________\n",
      "bidirectional_4 (Bidirection (None, 1, 100)            60400     \n",
      "_________________________________________________________________\n",
      "dropout_12 (Dropout)         (None, 1, 100)            0         \n",
      "_________________________________________________________________\n",
      "bidirectional_5 (Bidirection (None, 1, 100)            60400     \n",
      "_________________________________________________________________\n",
      "dropout_13 (Dropout)         (None, 1, 100)            0         \n",
      "_________________________________________________________________\n",
      "flatten_1 (Flatten)          (None, 100)               0         \n",
      "_________________________________________________________________\n",
      "batch_normalization_1 (Batch (None, 100)               400       \n",
      "_________________________________________________________________\n",
      "dense_3 (Dense)              (None, 256)               25856     \n",
      "_________________________________________________________________\n",
      "dense_4 (Dense)              (None, 50)                12850     \n",
      "_________________________________________________________________\n",
      "dense_5 (Dense)              (None, 29)                1479      \n",
      "=================================================================\n",
      "Total params: 384,473\n",
      "Trainable params: 384,273\n",
      "Non-trainable params: 200\n",
      "_________________________________________________________________\n"
     ]
    }
   ],
   "source": [
    "model.summary()  # tf.keras.utils.plot_model(model, show_shapes=True)"
   ]
  },
  {
   "cell_type": "code",
   "execution_count": 37,
   "metadata": {},
   "outputs": [],
   "source": [
    "\n",
    "cp_callback = tf.keras.callbacks.ModelCheckpoint(\n",
    "    model_save_path, verbose=1, save_weights_only=False)"
   ]
  },
  {
   "cell_type": "code",
   "execution_count": 38,
   "metadata": {},
   "outputs": [],
   "source": [
    "model.compile(\n",
    "    optimizer='adam',\n",
    "    loss='sparse_categorical_crossentropy',\n",
    "    metrics=['accuracy']\n",
    ")"
   ]
  },
  {
   "cell_type": "code",
   "execution_count": 39,
   "metadata": {},
   "outputs": [],
   "source": [
    "#import numpy as np\n",
    "#series_input_train = np.expand_dims(X_train, axis=-1)"
   ]
  },
  {
   "cell_type": "code",
   "execution_count": 40,
   "metadata": {
    "scrolled": true,
    "tags": [
     "outputPrepend"
    ]
   },
   "outputs": [
    {
     "name": "stdout",
     "output_type": "stream",
     "text": [
      "Train on 53091 samples, validate on 17698 samples\n",
      "Epoch 1/1000\n",
      "52736/53091 [============================>.] - ETA: 0s - loss: 2.4214 - acc: 0.3234\n",
      "Epoch 00001: saving model to sampleModel\n",
      "53091/53091 [==============================] - 15s 289us/sample - loss: 2.4153 - acc: 0.3252 - val_loss: 2.6745 - val_acc: 0.6334\n",
      "Epoch 2/1000\n",
      "52736/53091 [============================>.] - ETA: 0s - loss: 1.0596 - acc: 0.7515\n",
      "Epoch 00002: saving model to sampleModel\n",
      "53091/53091 [==============================] - 9s 167us/sample - loss: 1.0580 - acc: 0.7521 - val_loss: 1.8307 - val_acc: 0.8427\n",
      "Epoch 3/1000\n",
      "52736/53091 [============================>.] - ETA: 0s - loss: 0.7794 - acc: 0.8462\n",
      "Epoch 00003: saving model to sampleModel\n",
      "53091/53091 [==============================] - 8s 158us/sample - loss: 0.7787 - acc: 0.8464 - val_loss: 1.1293 - val_acc: 0.8991\n",
      "Epoch 4/1000\n",
      "52736/53091 [============================>.] - ETA: 0s - loss: 0.6707 - acc: 0.8735\n",
      "Epoch 00004: saving model to sampleModel\n",
      "53091/53091 [==============================] - 8s 155us/sample - loss: 0.6703 - acc: 0.8736 - val_loss: 0.7045 - val_acc: 0.9090\n",
      "Epoch 5/1000\n",
      "52736/53091 [============================>.] - ETA: 0s - loss: 0.6006 - acc: 0.8890\n",
      "Epoch 00005: saving model to sampleModel\n",
      "53091/53091 [==============================] - 9s 165us/sample - loss: 0.6003 - acc: 0.8892 - val_loss: 0.5572 - val_acc: 0.9131\n",
      "Epoch 6/1000\n",
      "52736/53091 [============================>.] - ETA: 0s - loss: 0.5598 - acc: 0.8978\n",
      "Epoch 00006: saving model to sampleModel\n",
      "53091/53091 [==============================] - 9s 168us/sample - loss: 0.5593 - acc: 0.8980 - val_loss: 0.4828 - val_acc: 0.9226\n",
      "Epoch 7/1000\n",
      "52736/53091 [============================>.] - ETA: 0s - loss: 0.5253 - acc: 0.9051\n",
      "Epoch 00007: saving model to sampleModel\n",
      "53091/53091 [==============================] - 9s 168us/sample - loss: 0.5255 - acc: 0.9051 - val_loss: 0.4405 - val_acc: 0.9280\n",
      "Epoch 8/1000\n",
      "52736/53091 [============================>.] - ETA: 0s - loss: 0.4903 - acc: 0.9104\n",
      "Epoch 00008: saving model to sampleModel\n",
      "53091/53091 [==============================] - 9s 173us/sample - loss: 0.4907 - acc: 0.9102 - val_loss: 0.4435 - val_acc: 0.9191\n",
      "Epoch 9/1000\n",
      "52736/53091 [============================>.] - ETA: 0s - loss: 0.4752 - acc: 0.9132\n",
      "Epoch 00009: saving model to sampleModel\n",
      "53091/53091 [==============================] - 9s 173us/sample - loss: 0.4748 - acc: 0.9133 - val_loss: 0.4043 - val_acc: 0.9332\n",
      "Epoch 10/1000\n",
      "52736/53091 [============================>.] - ETA: 0s - loss: 0.4627 - acc: 0.9139\n",
      "Epoch 00010: saving model to sampleModel\n",
      "53091/53091 [==============================] - 9s 161us/sample - loss: 0.4626 - acc: 0.9140 - val_loss: 0.3965 - val_acc: 0.9316\n",
      "Epoch 11/1000\n",
      "52736/53091 [============================>.] - ETA: 0s - loss: 0.4398 - acc: 0.9193\n",
      "Epoch 00011: saving model to sampleModel\n",
      "53091/53091 [==============================] - 9s 167us/sample - loss: 0.4400 - acc: 0.9193 - val_loss: 0.3827 - val_acc: 0.9355\n",
      "Epoch 12/1000\n",
      "52736/53091 [============================>.] - ETA: 0s - loss: 0.4320 - acc: 0.9201\n",
      "Epoch 00012: saving model to sampleModel\n",
      "53091/53091 [==============================] - 9s 166us/sample - loss: 0.4318 - acc: 0.9201 - val_loss: 0.3637 - val_acc: 0.9402\n",
      "Epoch 13/1000\n",
      "52736/53091 [============================>.] - ETA: 0s - loss: 0.4185 - acc: 0.9227\n",
      "Epoch 00013: saving model to sampleModel\n",
      "53091/53091 [==============================] - 10s 184us/sample - loss: 0.4186 - acc: 0.9228 - val_loss: 0.3608 - val_acc: 0.9411\n",
      "Epoch 14/1000\n",
      "52736/53091 [============================>.] - ETA: 0s - loss: 0.4089 - acc: 0.9238\n",
      "Epoch 00014: saving model to sampleModel\n",
      "53091/53091 [==============================] - 11s 198us/sample - loss: 0.4092 - acc: 0.9237 - val_loss: 0.3544 - val_acc: 0.9402\n",
      "Epoch 15/1000\n",
      "52736/53091 [============================>.] - ETA: 0s - loss: 0.4055 - acc: 0.9237\n",
      "Epoch 00015: saving model to sampleModel\n",
      "53091/53091 [==============================] - 11s 200us/sample - loss: 0.4053 - acc: 0.9238 - val_loss: 0.3434 - val_acc: 0.9419\n",
      "Epoch 16/1000\n",
      "52736/53091 [============================>.] - ETA: 0s - loss: 0.3988 - acc: 0.9255\n",
      "Epoch 00016: saving model to sampleModel\n",
      "53091/53091 [==============================] - 9s 175us/sample - loss: 0.3991 - acc: 0.9253 - val_loss: 0.3545 - val_acc: 0.9391\n",
      "Epoch 17/1000\n",
      "52736/53091 [============================>.] - ETA: 0s - loss: 0.3895 - acc: 0.9284\n",
      "Epoch 00017: saving model to sampleModel\n",
      "53091/53091 [==============================] - 9s 164us/sample - loss: 0.3889 - acc: 0.9286 - val_loss: 0.3315 - val_acc: 0.9447\n",
      "Epoch 18/1000\n",
      "52736/53091 [============================>.] - ETA: 0s - loss: 0.3804 - acc: 0.9309\n",
      "Epoch 00018: saving model to sampleModel\n",
      "53091/53091 [==============================] - 9s 161us/sample - loss: 0.3809 - acc: 0.9307 - val_loss: 0.3418 - val_acc: 0.9405\n",
      "Epoch 19/1000\n",
      "52736/53091 [============================>.] - ETA: 0s - loss: 0.3726 - acc: 0.9309\n",
      "Epoch 00019: saving model to sampleModel\n",
      "53091/53091 [==============================] - 13s 237us/sample - loss: 0.3721 - acc: 0.9310 - val_loss: 0.3332 - val_acc: 0.9434\n",
      "Epoch 20/1000\n",
      "52736/53091 [============================>.] - ETA: 0s - loss: 0.3696 - acc: 0.9313\n",
      "Epoch 00020: saving model to sampleModel\n",
      "53091/53091 [==============================] - 11s 199us/sample - loss: 0.3698 - acc: 0.9312 - val_loss: 0.3335 - val_acc: 0.9394\n",
      "Epoch 21/1000\n",
      "52736/53091 [============================>.] - ETA: 0s - loss: 0.3665 - acc: 0.9335\n",
      "Epoch 00021: saving model to sampleModel\n",
      "53091/53091 [==============================] - 10s 191us/sample - loss: 0.3667 - acc: 0.9335 - val_loss: 0.3191 - val_acc: 0.9472\n",
      "Epoch 22/1000\n",
      "52736/53091 [============================>.] - ETA: 0s - loss: 0.3564 - acc: 0.9355\n",
      "Epoch 00022: saving model to sampleModel\n",
      "53091/53091 [==============================] - 9s 171us/sample - loss: 0.3564 - acc: 0.9355 - val_loss: 0.3220 - val_acc: 0.9468\n",
      "Epoch 23/1000\n",
      "52736/53091 [============================>.] - ETA: 0s - loss: 0.3638 - acc: 0.9315\n",
      "Epoch 00023: saving model to sampleModel\n",
      "53091/53091 [==============================] - 15s 279us/sample - loss: 0.3638 - acc: 0.9315 - val_loss: 0.3136 - val_acc: 0.9491\n",
      "Epoch 24/1000\n",
      "52736/53091 [============================>.] - ETA: 0s - loss: 0.3521 - acc: 0.9344\n",
      "Epoch 00024: saving model to sampleModel\n",
      "53091/53091 [==============================] - 15s 289us/sample - loss: 0.3519 - acc: 0.9345 - val_loss: 0.3192 - val_acc: 0.9448\n",
      "Epoch 25/1000\n",
      "52736/53091 [============================>.] - ETA: 0s - loss: 0.3609 - acc: 0.9317\n",
      "Epoch 00025: saving model to sampleModel\n",
      "53091/53091 [==============================] - 11s 208us/sample - loss: 0.3609 - acc: 0.9317 - val_loss: 0.3067 - val_acc: 0.9486\n",
      "Epoch 26/1000\n",
      "52736/53091 [============================>.] - ETA: 0s - loss: 0.3515 - acc: 0.9349\n",
      "Epoch 00026: saving model to sampleModel\n",
      "53091/53091 [==============================] - 11s 215us/sample - loss: 0.3515 - acc: 0.9349 - val_loss: 0.3087 - val_acc: 0.9499\n",
      "Epoch 27/1000\n",
      "52736/53091 [============================>.] - ETA: 0s - loss: 0.3410 - acc: 0.9380\n",
      "Epoch 00027: saving model to sampleModel\n",
      "53091/53091 [==============================] - 11s 205us/sample - loss: 0.3413 - acc: 0.9379 - val_loss: 0.3192 - val_acc: 0.9454\n",
      "Epoch 28/1000\n",
      "52736/53091 [============================>.] - ETA: 0s - loss: 0.3433 - acc: 0.9373\n",
      "Epoch 00028: saving model to sampleModel\n",
      "53091/53091 [==============================] - 14s 256us/sample - loss: 0.3433 - acc: 0.9373 - val_loss: 0.3002 - val_acc: 0.9480\n",
      "Epoch 29/1000\n",
      "52736/53091 [============================>.] - ETA: 0s - loss: 0.3392 - acc: 0.9370\n",
      "Epoch 00029: saving model to sampleModel\n",
      "53091/53091 [==============================] - 14s 261us/sample - loss: 0.3394 - acc: 0.9369 - val_loss: 0.3272 - val_acc: 0.9443\n",
      "Epoch 30/1000\n",
      "52736/53091 [============================>.] - ETA: 0s - loss: 0.3417 - acc: 0.9370\n",
      "Epoch 00030: saving model to sampleModel\n",
      "53091/53091 [==============================] - 9s 178us/sample - loss: 0.3413 - acc: 0.9371 - val_loss: 0.3138 - val_acc: 0.9445\n",
      "Epoch 31/1000\n",
      "52736/53091 [============================>.] - ETA: 0s - loss: 0.3343 - acc: 0.9385\n",
      "Epoch 00031: saving model to sampleModel\n",
      "53091/53091 [==============================] - 9s 170us/sample - loss: 0.3343 - acc: 0.9385 - val_loss: 0.3097 - val_acc: 0.9482\n"
     ]
    },
    {
     "name": "stdout",
     "output_type": "stream",
     "text": [
      "Epoch 32/1000\n",
      "52736/53091 [============================>.] - ETA: 0s - loss: 0.3341 - acc: 0.9377\n",
      "Epoch 00032: saving model to sampleModel\n",
      "53091/53091 [==============================] - 8s 151us/sample - loss: 0.3338 - acc: 0.9377 - val_loss: 0.3026 - val_acc: 0.9483\n",
      "Epoch 33/1000\n",
      "52736/53091 [============================>.] - ETA: 0s - loss: 0.3390 - acc: 0.9361\n",
      "Epoch 00033: saving model to sampleModel\n",
      "53091/53091 [==============================] - 8s 157us/sample - loss: 0.3390 - acc: 0.9361 - val_loss: 0.2932 - val_acc: 0.9490\n",
      "Epoch 34/1000\n",
      "52736/53091 [============================>.] - ETA: 0s - loss: 0.3313 - acc: 0.9380\n",
      "Epoch 00034: saving model to sampleModel\n",
      "53091/53091 [==============================] - 10s 193us/sample - loss: 0.3315 - acc: 0.9380 - val_loss: 0.3225 - val_acc: 0.9434\n",
      "Epoch 35/1000\n",
      "52736/53091 [============================>.] - ETA: 0s - loss: 0.3240 - acc: 0.9411\n",
      "Epoch 00035: saving model to sampleModel\n",
      "53091/53091 [==============================] - 9s 174us/sample - loss: 0.3239 - acc: 0.9412 - val_loss: 0.3068 - val_acc: 0.9468\n",
      "Epoch 36/1000\n",
      "52736/53091 [============================>.] - ETA: 0s - loss: 0.3302 - acc: 0.9379\n",
      "Epoch 00036: saving model to sampleModel\n",
      "53091/53091 [==============================] - 9s 163us/sample - loss: 0.3299 - acc: 0.9379 - val_loss: 0.2946 - val_acc: 0.9503\n",
      "Epoch 37/1000\n",
      "52736/53091 [============================>.] - ETA: 0s - loss: 0.3255 - acc: 0.9397\n",
      "Epoch 00037: saving model to sampleModel\n",
      "53091/53091 [==============================] - 9s 163us/sample - loss: 0.3258 - acc: 0.9397 - val_loss: 0.2960 - val_acc: 0.9480\n",
      "Epoch 38/1000\n",
      "52736/53091 [============================>.] - ETA: 0s - loss: 0.3253 - acc: 0.9399\n",
      "Epoch 00038: saving model to sampleModel\n",
      "53091/53091 [==============================] - 9s 169us/sample - loss: 0.3257 - acc: 0.9398 - val_loss: 0.2813 - val_acc: 0.9535\n",
      "Epoch 39/1000\n",
      "52736/53091 [============================>.] - ETA: 0s - loss: 0.3174 - acc: 0.9410\n",
      "Epoch 00039: saving model to sampleModel\n",
      "53091/53091 [==============================] - 9s 168us/sample - loss: 0.3175 - acc: 0.9410 - val_loss: 0.2881 - val_acc: 0.9505\n",
      "Epoch 40/1000\n",
      "52736/53091 [============================>.] - ETA: 0s - loss: 0.3151 - acc: 0.9423\n",
      "Epoch 00040: saving model to sampleModel\n",
      "53091/53091 [==============================] - 8s 153us/sample - loss: 0.3145 - acc: 0.9424 - val_loss: 0.2775 - val_acc: 0.9525\n",
      "Epoch 41/1000\n",
      "52736/53091 [============================>.] - ETA: 0s - loss: 0.3155 - acc: 0.9412\n",
      "Epoch 00041: saving model to sampleModel\n",
      "53091/53091 [==============================] - 10s 190us/sample - loss: 0.3152 - acc: 0.9412 - val_loss: 0.2887 - val_acc: 0.9510\n",
      "Epoch 42/1000\n",
      "52736/53091 [============================>.] - ETA: 0s - loss: 0.3118 - acc: 0.9425\n",
      "Epoch 00042: saving model to sampleModel\n",
      "53091/53091 [==============================] - 9s 179us/sample - loss: 0.3115 - acc: 0.9426 - val_loss: 0.2851 - val_acc: 0.9507\n",
      "Epoch 43/1000\n",
      "52736/53091 [============================>.] - ETA: 0s - loss: 0.3156 - acc: 0.9405\n",
      "Epoch 00043: saving model to sampleModel\n",
      "53091/53091 [==============================] - 9s 165us/sample - loss: 0.3160 - acc: 0.9404 - val_loss: 0.3086 - val_acc: 0.9440\n",
      "Epoch 44/1000\n",
      "52736/53091 [============================>.] - ETA: 0s - loss: 0.3100 - acc: 0.9430\n",
      "Epoch 00044: saving model to sampleModel\n",
      "53091/53091 [==============================] - 8s 159us/sample - loss: 0.3102 - acc: 0.9430 - val_loss: 0.2794 - val_acc: 0.9517\n",
      "Epoch 45/1000\n",
      "52736/53091 [============================>.] - ETA: 0s - loss: 0.3103 - acc: 0.9423\n",
      "Epoch 00045: saving model to sampleModel\n",
      "53091/53091 [==============================] - 10s 196us/sample - loss: 0.3108 - acc: 0.9422 - val_loss: 0.2844 - val_acc: 0.9498\n",
      "Epoch 46/1000\n",
      "52736/53091 [============================>.] - ETA: 0s - loss: 0.3071 - acc: 0.9432\n",
      "Epoch 00046: saving model to sampleModel\n",
      "53091/53091 [==============================] - 9s 174us/sample - loss: 0.3069 - acc: 0.9432 - val_loss: 0.2719 - val_acc: 0.9537\n",
      "Epoch 47/1000\n",
      "52736/53091 [============================>.] - ETA: 0s - loss: 0.3120 - acc: 0.9418\n",
      "Epoch 00047: saving model to sampleModel\n",
      "53091/53091 [==============================] - 12s 220us/sample - loss: 0.3119 - acc: 0.9418 - val_loss: 0.2826 - val_acc: 0.9516\n",
      "Epoch 48/1000\n",
      "52736/53091 [============================>.] - ETA: 0s - loss: 0.3180 - acc: 0.9405\n",
      "Epoch 00048: saving model to sampleModel\n",
      "53091/53091 [==============================] - 10s 191us/sample - loss: 0.3183 - acc: 0.9404 - val_loss: 0.2841 - val_acc: 0.9519\n",
      "Epoch 49/1000\n",
      "52736/53091 [============================>.] - ETA: 0s - loss: 0.3127 - acc: 0.9425\n",
      "Epoch 00049: saving model to sampleModel\n",
      "53091/53091 [==============================] - 9s 166us/sample - loss: 0.3129 - acc: 0.9424 - val_loss: 0.2781 - val_acc: 0.9534\n",
      "Epoch 50/1000\n",
      "52736/53091 [============================>.] - ETA: 0s - loss: 0.3065 - acc: 0.9420\n",
      "Epoch 00050: saving model to sampleModel\n",
      "53091/53091 [==============================] - 9s 162us/sample - loss: 0.3066 - acc: 0.9420 - val_loss: 0.2900 - val_acc: 0.9498\n",
      "Epoch 51/1000\n",
      "52736/53091 [============================>.] - ETA: 0s - loss: 0.2948 - acc: 0.9462\n",
      "Epoch 00051: saving model to sampleModel\n",
      "53091/53091 [==============================] - 8s 159us/sample - loss: 0.2949 - acc: 0.9461 - val_loss: 0.2765 - val_acc: 0.9541\n",
      "Epoch 52/1000\n",
      "52736/53091 [============================>.] - ETA: 0s - loss: 0.2970 - acc: 0.9447\n",
      "Epoch 00052: saving model to sampleModel\n",
      "53091/53091 [==============================] - 8s 157us/sample - loss: 0.2972 - acc: 0.9447 - val_loss: 0.2714 - val_acc: 0.9529\n",
      "Epoch 53/1000\n",
      "52736/53091 [============================>.] - ETA: 0s - loss: 0.3028 - acc: 0.9436\n",
      "Epoch 00053: saving model to sampleModel\n",
      "53091/53091 [==============================] - 9s 164us/sample - loss: 0.3029 - acc: 0.9436 - val_loss: 0.2677 - val_acc: 0.9563\n",
      "Epoch 54/1000\n",
      "52736/53091 [============================>.] - ETA: 0s - loss: 0.3010 - acc: 0.9438\n",
      "Epoch 00054: saving model to sampleModel\n",
      "53091/53091 [==============================] - 9s 171us/sample - loss: 0.3007 - acc: 0.9439 - val_loss: 0.2966 - val_acc: 0.9471\n",
      "Epoch 55/1000\n",
      "52736/53091 [============================>.] - ETA: 0s - loss: 0.3052 - acc: 0.9431\n",
      "Epoch 00055: saving model to sampleModel\n",
      "53091/53091 [==============================] - 9s 172us/sample - loss: 0.3050 - acc: 0.9432 - val_loss: 0.2780 - val_acc: 0.9536\n",
      "Epoch 56/1000\n",
      "52736/53091 [============================>.] - ETA: 0s - loss: 0.2985 - acc: 0.9453\n",
      "Epoch 00056: saving model to sampleModel\n",
      "53091/53091 [==============================] - 9s 166us/sample - loss: 0.2988 - acc: 0.9453 - val_loss: 0.2713 - val_acc: 0.9523\n",
      "Epoch 57/1000\n",
      "52736/53091 [============================>.] - ETA: 0s - loss: 0.3044 - acc: 0.9426\n",
      "Epoch 00057: saving model to sampleModel\n",
      "53091/53091 [==============================] - 8s 160us/sample - loss: 0.3048 - acc: 0.9425 - val_loss: 0.2834 - val_acc: 0.9495\n",
      "Epoch 58/1000\n",
      "52736/53091 [============================>.] - ETA: 0s - loss: 0.3002 - acc: 0.9450\n",
      "Epoch 00058: saving model to sampleModel\n",
      "53091/53091 [==============================] - 9s 167us/sample - loss: 0.3002 - acc: 0.9450 - val_loss: 0.2786 - val_acc: 0.9523\n",
      "Epoch 59/1000\n",
      "52736/53091 [============================>.] - ETA: 0s - loss: 0.2954 - acc: 0.9452\n",
      "Epoch 00059: saving model to sampleModel\n",
      "53091/53091 [==============================] - 9s 178us/sample - loss: 0.2955 - acc: 0.9452 - val_loss: 0.2737 - val_acc: 0.9529\n",
      "Epoch 60/1000\n",
      "52736/53091 [============================>.] - ETA: 0s - loss: 0.2930 - acc: 0.9452\n",
      "Epoch 00060: saving model to sampleModel\n",
      "53091/53091 [==============================] - 9s 174us/sample - loss: 0.2928 - acc: 0.9452 - val_loss: 0.2905 - val_acc: 0.9467\n",
      "Epoch 61/1000\n",
      "52736/53091 [============================>.] - ETA: 0s - loss: 0.2942 - acc: 0.9459\n",
      "Epoch 00061: saving model to sampleModel\n",
      "53091/53091 [==============================] - 8s 160us/sample - loss: 0.2941 - acc: 0.9459 - val_loss: 0.2789 - val_acc: 0.9506\n",
      "Epoch 62/1000\n",
      "52736/53091 [============================>.] - ETA: 0s - loss: 0.2931 - acc: 0.9447\n",
      "Epoch 00062: saving model to sampleModel\n",
      "53091/53091 [==============================] - 8s 160us/sample - loss: 0.2933 - acc: 0.9447 - val_loss: 0.2795 - val_acc: 0.9524\n"
     ]
    },
    {
     "name": "stdout",
     "output_type": "stream",
     "text": [
      "Epoch 63/1000\n",
      "52736/53091 [============================>.] - ETA: 0s - loss: 0.2934 - acc: 0.9444\n",
      "Epoch 00063: saving model to sampleModel\n",
      "53091/53091 [==============================] - 8s 152us/sample - loss: 0.2935 - acc: 0.9444 - val_loss: 0.2604 - val_acc: 0.9576\n",
      "Epoch 64/1000\n",
      "52736/53091 [============================>.] - ETA: 0s - loss: 0.2886 - acc: 0.9457\n",
      "Epoch 00064: saving model to sampleModel\n",
      "53091/53091 [==============================] - 9s 161us/sample - loss: 0.2888 - acc: 0.9457 - val_loss: 0.2653 - val_acc: 0.9543\n",
      "Epoch 65/1000\n",
      "52736/53091 [============================>.] - ETA: 0s - loss: 0.2954 - acc: 0.9452\n",
      "Epoch 00065: saving model to sampleModel\n",
      "53091/53091 [==============================] - 8s 158us/sample - loss: 0.2955 - acc: 0.9452 - val_loss: 0.2707 - val_acc: 0.9552\n",
      "Epoch 66/1000\n",
      "52736/53091 [============================>.] - ETA: 0s - loss: 0.2941 - acc: 0.9441\n",
      "Epoch 00066: saving model to sampleModel\n",
      "53091/53091 [==============================] - 8s 151us/sample - loss: 0.2940 - acc: 0.9442 - val_loss: 0.2821 - val_acc: 0.9514\n",
      "Epoch 67/1000\n",
      "52736/53091 [============================>.] - ETA: 0s - loss: 0.2957 - acc: 0.9438\n",
      "Epoch 00067: saving model to sampleModel\n",
      "53091/53091 [==============================] - 8s 153us/sample - loss: 0.2954 - acc: 0.9439 - val_loss: 0.2631 - val_acc: 0.9576\n",
      "Epoch 68/1000\n",
      "52736/53091 [============================>.] - ETA: 0s - loss: 0.2846 - acc: 0.9463\n",
      "Epoch 00068: saving model to sampleModel\n",
      "53091/53091 [==============================] - 8s 148us/sample - loss: 0.2844 - acc: 0.9464 - val_loss: 0.2765 - val_acc: 0.9517\n",
      "Epoch 69/1000\n",
      "52736/53091 [============================>.] - ETA: 0s - loss: 0.2889 - acc: 0.9457\n",
      "Epoch 00069: saving model to sampleModel\n",
      "53091/53091 [==============================] - 8s 149us/sample - loss: 0.2888 - acc: 0.9457 - val_loss: 0.2550 - val_acc: 0.9593\n",
      "Epoch 70/1000\n",
      "52736/53091 [============================>.] - ETA: 0s - loss: 0.2861 - acc: 0.9467\n",
      "Epoch 00070: saving model to sampleModel\n",
      "53091/53091 [==============================] - 8s 149us/sample - loss: 0.2861 - acc: 0.9467 - val_loss: 0.2558 - val_acc: 0.9563\n",
      "Epoch 71/1000\n",
      "52736/53091 [============================>.] - ETA: 0s - loss: 0.2884 - acc: 0.9474\n",
      "Epoch 00071: saving model to sampleModel\n",
      "53091/53091 [==============================] - 8s 147us/sample - loss: 0.2879 - acc: 0.9475 - val_loss: 0.2619 - val_acc: 0.9562\n",
      "Epoch 72/1000\n",
      "52736/53091 [============================>.] - ETA: 0s - loss: 0.2840 - acc: 0.9473\n",
      "Epoch 00072: saving model to sampleModel\n",
      "53091/53091 [==============================] - 8s 153us/sample - loss: 0.2842 - acc: 0.9472 - val_loss: 0.2819 - val_acc: 0.9515\n",
      "Epoch 73/1000\n",
      "52736/53091 [============================>.] - ETA: 0s - loss: 0.2889 - acc: 0.9454\n",
      "Epoch 00073: saving model to sampleModel\n",
      "53091/53091 [==============================] - 8s 155us/sample - loss: 0.2888 - acc: 0.9455 - val_loss: 0.2808 - val_acc: 0.9495\n",
      "Epoch 74/1000\n",
      "52736/53091 [============================>.] - ETA: 0s - loss: 0.2828 - acc: 0.9469\n",
      "Epoch 00074: saving model to sampleModel\n",
      "53091/53091 [==============================] - 8s 159us/sample - loss: 0.2827 - acc: 0.9469 - val_loss: 0.2638 - val_acc: 0.9546\n",
      "Epoch 75/1000\n",
      "52736/53091 [============================>.] - ETA: 0s - loss: 0.2888 - acc: 0.9459\n",
      "Epoch 00075: saving model to sampleModel\n",
      "53091/53091 [==============================] - 8s 156us/sample - loss: 0.2888 - acc: 0.9458 - val_loss: 0.2554 - val_acc: 0.9576\n",
      "Epoch 76/1000\n",
      "52736/53091 [============================>.] - ETA: 0s - loss: 0.2836 - acc: 0.9473\n",
      "Epoch 00076: saving model to sampleModel\n",
      "53091/53091 [==============================] - 8s 151us/sample - loss: 0.2838 - acc: 0.9472 - val_loss: 0.2647 - val_acc: 0.9553\n",
      "Epoch 77/1000\n",
      "52736/53091 [============================>.] - ETA: 0s - loss: 0.2854 - acc: 0.9475\n",
      "Epoch 00077: saving model to sampleModel\n",
      "53091/53091 [==============================] - 8s 149us/sample - loss: 0.2851 - acc: 0.9476 - val_loss: 0.2584 - val_acc: 0.9558\n",
      "Epoch 78/1000\n",
      "52736/53091 [============================>.] - ETA: 0s - loss: 0.2847 - acc: 0.9472\n",
      "Epoch 00078: saving model to sampleModel\n",
      "53091/53091 [==============================] - 8s 150us/sample - loss: 0.2850 - acc: 0.9471 - val_loss: 0.2570 - val_acc: 0.9557\n",
      "Epoch 79/1000\n",
      "52736/53091 [============================>.] - ETA: 0s - loss: 0.2842 - acc: 0.9477\n",
      "Epoch 00079: saving model to sampleModel\n",
      "53091/53091 [==============================] - 8s 149us/sample - loss: 0.2842 - acc: 0.9477 - val_loss: 0.2568 - val_acc: 0.9564\n"
     ]
    }
   ],
   "source": [
    "#best model 9.1Mb : loss: 0.3844 - accuracy: 0.8755 - val_loss: 0.3243 - val_accuracy: 0.8951 \n",
    "history = model.fit(\n",
    "    X_train,\n",
    "    y_train,\n",
    "    epochs=1000,\n",
    "    batch_size=512,\n",
    "    validation_data=(X_test, y_test),\n",
    "    callbacks=[cp_callback,tf.keras.callbacks.EarlyStopping(monitor='val_acc', patience=10)]\n",
    ")"
   ]
  },
  {
   "cell_type": "code",
   "execution_count": 41,
   "metadata": {},
   "outputs": [
    {
     "name": "stdout",
     "output_type": "stream",
     "text": [
      "17698/17698 [==============================] - 1s 45us/sample - loss: 0.2568 - acc: 0.9564\n"
     ]
    }
   ],
   "source": [
    "val_loss, val_acc = model.evaluate(X_test, y_test, batch_size=512)"
   ]
  },
  {
   "cell_type": "code",
   "execution_count": 42,
   "metadata": {},
   "outputs": [
    {
     "data": {
      "image/png": "[encoded data removed]",
      "text/plain": [
       "<Figure size 576x360 with 1 Axes>"
      ]
     },
     "metadata": {
      "needs_background": "light"
     },
     "output_type": "display_data"
    }
   ],
   "source": [
    "import matplotlib.pyplot as plt\n",
    "import pandas as pd\n",
    "pd.DataFrame(history.history).plot(figsize=(8,5))\n",
    "plt.show()"
   ]
  },
  {
   "cell_type": "code",
   "execution_count": null,
   "metadata": {},
   "outputs": [],
   "source": []
  },
  {
   "cell_type": "markdown",
   "metadata": {},
   "source": [
    "# Save Model"
   ]
  },
  {
   "cell_type": "code",
   "execution_count": 43,
   "metadata": {},
   "outputs": [],
   "source": [
    "model.save(model_save_path, include_optimizer=False)"
   ]
  },
  {
   "cell_type": "code",
   "execution_count": null,
   "metadata": {},
   "outputs": [],
   "source": []
  },
  {
   "cell_type": "markdown",
   "metadata": {},
   "source": [
    "# Visualize"
   ]
  },
  {
   "cell_type": "code",
   "execution_count": 44,
   "metadata": {},
   "outputs": [
    {
     "name": "stdout",
     "output_type": "stream",
     "text": [
      "WARNING:tensorflow:No training configuration found in save file: the model was *not* compiled. Compile it manually.\n"
     ]
    }
   ],
   "source": [
    "model = tf.keras.models.load_model(model_save_path)\n",
    "predict_result = model.predict(np.array([X_test[0]]))\n",
    "#print(np.squeeze(predict_result))\n",
    "#print(np.argmax(np.squeeze(predict_result)))"
   ]
  },
  {
   "cell_type": "code",
   "execution_count": 45,
   "metadata": {
    "scrolled": false
   },
   "outputs": [
    {
     "data": {
      "image/png": "[encoded data removed]",
      "text/plain": [
       "<Figure size 1440x1440 with 2 Axes>"
      ]
     },
     "metadata": {
      "needs_background": "light"
     },
     "output_type": "display_data"
    },
    {
     "name": "stdout",
     "output_type": "stream",
     "text": [
      "Classification Report\n",
      "              precision    recall  f1-score   support\n",
      "\n",
      "           0       0.96      0.93      0.94       623\n",
      "           1       0.94      0.98      0.95       685\n",
      "           2       0.97      1.00      0.98       585\n",
      "           3       0.98      0.95      0.97       706\n",
      "           4       0.96      0.94      0.95       647\n",
      "           5       0.99      0.97      0.98       752\n",
      "           6       0.96      0.98      0.97       683\n",
      "           7       0.98      0.97      0.98       685\n",
      "           8       0.97      0.94      0.95       678\n",
      "           9       0.95      0.97      0.96       673\n",
      "          10       0.96      0.97      0.97       670\n",
      "          11       0.97      0.98      0.97       735\n",
      "          12       0.86      0.95      0.90       462\n",
      "          13       0.94      0.86      0.90       385\n",
      "          14       0.94      0.96      0.95       633\n",
      "          15       0.99      0.97      0.98       592\n",
      "          16       0.95      0.98      0.97       528\n",
      "          17       0.94      0.94      0.94       708\n",
      "          18       0.98      0.94      0.96       634\n",
      "          19       0.94      0.95      0.94       694\n",
      "          20       0.87      0.95      0.91       650\n",
      "          21       0.96      0.90      0.93       644\n",
      "          22       0.97      0.95      0.96       708\n",
      "          23       0.95      0.94      0.94       666\n",
      "          24       0.99      0.97      0.98       675\n",
      "          25       0.98      0.98      0.98       703\n",
      "          26       0.95      0.98      0.96       469\n",
      "          27       0.97      0.98      0.98       424\n",
      "          28       0.00      0.00      0.00         1\n",
      "\n",
      "    accuracy                           0.96     17698\n",
      "   macro avg       0.92      0.92      0.92     17698\n",
      "weighted avg       0.96      0.96      0.96     17698\n",
      "\n"
     ]
    },
    {
     "name": "stderr",
     "output_type": "stream",
     "text": [
      "/Users/pranav/opt/anaconda3/lib/python3.7/site-packages/sklearn/metrics/_classification.py:1318: UndefinedMetricWarning: Precision and F-score are ill-defined and being set to 0.0 in labels with no predicted samples. Use `zero_division` parameter to control this behavior.\n",
      "  _warn_prf(average, modifier, msg_start, len(result))\n",
      "/Users/pranav/opt/anaconda3/lib/python3.7/site-packages/sklearn/metrics/_classification.py:1318: UndefinedMetricWarning: Precision and F-score are ill-defined and being set to 0.0 in labels with no predicted samples. Use `zero_division` parameter to control this behavior.\n",
      "  _warn_prf(average, modifier, msg_start, len(result))\n",
      "/Users/pranav/opt/anaconda3/lib/python3.7/site-packages/sklearn/metrics/_classification.py:1318: UndefinedMetricWarning: Precision and F-score are ill-defined and being set to 0.0 in labels with no predicted samples. Use `zero_division` parameter to control this behavior.\n",
      "  _warn_prf(average, modifier, msg_start, len(result))\n"
     ]
    }
   ],
   "source": [
    "import pandas as pd\n",
    "import seaborn as sns\n",
    "import matplotlib.pyplot as plt\n",
    "from sklearn.metrics import confusion_matrix, classification_report\n",
    "\n",
    "def print_confusion_matrix(y_true, y_pred, report=True):\n",
    "    labels = sorted(list(set(y_true)))\n",
    "    cmx_data = confusion_matrix(y_true, y_pred, labels=labels)\n",
    "    \n",
    "    df_cmx = pd.DataFrame(cmx_data, index=labels, columns=labels)\n",
    " \n",
    "    fig, ax = plt.subplots(figsize=(20, 20))\n",
    "    sns.heatmap(df_cmx, annot=True, fmt='g' ,square=False)\n",
    "    ax.set_ylim(len(set(y_true)), 0)\n",
    "    plt.show()\n",
    "    \n",
    "    if report:\n",
    "        print('Classification Report')\n",
    "        print(classification_report(y_test, y_pred))\n",
    "\n",
    "Y_pred = model.predict(X_test)\n",
    "y_pred = np.argmax(Y_pred, axis=1)\n",
    "\n",
    "print_confusion_matrix(y_test, y_pred)"
   ]
  },
  {
   "cell_type": "code",
   "execution_count": null,
   "metadata": {},
   "outputs": [],
   "source": []
  }
 ],
 "metadata": {
  "kernelspec": {
   "display_name": "Python 3 (ipykernel)",
   "language": "python",
   "name": "python3"
  },
  "language_info": {
   "codemirror_mode": {
    "name": "ipython",
    "version": 3
   },
   "file_extension": ".py",
   "mimetype": "text/x-python",
   "name": "python",
   "nbconvert_exporter": "python",
   "pygments_lexer": "ipython3",
   "version": "3.7.6"
  }
 },
 "nbformat": 4,
 "nbformat_minor": 4
}
