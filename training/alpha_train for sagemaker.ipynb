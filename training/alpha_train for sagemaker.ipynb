{
 "cells": [
  {
   "cell_type": "markdown",
   "metadata": {},
   "source": [
    "# preferable do the following in a virtual environment as tensorflow needs to be downgraded to v1 to be compatible with sagemaker"
   ]
  },
  {
   "cell_type": "code",
   "execution_count": null,
   "metadata": {},
   "outputs": [],
   "source": [
    "!pip install tensorflow==1.15.5"
   ]
  },
  {
   "cell_type": "code",
   "execution_count": null,
   "metadata": {},
   "outputs": [],
   "source": []
  },
  {
   "cell_type": "code",
   "execution_count": null,
   "metadata": {},
   "outputs": [],
   "source": []
  },
  {
   "cell_type": "code",
   "execution_count": 1,
   "metadata": {},
   "outputs": [],
   "source": [
    "import csv\n",
    "import numpy as np\n",
    "import tensorflow as tf\n",
    "from sklearn.model_selection import train_test_split\n",
    "#from keras.models import Sequential\n",
    "#from keras import models, layers\n",
    "#from keras.layers import Conv2D, MaxPooling2D, Flatten, Dense, Dropout, BatchNormalization, LSTM, GRU, Bidirectional"
   ]
  },
  {
   "cell_type": "code",
   "execution_count": null,
   "metadata": {},
   "outputs": [],
   "source": []
  },
  {
   "cell_type": "code",
   "execution_count": 2,
   "metadata": {},
   "outputs": [
    {
     "data": {
      "text/plain": [
       "'1.15.5'"
      ]
     },
     "execution_count": 2,
     "metadata": {},
     "output_type": "execute_result"
    }
   ],
   "source": [
    "#make sure the tensorflow version using is 1.15.5\n",
    "tf.__version__"
   ]
  },
  {
   "cell_type": "code",
   "execution_count": 3,
   "metadata": {},
   "outputs": [],
   "source": [
    "dataset_p1 = 'keypoint_part1.csv'\n",
    "dataset_p2 = 'keypoint_part2.csv'\n",
    "dataset_p3 = 'keypoint_part3.csv'\n",
    "dataset_p4 = 'data.csv'\n",
    "model_save_path = 'newModel.hdf5'"
   ]
  },
  {
   "cell_type": "code",
   "execution_count": 4,
   "metadata": {},
   "outputs": [],
   "source": [
    "NUM_CLASSES = 29\n",
    "RANDOM_SEED = 42"
   ]
  },
  {
   "cell_type": "code",
   "execution_count": 5,
   "metadata": {},
   "outputs": [],
   "source": [
    "X_dataset1 = np.loadtxt(dataset_p1, delimiter=',', dtype='float32', usecols=list(range(1, (21 * 2) + 1)))\n",
    "y_dataset1 = np.loadtxt(dataset_p1, delimiter=',', dtype='int32', usecols=(0))"
   ]
  },
  {
   "cell_type": "code",
   "execution_count": 6,
   "metadata": {},
   "outputs": [],
   "source": [
    "X_dataset2 = np.loadtxt(dataset_p2, delimiter=',', dtype='float32', usecols=list(range(1, (21 * 2) + 1)))\n",
    "y_dataset2 = np.loadtxt(dataset_p2, delimiter=',', dtype='int32', usecols=(0))\n",
    "y_dataset2 = y_dataset2+10"
   ]
  },
  {
   "cell_type": "code",
   "execution_count": 7,
   "metadata": {},
   "outputs": [],
   "source": [
    "X_dataset3 = np.loadtxt(dataset_p3, delimiter=',', dtype='float32', usecols=list(range(1, (21 * 2) + 1)))\n",
    "y_dataset3 = np.loadtxt(dataset_p3, delimiter=',', dtype='int32', usecols=(0))\n",
    "y_dataset3 = y_dataset3+20"
   ]
  },
  {
   "cell_type": "code",
   "execution_count": 8,
   "metadata": {},
   "outputs": [],
   "source": [
    "X_dataset4 = np.loadtxt(dataset_p4, delimiter=',', dtype='float32', usecols=list(range(1, (21 * 2) + 1)))\n",
    "y_dataset4 = np.loadtxt(dataset_p4, delimiter=',', dtype='int32', usecols=(0))"
   ]
  },
  {
   "cell_type": "code",
   "execution_count": 9,
   "metadata": {},
   "outputs": [],
   "source": [
    "concat_x = np.concatenate((X_dataset1,X_dataset2),axis=0)\n",
    "concat_x = np.concatenate((concat_x,X_dataset3),axis=0)\n",
    "concat_x = np.concatenate((concat_x,X_dataset4),axis=0)"
   ]
  },
  {
   "cell_type": "code",
   "execution_count": 10,
   "metadata": {},
   "outputs": [
    {
     "name": "stdout",
     "output_type": "stream",
     "text": [
      "(70789,)\n"
     ]
    }
   ],
   "source": [
    "concat_y = np.concatenate((y_dataset1,y_dataset2),axis=0)\n",
    "concat_y = np.concatenate((concat_y,y_dataset3),axis=0)\n",
    "concat_y = np.concatenate((concat_y,y_dataset4),axis=0)\n",
    "print(concat_y.shape)"
   ]
  },
  {
   "cell_type": "code",
   "execution_count": 11,
   "metadata": {},
   "outputs": [
    {
     "data": {
      "text/plain": [
       "(70789, 42)"
      ]
     },
     "execution_count": 11,
     "metadata": {},
     "output_type": "execute_result"
    }
   ],
   "source": [
    "concat_x.shape"
   ]
  },
  {
   "cell_type": "code",
   "execution_count": 12,
   "metadata": {},
   "outputs": [],
   "source": [
    "X_train, X_test, y_train, y_test = train_test_split(concat_x, concat_y, train_size=0.75, random_state=RANDOM_SEED)"
   ]
  },
  {
   "cell_type": "code",
   "execution_count": 13,
   "metadata": {},
   "outputs": [],
   "source": [
    "### Validation data\n",
    "x_train_split, x_valid_split, y_train_split, y_valid_split = train_test_split(X_train\n",
    "                                                                              ,y_train\n",
    "                                                                              ,test_size=.2\n",
    "                                                                              ,random_state=RANDOM_SEED\n",
    "                                                                              ,shuffle=True)"
   ]
  },
  {
   "cell_type": "code",
   "execution_count": 84,
   "metadata": {},
   "outputs": [],
   "source": [
    "\n",
    "model = tf.keras.Sequential([\n",
    "    tf.keras.layers.Input((21 * 2, )),\n",
    "    tf.keras.layers.Dense(4096, activation='relu'),\n",
    "    tf.keras.layers.Dropout(0.3),\n",
    "    tf.keras.layers.Dense(29, activation='softmax')\n",
    "])"
   ]
  },
  {
   "cell_type": "code",
   "execution_count": null,
   "metadata": {},
   "outputs": [],
   "source": []
  },
  {
   "cell_type": "code",
   "execution_count": 85,
   "metadata": {},
   "outputs": [
    {
     "name": "stdout",
     "output_type": "stream",
     "text": [
      "Model: \"sequential_11\"\n",
      "_________________________________________________________________\n",
      "Layer (type)                 Output Shape              Param #   \n",
      "=================================================================\n",
      "dense_31 (Dense)             (None, 4096)              176128    \n",
      "_________________________________________________________________\n",
      "dropout_19 (Dropout)         (None, 4096)              0         \n",
      "_________________________________________________________________\n",
      "dense_32 (Dense)             (None, 29)                118813    \n",
      "=================================================================\n",
      "Total params: 294,941\n",
      "Trainable params: 294,941\n",
      "Non-trainable params: 0\n",
      "_________________________________________________________________\n"
     ]
    }
   ],
   "source": [
    "model.summary()  # tf.keras.utils.plot_model(model, show_shapes=True)"
   ]
  },
  {
   "cell_type": "code",
   "execution_count": 86,
   "metadata": {},
   "outputs": [],
   "source": [
    "\n",
    "cp_callback = tf.keras.callbacks.ModelCheckpoint(\n",
    "    model_save_path, verbose=1, save_weights_only=False)"
   ]
  },
  {
   "cell_type": "code",
   "execution_count": 87,
   "metadata": {},
   "outputs": [],
   "source": [
    "model.compile(\n",
    "    optimizer='adam',\n",
    "    loss='sparse_categorical_crossentropy',\n",
    "    metrics=['accuracy']\n",
    ")"
   ]
  },
  {
   "cell_type": "code",
   "execution_count": 88,
   "metadata": {},
   "outputs": [],
   "source": [
    "#import numpy as np\n",
    "#series_input_train = np.expand_dims(X_train, axis=-1)"
   ]
  },
  {
   "cell_type": "code",
   "execution_count": 89,
   "metadata": {
    "scrolled": true,
    "tags": [
     "outputPrepend"
    ]
   },
   "outputs": [
    {
     "name": "stdout",
     "output_type": "stream",
     "text": [
      "Train on 53091 samples, validate on 17698 samples\n",
      "Epoch 1/1000\n",
      "52224/53091 [============================>.] - ETA: 0s - loss: 1.1574 - acc: 0.7351\n",
      "Epoch 00001: saving model to newModel.hdf5\n",
      "53091/53091 [==============================] - 5s 94us/sample - loss: 1.1484 - acc: 0.7369 - val_loss: 0.5572 - val_acc: 0.8796\n",
      "Epoch 2/1000\n",
      "52224/53091 [============================>.] - ETA: 0s - loss: 0.4736 - acc: 0.8841\n",
      "Epoch 00002: saving model to newModel.hdf5\n",
      "53091/53091 [==============================] - 4s 83us/sample - loss: 0.4730 - acc: 0.8844 - val_loss: 0.4038 - val_acc: 0.9045\n",
      "Epoch 3/1000\n",
      "52224/53091 [============================>.] - ETA: 0s - loss: 0.3688 - acc: 0.9075\n",
      "Epoch 00003: saving model to newModel.hdf5\n",
      "53091/53091 [==============================] - 4s 81us/sample - loss: 0.3686 - acc: 0.9076 - val_loss: 0.3346 - val_acc: 0.9187\n",
      "Epoch 4/1000\n",
      "52736/53091 [============================>.] - ETA: 0s - loss: 0.3217 - acc: 0.9190\n",
      "Epoch 00004: saving model to newModel.hdf5\n",
      "53091/53091 [==============================] - 4s 83us/sample - loss: 0.3213 - acc: 0.9190 - val_loss: 0.2981 - val_acc: 0.9261\n",
      "Epoch 5/1000\n",
      "52224/53091 [============================>.] - ETA: 0s - loss: 0.2879 - acc: 0.9268\n",
      "Epoch 00005: saving model to newModel.hdf5\n",
      "53091/53091 [==============================] - 5s 94us/sample - loss: 0.2878 - acc: 0.9268 - val_loss: 0.2761 - val_acc: 0.9292\n",
      "Epoch 6/1000\n",
      "52224/53091 [============================>.] - ETA: 0s - loss: 0.2638 - acc: 0.9323\n",
      "Epoch 00006: saving model to newModel.hdf5\n",
      "53091/53091 [==============================] - 6s 106us/sample - loss: 0.2647 - acc: 0.9320 - val_loss: 0.2517 - val_acc: 0.9348\n",
      "Epoch 7/1000\n",
      "52736/53091 [============================>.] - ETA: 0s - loss: 0.2439 - acc: 0.9357\n",
      "Epoch 00007: saving model to newModel.hdf5\n",
      "53091/53091 [==============================] - 5s 88us/sample - loss: 0.2441 - acc: 0.9356 - val_loss: 0.2348 - val_acc: 0.9389\n",
      "Epoch 8/1000\n",
      "52736/53091 [============================>.] - ETA: 0s - loss: 0.2304 - acc: 0.9379\n",
      "Epoch 00008: saving model to newModel.hdf5\n",
      "53091/53091 [==============================] - 5s 87us/sample - loss: 0.2301 - acc: 0.9380 - val_loss: 0.2292 - val_acc: 0.9376\n",
      "Epoch 9/1000\n",
      "52224/53091 [============================>.] - ETA: 0s - loss: 0.2192 - acc: 0.9405\n",
      "Epoch 00009: saving model to newModel.hdf5\n",
      "53091/53091 [==============================] - 4s 79us/sample - loss: 0.2187 - acc: 0.9405 - val_loss: 0.2133 - val_acc: 0.9434\n",
      "Epoch 10/1000\n",
      "52224/53091 [============================>.] - ETA: 0s - loss: 0.2077 - acc: 0.9440\n",
      "Epoch 00010: saving model to newModel.hdf5\n",
      "53091/53091 [==============================] - 5s 95us/sample - loss: 0.2079 - acc: 0.9439 - val_loss: 0.2022 - val_acc: 0.9449\n",
      "Epoch 11/1000\n",
      "52224/53091 [============================>.] - ETA: 0s - loss: 0.1970 - acc: 0.9462\n",
      "Epoch 00011: saving model to newModel.hdf5\n",
      "53091/53091 [==============================] - 5s 87us/sample - loss: 0.1970 - acc: 0.9461 - val_loss: 0.1971 - val_acc: 0.9452\n",
      "Epoch 12/1000\n",
      "52224/53091 [============================>.] - ETA: 0s - loss: 0.1903 - acc: 0.9478\n",
      "Epoch 00012: saving model to newModel.hdf5\n",
      "53091/53091 [==============================] - 5s 94us/sample - loss: 0.1908 - acc: 0.9478 - val_loss: 0.1922 - val_acc: 0.9492\n",
      "Epoch 13/1000\n",
      "52736/53091 [============================>.] - ETA: 0s - loss: 0.1838 - acc: 0.9496\n",
      "Epoch 00013: saving model to newModel.hdf5\n",
      "53091/53091 [==============================] - 5s 98us/sample - loss: 0.1839 - acc: 0.9495 - val_loss: 0.1919 - val_acc: 0.9471\n",
      "Epoch 14/1000\n",
      "52736/53091 [============================>.] - ETA: 0s - loss: 0.1767 - acc: 0.9519\n",
      "Epoch 00014: saving model to newModel.hdf5\n",
      "53091/53091 [==============================] - 7s 133us/sample - loss: 0.1769 - acc: 0.9518 - val_loss: 0.1882 - val_acc: 0.9479\n",
      "Epoch 15/1000\n",
      "52224/53091 [============================>.] - ETA: 0s - loss: 0.1691 - acc: 0.9522\n",
      "Epoch 00015: saving model to newModel.hdf5\n",
      "53091/53091 [==============================] - 5s 90us/sample - loss: 0.1699 - acc: 0.9520 - val_loss: 0.1745 - val_acc: 0.9528\n",
      "Epoch 16/1000\n",
      "52224/53091 [============================>.] - ETA: 0s - loss: 0.1664 - acc: 0.9539\n",
      "Epoch 00016: saving model to newModel.hdf5\n",
      "53091/53091 [==============================] - 6s 105us/sample - loss: 0.1667 - acc: 0.9538 - val_loss: 0.1748 - val_acc: 0.9530\n",
      "Epoch 17/1000\n",
      "52736/53091 [============================>.] - ETA: 0s - loss: 0.1612 - acc: 0.9553\n",
      "Epoch 00017: saving model to newModel.hdf5\n",
      "53091/53091 [==============================] - 8s 143us/sample - loss: 0.1613 - acc: 0.9553 - val_loss: 0.1728 - val_acc: 0.9520\n",
      "Epoch 18/1000\n",
      "52736/53091 [============================>.] - ETA: 0s - loss: 0.1560 - acc: 0.9556\n",
      "Epoch 00018: saving model to newModel.hdf5\n",
      "53091/53091 [==============================] - 7s 134us/sample - loss: 0.1562 - acc: 0.9556 - val_loss: 0.1680 - val_acc: 0.9548\n",
      "Epoch 19/1000\n",
      "52224/53091 [============================>.] - ETA: 0s - loss: 0.1538 - acc: 0.9577\n",
      "Epoch 00019: saving model to newModel.hdf5\n",
      "53091/53091 [==============================] - 4s 79us/sample - loss: 0.1535 - acc: 0.9578 - val_loss: 0.1637 - val_acc: 0.9560\n",
      "Epoch 20/1000\n",
      "52224/53091 [============================>.] - ETA: 0s - loss: 0.1486 - acc: 0.9586\n",
      "Epoch 00020: saving model to newModel.hdf5\n",
      "53091/53091 [==============================] - 5s 102us/sample - loss: 0.1486 - acc: 0.9586 - val_loss: 0.1615 - val_acc: 0.9580\n",
      "Epoch 21/1000\n",
      "52736/53091 [============================>.] - ETA: 0s - loss: 0.1452 - acc: 0.9596\n",
      "Epoch 00021: saving model to newModel.hdf5\n",
      "53091/53091 [==============================] - 7s 127us/sample - loss: 0.1452 - acc: 0.9595 - val_loss: 0.1632 - val_acc: 0.9565\n",
      "Epoch 22/1000\n",
      "52224/53091 [============================>.] - ETA: 0s - loss: 0.1469 - acc: 0.9582\n",
      "Epoch 00022: saving model to newModel.hdf5\n",
      "53091/53091 [==============================] - 5s 90us/sample - loss: 0.1468 - acc: 0.9582 - val_loss: 0.1609 - val_acc: 0.9550\n",
      "Epoch 23/1000\n",
      "52736/53091 [============================>.] - ETA: 0s - loss: 0.1423 - acc: 0.9588\n",
      "Epoch 00023: saving model to newModel.hdf5\n",
      "53091/53091 [==============================] - 5s 88us/sample - loss: 0.1423 - acc: 0.9588 - val_loss: 0.1558 - val_acc: 0.9587\n",
      "Epoch 24/1000\n",
      "52736/53091 [============================>.] - ETA: 0s - loss: 0.1386 - acc: 0.9603\n",
      "Epoch 00024: saving model to newModel.hdf5\n",
      "53091/53091 [==============================] - 5s 92us/sample - loss: 0.1384 - acc: 0.9603 - val_loss: 0.1631 - val_acc: 0.9545\n",
      "Epoch 25/1000\n",
      "52224/53091 [============================>.] - ETA: 0s - loss: 0.1352 - acc: 0.9611\n",
      "Epoch 00025: saving model to newModel.hdf5\n",
      "53091/53091 [==============================] - 5s 92us/sample - loss: 0.1349 - acc: 0.9611 - val_loss: 0.1533 - val_acc: 0.9587\n",
      "Epoch 26/1000\n",
      "52224/53091 [============================>.] - ETA: 0s - loss: 0.1311 - acc: 0.9631\n",
      "Epoch 00026: saving model to newModel.hdf5\n",
      "53091/53091 [==============================] - 5s 87us/sample - loss: 0.1312 - acc: 0.9630 - val_loss: 0.1545 - val_acc: 0.9576\n",
      "Epoch 27/1000\n",
      "52224/53091 [============================>.] - ETA: 0s - loss: 0.1300 - acc: 0.9625\n",
      "Epoch 00027: saving model to newModel.hdf5\n",
      "53091/53091 [==============================] - 4s 83us/sample - loss: 0.1300 - acc: 0.9624 - val_loss: 0.1487 - val_acc: 0.9611\n",
      "Epoch 28/1000\n",
      "52736/53091 [============================>.] - ETA: 0s - loss: 0.1273 - acc: 0.9629\n",
      "Epoch 00028: saving model to newModel.hdf5\n",
      "53091/53091 [==============================] - 5s 94us/sample - loss: 0.1275 - acc: 0.9630 - val_loss: 0.1452 - val_acc: 0.9620\n",
      "Epoch 29/1000\n",
      "52224/53091 [============================>.] - ETA: 0s - loss: 0.1238 - acc: 0.9638\n",
      "Epoch 00029: saving model to newModel.hdf5\n",
      "53091/53091 [==============================] - 5s 87us/sample - loss: 0.1250 - acc: 0.9635 - val_loss: 0.1499 - val_acc: 0.9602\n",
      "Epoch 30/1000\n",
      "52736/53091 [============================>.] - ETA: 0s - loss: 0.1240 - acc: 0.9640\n",
      "Epoch 00030: saving model to newModel.hdf5\n",
      "53091/53091 [==============================] - 4s 83us/sample - loss: 0.1240 - acc: 0.9640 - val_loss: 0.1504 - val_acc: 0.9571\n",
      "Epoch 31/1000\n"
     ]
    },
    {
     "name": "stdout",
     "output_type": "stream",
     "text": [
      "52736/53091 [============================>.] - ETA: 0s - loss: 0.1203 - acc: 0.9647\n",
      "Epoch 00031: saving model to newModel.hdf5\n",
      "53091/53091 [==============================] - 4s 78us/sample - loss: 0.1201 - acc: 0.9648 - val_loss: 0.1447 - val_acc: 0.9619\n",
      "Epoch 32/1000\n",
      "52224/53091 [============================>.] - ETA: 0s - loss: 0.1195 - acc: 0.9647\n",
      "Epoch 00032: saving model to newModel.hdf5\n",
      "53091/53091 [==============================] - 4s 82us/sample - loss: 0.1192 - acc: 0.9649 - val_loss: 0.1454 - val_acc: 0.9605\n",
      "Epoch 33/1000\n",
      "52224/53091 [============================>.] - ETA: 0s - loss: 0.1201 - acc: 0.9639\n",
      "Epoch 00033: saving model to newModel.hdf5\n",
      "53091/53091 [==============================] - 4s 81us/sample - loss: 0.1201 - acc: 0.9639 - val_loss: 0.1423 - val_acc: 0.9615\n",
      "Epoch 34/1000\n",
      "52736/53091 [============================>.] - ETA: 0s - loss: 0.1167 - acc: 0.9658\n",
      "Epoch 00034: saving model to newModel.hdf5\n",
      "53091/53091 [==============================] - 5s 87us/sample - loss: 0.1166 - acc: 0.9658 - val_loss: 0.1388 - val_acc: 0.9633\n",
      "Epoch 35/1000\n",
      "52736/53091 [============================>.] - ETA: 0s - loss: 0.1156 - acc: 0.9656\n",
      "Epoch 00035: saving model to newModel.hdf5\n",
      "53091/53091 [==============================] - 4s 84us/sample - loss: 0.1156 - acc: 0.9655 - val_loss: 0.1384 - val_acc: 0.9637\n",
      "Epoch 36/1000\n",
      "52736/53091 [============================>.] - ETA: 0s - loss: 0.1124 - acc: 0.9662\n",
      "Epoch 00036: saving model to newModel.hdf5\n",
      "53091/53091 [==============================] - 5s 89us/sample - loss: 0.1127 - acc: 0.9662 - val_loss: 0.1351 - val_acc: 0.9638\n",
      "Epoch 37/1000\n",
      "52736/53091 [============================>.] - ETA: 0s - loss: 0.1113 - acc: 0.9676\n",
      "Epoch 00037: saving model to newModel.hdf5\n",
      "53091/53091 [==============================] - 5s 88us/sample - loss: 0.1112 - acc: 0.9675 - val_loss: 0.1354 - val_acc: 0.9635\n",
      "Epoch 38/1000\n",
      "52224/53091 [============================>.] - ETA: 0s - loss: 0.1090 - acc: 0.9671\n",
      "Epoch 00038: saving model to newModel.hdf5\n",
      "53091/53091 [==============================] - 5s 86us/sample - loss: 0.1086 - acc: 0.9673 - val_loss: 0.1398 - val_acc: 0.9621\n",
      "Epoch 39/1000\n",
      "52224/53091 [============================>.] - ETA: 0s - loss: 0.1094 - acc: 0.9669\n",
      "Epoch 00039: saving model to newModel.hdf5\n",
      "53091/53091 [==============================] - 4s 83us/sample - loss: 0.1098 - acc: 0.9669 - val_loss: 0.1370 - val_acc: 0.9630\n",
      "Epoch 40/1000\n",
      "52736/53091 [============================>.] - ETA: 0s - loss: 0.1066 - acc: 0.9681\n",
      "Epoch 00040: saving model to newModel.hdf5\n",
      "53091/53091 [==============================] - 5s 86us/sample - loss: 0.1066 - acc: 0.9681 - val_loss: 0.1419 - val_acc: 0.9614\n",
      "Epoch 41/1000\n",
      "52736/53091 [============================>.] - ETA: 0s - loss: 0.1050 - acc: 0.9677\n",
      "Epoch 00041: saving model to newModel.hdf5\n",
      "53091/53091 [==============================] - 5s 86us/sample - loss: 0.1051 - acc: 0.9677 - val_loss: 0.1381 - val_acc: 0.9640\n",
      "Epoch 42/1000\n",
      "52736/53091 [============================>.] - ETA: 0s - loss: 0.1044 - acc: 0.9687\n",
      "Epoch 00042: saving model to newModel.hdf5\n",
      "53091/53091 [==============================] - 4s 84us/sample - loss: 0.1047 - acc: 0.9685 - val_loss: 0.1325 - val_acc: 0.9633\n",
      "Epoch 43/1000\n",
      "52224/53091 [============================>.] - ETA: 0s - loss: 0.1022 - acc: 0.9694\n",
      "Epoch 00043: saving model to newModel.hdf5\n",
      "53091/53091 [==============================] - 5s 87us/sample - loss: 0.1024 - acc: 0.9693 - val_loss: 0.1393 - val_acc: 0.9614\n",
      "Epoch 44/1000\n",
      "52224/53091 [============================>.] - ETA: 0s - loss: 0.1019 - acc: 0.9691\n",
      "Epoch 00044: saving model to newModel.hdf5\n",
      "53091/53091 [==============================] - 4s 83us/sample - loss: 0.1018 - acc: 0.9691 - val_loss: 0.1394 - val_acc: 0.9628\n",
      "Epoch 45/1000\n",
      "52224/53091 [============================>.] - ETA: 0s - loss: 0.1006 - acc: 0.9689\n",
      "Epoch 00045: saving model to newModel.hdf5\n",
      "53091/53091 [==============================] - 5s 91us/sample - loss: 0.1002 - acc: 0.9690 - val_loss: 0.1325 - val_acc: 0.9641\n",
      "Epoch 46/1000\n",
      "52224/53091 [============================>.] - ETA: 0s - loss: 0.1001 - acc: 0.9696\n",
      "Epoch 00046: saving model to newModel.hdf5\n",
      "53091/53091 [==============================] - 4s 84us/sample - loss: 0.1002 - acc: 0.9696 - val_loss: 0.1344 - val_acc: 0.9640\n",
      "Epoch 47/1000\n",
      "52736/53091 [============================>.] - ETA: 0s - loss: 0.0982 - acc: 0.9699\n",
      "Epoch 00047: saving model to newModel.hdf5\n",
      "53091/53091 [==============================] - 5s 88us/sample - loss: 0.0982 - acc: 0.9699 - val_loss: 0.1345 - val_acc: 0.9648\n",
      "Epoch 48/1000\n",
      "52224/53091 [============================>.] - ETA: 0s - loss: 0.0966 - acc: 0.9703\n",
      "Epoch 00048: saving model to newModel.hdf5\n",
      "53091/53091 [==============================] - 5s 89us/sample - loss: 0.0971 - acc: 0.9702 - val_loss: 0.1316 - val_acc: 0.9651\n",
      "Epoch 49/1000\n",
      "52224/53091 [============================>.] - ETA: 0s - loss: 0.0961 - acc: 0.9703\n",
      "Epoch 00049: saving model to newModel.hdf5\n",
      "53091/53091 [==============================] - 5s 88us/sample - loss: 0.0960 - acc: 0.9703 - val_loss: 0.1285 - val_acc: 0.9659\n",
      "Epoch 50/1000\n",
      "52736/53091 [============================>.] - ETA: 0s - loss: 0.0953 - acc: 0.9708\n",
      "Epoch 00050: saving model to newModel.hdf5\n",
      "53091/53091 [==============================] - 4s 85us/sample - loss: 0.0956 - acc: 0.9706 - val_loss: 0.1271 - val_acc: 0.9659\n",
      "Epoch 51/1000\n",
      "52224/53091 [============================>.] - ETA: 0s - loss: 0.0943 - acc: 0.9711\n",
      "Epoch 00051: saving model to newModel.hdf5\n",
      "53091/53091 [==============================] - 4s 83us/sample - loss: 0.0947 - acc: 0.9711 - val_loss: 0.1359 - val_acc: 0.9649\n",
      "Epoch 52/1000\n",
      "52224/53091 [============================>.] - ETA: 0s - loss: 0.0914 - acc: 0.9716\n",
      "Epoch 00052: saving model to newModel.hdf5\n",
      "53091/53091 [==============================] - 5s 87us/sample - loss: 0.0918 - acc: 0.9714 - val_loss: 0.1283 - val_acc: 0.9645\n",
      "Epoch 53/1000\n",
      "52224/53091 [============================>.] - ETA: 0s - loss: 0.0922 - acc: 0.9712\n",
      "Epoch 00053: saving model to newModel.hdf5\n",
      "53091/53091 [==============================] - 4s 81us/sample - loss: 0.0921 - acc: 0.9712 - val_loss: 0.1265 - val_acc: 0.9662\n",
      "Epoch 54/1000\n",
      "52224/53091 [============================>.] - ETA: 0s - loss: 0.0910 - acc: 0.9710\n",
      "Epoch 00054: saving model to newModel.hdf5\n",
      "53091/53091 [==============================] - 5s 86us/sample - loss: 0.0909 - acc: 0.9709 - val_loss: 0.1294 - val_acc: 0.9658\n",
      "Epoch 55/1000\n",
      "52736/53091 [============================>.] - ETA: 0s - loss: 0.0890 - acc: 0.9721\n",
      "Epoch 00055: saving model to newModel.hdf5\n",
      "53091/53091 [==============================] - 4s 81us/sample - loss: 0.0892 - acc: 0.9720 - val_loss: 0.1286 - val_acc: 0.9657\n",
      "Epoch 56/1000\n",
      "52736/53091 [============================>.] - ETA: 0s - loss: 0.0877 - acc: 0.9721\n",
      "Epoch 00056: saving model to newModel.hdf5\n",
      "53091/53091 [==============================] - 5s 97us/sample - loss: 0.0880 - acc: 0.9720 - val_loss: 0.1303 - val_acc: 0.9659\n",
      "Epoch 57/1000\n",
      "52224/53091 [============================>.] - ETA: 0s - loss: 0.0881 - acc: 0.9730\n",
      "Epoch 00057: saving model to newModel.hdf5\n",
      "53091/53091 [==============================] - 4s 81us/sample - loss: 0.0880 - acc: 0.9731 - val_loss: 0.1277 - val_acc: 0.9667\n",
      "Epoch 58/1000\n",
      "52224/53091 [============================>.] - ETA: 0s - loss: 0.0878 - acc: 0.9729\n",
      "Epoch 00058: saving model to newModel.hdf5\n",
      "53091/53091 [==============================] - 4s 82us/sample - loss: 0.0880 - acc: 0.9727 - val_loss: 0.1268 - val_acc: 0.9664\n",
      "Epoch 59/1000\n",
      "52736/53091 [============================>.] - ETA: 0s - loss: 0.0847 - acc: 0.9735\n",
      "Epoch 00059: saving model to newModel.hdf5\n",
      "53091/53091 [==============================] - 4s 84us/sample - loss: 0.0849 - acc: 0.9734 - val_loss: 0.1245 - val_acc: 0.9671\n",
      "Epoch 60/1000\n",
      "52224/53091 [============================>.] - ETA: 0s - loss: 0.0859 - acc: 0.9735\n",
      "Epoch 00060: saving model to newModel.hdf5\n",
      "53091/53091 [==============================] - 4s 83us/sample - loss: 0.0858 - acc: 0.9736 - val_loss: 0.1263 - val_acc: 0.9668\n",
      "Epoch 61/1000\n",
      "52224/53091 [============================>.] - ETA: 0s - loss: 0.0852 - acc: 0.9734\n",
      "Epoch 00061: saving model to newModel.hdf5\n",
      "53091/53091 [==============================] - 5s 86us/sample - loss: 0.0849 - acc: 0.9735 - val_loss: 0.1298 - val_acc: 0.9669\n"
     ]
    },
    {
     "name": "stdout",
     "output_type": "stream",
     "text": [
      "Epoch 62/1000\n",
      "52736/53091 [============================>.] - ETA: 0s - loss: 0.0836 - acc: 0.9735\n",
      "Epoch 00062: saving model to newModel.hdf5\n",
      "53091/53091 [==============================] - 4s 84us/sample - loss: 0.0836 - acc: 0.9735 - val_loss: 0.1275 - val_acc: 0.9667\n",
      "Epoch 63/1000\n",
      "52736/53091 [============================>.] - ETA: 0s - loss: 0.0836 - acc: 0.9738\n",
      "Epoch 00063: saving model to newModel.hdf5\n",
      "53091/53091 [==============================] - 4s 77us/sample - loss: 0.0837 - acc: 0.9738 - val_loss: 0.1314 - val_acc: 0.9662\n",
      "Epoch 64/1000\n",
      "52224/53091 [============================>.] - ETA: 0s - loss: 0.0843 - acc: 0.9729\n",
      "Epoch 00064: saving model to newModel.hdf5\n",
      "53091/53091 [==============================] - 4s 82us/sample - loss: 0.0845 - acc: 0.9729 - val_loss: 0.1291 - val_acc: 0.9671\n",
      "Epoch 65/1000\n",
      "52736/53091 [============================>.] - ETA: 0s - loss: 0.0825 - acc: 0.9739\n",
      "Epoch 00065: saving model to newModel.hdf5\n",
      "53091/53091 [==============================] - 4s 82us/sample - loss: 0.0824 - acc: 0.9739 - val_loss: 0.1272 - val_acc: 0.9681\n",
      "Epoch 66/1000\n",
      "52736/53091 [============================>.] - ETA: 0s - loss: 0.0804 - acc: 0.9744\n",
      "Epoch 00066: saving model to newModel.hdf5\n",
      "53091/53091 [==============================] - 5s 90us/sample - loss: 0.0805 - acc: 0.9743 - val_loss: 0.1264 - val_acc: 0.9681\n",
      "Epoch 67/1000\n",
      "52224/53091 [============================>.] - ETA: 0s - loss: 0.0826 - acc: 0.9732\n",
      "Epoch 00067: saving model to newModel.hdf5\n",
      "53091/53091 [==============================] - 4s 83us/sample - loss: 0.0827 - acc: 0.9732 - val_loss: 0.1283 - val_acc: 0.9660\n",
      "Epoch 68/1000\n",
      "52736/53091 [============================>.] - ETA: 0s - loss: 0.0783 - acc: 0.9751\n",
      "Epoch 00068: saving model to newModel.hdf5\n",
      "53091/53091 [==============================] - 5s 88us/sample - loss: 0.0785 - acc: 0.9750 - val_loss: 0.1207 - val_acc: 0.9694\n",
      "Epoch 69/1000\n",
      "52224/53091 [============================>.] - ETA: 0s - loss: 0.0786 - acc: 0.9753\n",
      "Epoch 00069: saving model to newModel.hdf5\n",
      "53091/53091 [==============================] - 4s 83us/sample - loss: 0.0789 - acc: 0.9752 - val_loss: 0.1287 - val_acc: 0.9672\n",
      "Epoch 70/1000\n",
      "52224/53091 [============================>.] - ETA: 0s - loss: 0.0819 - acc: 0.9736\n",
      "Epoch 00070: saving model to newModel.hdf5\n",
      "53091/53091 [==============================] - 4s 82us/sample - loss: 0.0819 - acc: 0.9737 - val_loss: 0.1286 - val_acc: 0.9665\n",
      "Epoch 71/1000\n",
      "52736/53091 [============================>.] - ETA: 0s - loss: 0.0782 - acc: 0.9756\n",
      "Epoch 00071: saving model to newModel.hdf5\n",
      "53091/53091 [==============================] - 4s 82us/sample - loss: 0.0784 - acc: 0.9755 - val_loss: 0.1232 - val_acc: 0.9681\n",
      "Epoch 72/1000\n",
      "52224/53091 [============================>.] - ETA: 0s - loss: 0.0767 - acc: 0.9754\n",
      "Epoch 00072: saving model to newModel.hdf5\n",
      "53091/53091 [==============================] - 4s 82us/sample - loss: 0.0769 - acc: 0.9754 - val_loss: 0.1258 - val_acc: 0.9683\n",
      "Epoch 73/1000\n",
      "52736/53091 [============================>.] - ETA: 0s - loss: 0.0778 - acc: 0.9754\n",
      "Epoch 00073: saving model to newModel.hdf5\n",
      "53091/53091 [==============================] - 5s 92us/sample - loss: 0.0777 - acc: 0.9754 - val_loss: 0.1271 - val_acc: 0.9665\n",
      "Epoch 74/1000\n",
      "52736/53091 [============================>.] - ETA: 0s - loss: 0.0779 - acc: 0.9753\n",
      "Epoch 00074: saving model to newModel.hdf5\n",
      "53091/53091 [==============================] - 4s 83us/sample - loss: 0.0781 - acc: 0.9752 - val_loss: 0.1267 - val_acc: 0.9683\n",
      "Epoch 75/1000\n",
      "52736/53091 [============================>.] - ETA: 0s - loss: 0.0753 - acc: 0.9759\n",
      "Epoch 00075: saving model to newModel.hdf5\n",
      "53091/53091 [==============================] - 5s 86us/sample - loss: 0.0752 - acc: 0.9759 - val_loss: 0.1315 - val_acc: 0.9674\n",
      "Epoch 76/1000\n",
      "52736/53091 [============================>.] - ETA: 0s - loss: 0.0736 - acc: 0.9769\n",
      "Epoch 00076: saving model to newModel.hdf5\n",
      "53091/53091 [==============================] - 4s 83us/sample - loss: 0.0736 - acc: 0.9768 - val_loss: 0.1251 - val_acc: 0.9694\n",
      "Epoch 77/1000\n",
      "52736/53091 [============================>.] - ETA: 0s - loss: 0.0759 - acc: 0.9757\n",
      "Epoch 00077: saving model to newModel.hdf5\n",
      "53091/53091 [==============================] - 4s 83us/sample - loss: 0.0760 - acc: 0.9757 - val_loss: 0.1264 - val_acc: 0.9681\n",
      "Epoch 78/1000\n",
      "52224/53091 [============================>.] - ETA: 0s - loss: 0.0731 - acc: 0.9767\n",
      "Epoch 00078: saving model to newModel.hdf5\n",
      "53091/53091 [==============================] - 4s 82us/sample - loss: 0.0729 - acc: 0.9767 - val_loss: 0.1305 - val_acc: 0.9662\n"
     ]
    }
   ],
   "source": [
    "#best model 9.1Mb : loss: 0.3844 - accuracy: 0.8755 - val_loss: 0.3243 - val_accuracy: 0.8951 \n",
    "history = model.fit(\n",
    "    X_train,\n",
    "    y_train,\n",
    "    epochs=1000,\n",
    "    batch_size=512,\n",
    "    validation_data=(X_test, y_test),\n",
    "    callbacks=[cp_callback,tf.keras.callbacks.EarlyStopping(monitor='val_acc', patience=10)]\n",
    ")"
   ]
  },
  {
   "cell_type": "code",
   "execution_count": 90,
   "metadata": {},
   "outputs": [
    {
     "name": "stdout",
     "output_type": "stream",
     "text": [
      "17698/17698 [==============================] - 0s 19us/sample - loss: 0.1305 - acc: 0.9662\n"
     ]
    }
   ],
   "source": [
    "val_loss, val_acc = model.evaluate(X_test, y_test, batch_size=512)"
   ]
  },
  {
   "cell_type": "code",
   "execution_count": 93,
   "metadata": {},
   "outputs": [
    {
     "data": {
      "image/png": "[encoded data removed]",
      "text/plain": [
       "<Figure size 576x360 with 1 Axes>"
      ]
     },
     "metadata": {
      "needs_background": "light"
     },
     "output_type": "display_data"
    }
   ],
   "source": [
    "pd.DataFrame(history.history).plot(figsize=(8,5))\n",
    "plt.show()"
   ]
  },
  {
   "cell_type": "code",
   "execution_count": null,
   "metadata": {},
   "outputs": [],
   "source": []
  },
  {
   "cell_type": "markdown",
   "metadata": {},
   "source": [
    "# Save Model"
   ]
  },
  {
   "cell_type": "code",
   "execution_count": 94,
   "metadata": {},
   "outputs": [],
   "source": [
    "model.save(model_save_path, include_optimizer=False)"
   ]
  },
  {
   "cell_type": "code",
   "execution_count": null,
   "metadata": {},
   "outputs": [],
   "source": []
  },
  {
   "cell_type": "markdown",
   "metadata": {},
   "source": [
    "# Visualize"
   ]
  },
  {
   "cell_type": "code",
   "execution_count": 96,
   "metadata": {},
   "outputs": [
    {
     "name": "stdout",
     "output_type": "stream",
     "text": [
      "WARNING:tensorflow:No training configuration found in save file: the model was *not* compiled. Compile it manually.\n"
     ]
    }
   ],
   "source": [
    "model = tf.keras.models.load_model(model_save_path)\n",
    "predict_result = model.predict(np.array([X_test[0]]))\n",
    "#print(np.squeeze(predict_result))\n",
    "#print(np.argmax(np.squeeze(predict_result)))"
   ]
  },
  {
   "cell_type": "code",
   "execution_count": 97,
   "metadata": {},
   "outputs": [
    {
     "data": {
      "image/png": "[encoded data removed]",
      "text/plain": [
       "<Figure size 1440x1440 with 2 Axes>"
      ]
     },
     "metadata": {
      "needs_background": "light"
     },
     "output_type": "display_data"
    },
    {
     "name": "stdout",
     "output_type": "stream",
     "text": [
      "Classification Report\n",
      "              precision    recall  f1-score   support\n",
      "\n",
      "           0       0.97      0.97      0.97       571\n",
      "           1       0.97      0.98      0.97       655\n",
      "           2       1.00      0.99      0.99       622\n",
      "           3       0.99      0.97      0.98       674\n",
      "           4       0.92      0.97      0.95       681\n",
      "           5       1.00      0.97      0.98       737\n",
      "           6       0.99      0.99      0.99       658\n",
      "           7       0.99      0.98      0.99       668\n",
      "           8       0.95      0.96      0.95       714\n",
      "           9       0.99      0.98      0.98       701\n",
      "          10       0.98      0.97      0.97       736\n",
      "          11       0.99      0.97      0.98       748\n",
      "          12       0.87      0.97      0.92       470\n",
      "          13       0.98      0.84      0.91       383\n",
      "          14       0.94      0.99      0.96       644\n",
      "          15       0.99      0.98      0.98       574\n",
      "          16       0.97      0.99      0.98       568\n",
      "          17       0.94      0.92      0.93       637\n",
      "          18       0.98      0.95      0.97       669\n",
      "          19       0.95      0.97      0.96       700\n",
      "          20       0.90      0.95      0.92       684\n",
      "          21       0.99      0.90      0.94       644\n",
      "          22       0.93      0.97      0.95       670\n",
      "          23       0.95      0.94      0.95       618\n",
      "          24       0.99      0.97      0.98       690\n",
      "          25       0.98      0.99      0.99       711\n",
      "          26       0.98      0.98      0.98       445\n",
      "          27       0.98      0.98      0.98       426\n",
      "\n",
      "    accuracy                           0.97     17698\n",
      "   macro avg       0.97      0.96      0.97     17698\n",
      "weighted avg       0.97      0.97      0.97     17698\n",
      "\n"
     ]
    }
   ],
   "source": [
    "import pandas as pd\n",
    "import seaborn as sns\n",
    "import matplotlib.pyplot as plt\n",
    "from sklearn.metrics import confusion_matrix, classification_report\n",
    "\n",
    "def print_confusion_matrix(y_true, y_pred, report=True):\n",
    "    labels = sorted(list(set(y_true)))\n",
    "    cmx_data = confusion_matrix(y_true, y_pred, labels=labels)\n",
    "    \n",
    "    df_cmx = pd.DataFrame(cmx_data, index=labels, columns=labels)\n",
    " \n",
    "    fig, ax = plt.subplots(figsize=(20, 20))\n",
    "    sns.heatmap(df_cmx, annot=True, fmt='g' ,square=False)\n",
    "    ax.set_ylim(len(set(y_true)), 0)\n",
    "    plt.show()\n",
    "    \n",
    "    if report:\n",
    "        print('Classification Report')\n",
    "        print(classification_report(y_test, y_pred))\n",
    "\n",
    "Y_pred = model.predict(X_test)\n",
    "y_pred = np.argmax(Y_pred, axis=1)\n",
    "\n",
    "print_confusion_matrix(y_test, y_pred)"
   ]
  },
  {
   "cell_type": "code",
   "execution_count": null,
   "metadata": {},
   "outputs": [],
   "source": []
  }
 ],
 "metadata": {
  "kernelspec": {
   "display_name": "Python 3 (ipykernel)",
   "language": "python",
   "name": "python3"
  },
  "language_info": {
   "codemirror_mode": {
    "name": "ipython",
    "version": 3
   },
   "file_extension": ".py",
   "mimetype": "text/x-python",
   "name": "python",
   "nbconvert_exporter": "python",
   "pygments_lexer": "ipython3",
   "version": "3.7.6"
  }
 },
 "nbformat": 4,
 "nbformat_minor": 4
}
