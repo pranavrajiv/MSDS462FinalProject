{
 "cells": [
  {
   "cell_type": "code",
   "execution_count": 1,
   "metadata": {},
   "outputs": [],
   "source": [
    "import csv\n",
    "\n",
    "import numpy as np\n",
    "import tensorflow as tf\n",
    "from sklearn.model_selection import train_test_split\n",
    "\n",
    "RANDOM_SEED = 42"
   ]
  },
  {
   "cell_type": "code",
   "execution_count": 2,
   "metadata": {},
   "outputs": [],
   "source": [
    "dataset_p1 = 'model/keypoint_classifier/keypoint_part1.csv'\n",
    "dataset_p2 = 'model/keypoint_classifier/keypoint_part2.csv'\n",
    "dataset_p3 = 'model/keypoint_classifier/keypoint_part3.csv'\n",
    "dataset_p4 = 'model/keypoint_classifier/data.csv'\n",
    "model_save_path = 'model/keypoint_classifier/newModel.hdf5'"
   ]
  },
  {
   "cell_type": "code",
   "execution_count": 3,
   "metadata": {},
   "outputs": [],
   "source": [
    "NUM_CLASSES = 29"
   ]
  },
  {
   "cell_type": "code",
   "execution_count": 4,
   "metadata": {},
   "outputs": [],
   "source": [
    "X_dataset1 = np.loadtxt(dataset_p1, delimiter=',', dtype='float32', usecols=list(range(1, (21 * 2) + 1)))\n",
    "y_dataset1 = np.loadtxt(dataset_p1, delimiter=',', dtype='int32', usecols=(0))"
   ]
  },
  {
   "cell_type": "code",
   "execution_count": 5,
   "metadata": {},
   "outputs": [],
   "source": [
    "X_dataset2 = np.loadtxt(dataset_p2, delimiter=',', dtype='float32', usecols=list(range(1, (21 * 2) + 1)))\n",
    "y_dataset2 = np.loadtxt(dataset_p2, delimiter=',', dtype='int32', usecols=(0))\n",
    "y_dataset2 = y_dataset2+10"
   ]
  },
  {
   "cell_type": "code",
   "execution_count": 8,
   "metadata": {},
   "outputs": [],
   "source": [
    "X_dataset3 = np.loadtxt(dataset_p3, delimiter=',', dtype='float32', usecols=list(range(1, (21 * 2) + 1)))\n",
    "y_dataset3 = np.loadtxt(dataset_p3, delimiter=',', dtype='int32', usecols=(0))\n",
    "y_dataset3 = y_dataset3+20"
   ]
  },
  {
   "cell_type": "code",
   "execution_count": 9,
   "metadata": {},
   "outputs": [],
   "source": [
    "X_dataset4 = np.loadtxt(dataset_p4, delimiter=',', dtype='float32', usecols=list(range(1, (21 * 2) + 1)))\n",
    "y_dataset4 = np.loadtxt(dataset_p4, delimiter=',', dtype='int32', usecols=(0))"
   ]
  },
  {
   "cell_type": "code",
   "execution_count": 10,
   "metadata": {},
   "outputs": [],
   "source": [
    "concat_x = np.concatenate((X_dataset1,X_dataset2),axis=0)\n",
    "concat_x = np.concatenate((concat_x,X_dataset3),axis=0)\n",
    "concat_x = np.concatenate((concat_x,X_dataset4),axis=0)"
   ]
  },
  {
   "cell_type": "code",
   "execution_count": 11,
   "metadata": {},
   "outputs": [
    {
     "name": "stdout",
     "output_type": "stream",
     "text": [
      "(70789,)\n"
     ]
    }
   ],
   "source": [
    "concat_y = np.concatenate((y_dataset1,y_dataset2),axis=0)\n",
    "concat_y = np.concatenate((concat_y,y_dataset3),axis=0)\n",
    "concat_y = np.concatenate((concat_y,y_dataset4),axis=0)\n",
    "print(concat_y.shape)"
   ]
  },
  {
   "cell_type": "code",
   "execution_count": 12,
   "metadata": {},
   "outputs": [
    {
     "data": {
      "text/plain": [
       "(70789, 42)"
      ]
     },
     "execution_count": 12,
     "metadata": {},
     "output_type": "execute_result"
    }
   ],
   "source": [
    "concat_x.shape"
   ]
  },
  {
   "cell_type": "code",
   "execution_count": 13,
   "metadata": {},
   "outputs": [],
   "source": [
    "X_train, X_test, y_train, y_test = train_test_split(concat_x, concat_y, train_size=0.75, random_state=RANDOM_SEED)"
   ]
  },
  {
   "cell_type": "code",
   "execution_count": 40,
   "metadata": {},
   "outputs": [],
   "source": [
    "model = tf.keras.models.Sequential([\n",
    "    tf.keras.layers.Input((21 * 2, )),\n",
    "    tf.keras.layers.Dropout(0.2),\n",
    "    tf.keras.layers.Dense(256, activation='relu'),\n",
    "    tf.keras.layers.Dropout(0.3),\n",
    "    tf.keras.layers.Dense(512, activation='relu'),\n",
    "    tf.keras.layers.Dropout(0.4),\n",
    "    tf.keras.layers.Dense(1024, activation='relu'),\n",
    "    tf.keras.layers.Dropout(0.3),\n",
    "    tf.keras.layers.Dense(1024, activation='relu'),\n",
    "    tf.keras.layers.Dropout(0.3),\n",
    "    tf.keras.layers.Dense(512, activation='relu'),\n",
    "    tf.keras.layers.Dropout(0.3),\n",
    "    tf.keras.layers.Dense(30, activation='relu'),\n",
    "    tf.keras.layers.Dense(NUM_CLASSES, activation='softmax')\n",
    "])"
   ]
  },
  {
   "cell_type": "code",
   "execution_count": 41,
   "metadata": {},
   "outputs": [
    {
     "name": "stdout",
     "output_type": "stream",
     "text": [
      "Model: \"sequential_3\"\n",
      "_________________________________________________________________\n",
      " Layer (type)                Output Shape              Param #   \n",
      "=================================================================\n",
      " dropout_14 (Dropout)        (None, 42)                0         \n",
      "                                                                 \n",
      " dense_17 (Dense)            (None, 256)               11008     \n",
      "                                                                 \n",
      " dropout_15 (Dropout)        (None, 256)               0         \n",
      "                                                                 \n",
      " dense_18 (Dense)            (None, 512)               131584    \n",
      "                                                                 \n",
      " dropout_16 (Dropout)        (None, 512)               0         \n",
      "                                                                 \n",
      " dense_19 (Dense)            (None, 1024)              525312    \n",
      "                                                                 \n",
      " dropout_17 (Dropout)        (None, 1024)              0         \n",
      "                                                                 \n",
      " dense_20 (Dense)            (None, 1024)              1049600   \n",
      "                                                                 \n",
      " dropout_18 (Dropout)        (None, 1024)              0         \n",
      "                                                                 \n",
      " dense_21 (Dense)            (None, 512)               524800    \n",
      "                                                                 \n",
      " dropout_19 (Dropout)        (None, 512)               0         \n",
      "                                                                 \n",
      " dense_22 (Dense)            (None, 30)                15390     \n",
      "                                                                 \n",
      " dense_23 (Dense)            (None, 29)                899       \n",
      "                                                                 \n",
      "=================================================================\n",
      "Total params: 2,258,593\n",
      "Trainable params: 2,258,593\n",
      "Non-trainable params: 0\n",
      "_________________________________________________________________\n"
     ]
    }
   ],
   "source": [
    "model.summary()  # tf.keras.utils.plot_model(model, show_shapes=True)"
   ]
  },
  {
   "cell_type": "code",
   "execution_count": 42,
   "metadata": {},
   "outputs": [],
   "source": [
    "\n",
    "cp_callback = tf.keras.callbacks.ModelCheckpoint(\n",
    "    model_save_path, verbose=1, save_weights_only=False)"
   ]
  },
  {
   "cell_type": "code",
   "execution_count": 43,
   "metadata": {},
   "outputs": [],
   "source": [
    "# モデルコンパイル\n",
    "model.compile(\n",
    "    optimizer='adam',\n",
    "    loss='sparse_categorical_crossentropy',\n",
    "    metrics=['accuracy']\n",
    ")"
   ]
  },
  {
   "cell_type": "code",
   "execution_count": 44,
   "metadata": {
    "scrolled": true,
    "tags": [
     "outputPrepend"
    ]
   },
   "outputs": [
    {
     "name": "stdout",
     "output_type": "stream",
     "text": [
      "Epoch 1/1000\n",
      "103/104 [============================>.] - ETA: 0s - loss: 1.9123 - accuracy: 0.3983\n",
      "Epoch 00001: saving model to model/keypoint_classifier/newModel.hdf5\n",
      "104/104 [==============================] - 6s 53ms/step - loss: 1.9074 - accuracy: 0.3995 - val_loss: 0.7656 - val_accuracy: 0.7764\n",
      "Epoch 2/1000\n",
      "103/104 [============================>.] - ETA: 0s - loss: 1.0847 - accuracy: 0.6369\n",
      "Epoch 00002: saving model to model/keypoint_classifier/newModel.hdf5\n",
      "104/104 [==============================] - 5s 52ms/step - loss: 1.0841 - accuracy: 0.6369 - val_loss: 0.5583 - val_accuracy: 0.8273\n",
      "Epoch 3/1000\n",
      "103/104 [============================>.] - ETA: 0s - loss: 0.9118 - accuracy: 0.6965\n",
      "Epoch 00003: saving model to model/keypoint_classifier/newModel.hdf5\n",
      "104/104 [==============================] - 6s 55ms/step - loss: 0.9113 - accuracy: 0.6967 - val_loss: 0.5053 - val_accuracy: 0.8245\n",
      "Epoch 4/1000\n",
      "103/104 [============================>.] - ETA: 0s - loss: 0.8122 - accuracy: 0.7332\n",
      "Epoch 00004: saving model to model/keypoint_classifier/newModel.hdf5\n",
      "104/104 [==============================] - 6s 54ms/step - loss: 0.8116 - accuracy: 0.7334 - val_loss: 0.4376 - val_accuracy: 0.8669\n",
      "Epoch 5/1000\n",
      "104/104 [==============================] - ETA: 0s - loss: 0.7438 - accuracy: 0.7579\n",
      "Epoch 00005: saving model to model/keypoint_classifier/newModel.hdf5\n",
      "104/104 [==============================] - 7s 65ms/step - loss: 0.7438 - accuracy: 0.7579 - val_loss: 0.4137 - val_accuracy: 0.8800\n",
      "Epoch 6/1000\n",
      "103/104 [============================>.] - ETA: 0s - loss: 0.6974 - accuracy: 0.7732\n",
      "Epoch 00006: saving model to model/keypoint_classifier/newModel.hdf5\n",
      "104/104 [==============================] - 7s 64ms/step - loss: 0.6971 - accuracy: 0.7733 - val_loss: 0.3836 - val_accuracy: 0.8859\n",
      "Epoch 7/1000\n",
      "103/104 [============================>.] - ETA: 0s - loss: 0.6684 - accuracy: 0.7838\n",
      "Epoch 00007: saving model to model/keypoint_classifier/newModel.hdf5\n",
      "104/104 [==============================] - 7s 64ms/step - loss: 0.6676 - accuracy: 0.7840 - val_loss: 0.3832 - val_accuracy: 0.8826\n",
      "Epoch 8/1000\n",
      "104/104 [==============================] - ETA: 0s - loss: 0.6244 - accuracy: 0.7994\n",
      "Epoch 00008: saving model to model/keypoint_classifier/newModel.hdf5\n",
      "104/104 [==============================] - 7s 64ms/step - loss: 0.6244 - accuracy: 0.7994 - val_loss: 0.3379 - val_accuracy: 0.8983\n",
      "Epoch 9/1000\n",
      "104/104 [==============================] - ETA: 0s - loss: 0.6064 - accuracy: 0.8051\n",
      "Epoch 00009: saving model to model/keypoint_classifier/newModel.hdf5\n",
      "104/104 [==============================] - 6s 61ms/step - loss: 0.6064 - accuracy: 0.8051 - val_loss: 0.3555 - val_accuracy: 0.8965\n",
      "Epoch 10/1000\n",
      "103/104 [============================>.] - ETA: 0s - loss: 0.5863 - accuracy: 0.8113\n",
      "Epoch 00010: saving model to model/keypoint_classifier/newModel.hdf5\n",
      "104/104 [==============================] - 6s 61ms/step - loss: 0.5864 - accuracy: 0.8112 - val_loss: 0.3676 - val_accuracy: 0.8882\n",
      "Epoch 11/1000\n",
      "103/104 [============================>.] - ETA: 0s - loss: 0.5651 - accuracy: 0.8179\n",
      "Epoch 00011: saving model to model/keypoint_classifier/newModel.hdf5\n",
      "104/104 [==============================] - 7s 63ms/step - loss: 0.5656 - accuracy: 0.8178 - val_loss: 0.3228 - val_accuracy: 0.9048\n",
      "Epoch 12/1000\n",
      "104/104 [==============================] - ETA: 0s - loss: 0.5527 - accuracy: 0.8207\n",
      "Epoch 00012: saving model to model/keypoint_classifier/newModel.hdf5\n",
      "104/104 [==============================] - 8s 76ms/step - loss: 0.5527 - accuracy: 0.8207 - val_loss: 0.3243 - val_accuracy: 0.9040\n",
      "Epoch 13/1000\n",
      "104/104 [==============================] - ETA: 0s - loss: 0.5452 - accuracy: 0.8236\n",
      "Epoch 00013: saving model to model/keypoint_classifier/newModel.hdf5\n",
      "104/104 [==============================] - 7s 65ms/step - loss: 0.5452 - accuracy: 0.8236 - val_loss: 0.3240 - val_accuracy: 0.9046\n",
      "Epoch 14/1000\n",
      "103/104 [============================>.] - ETA: 0s - loss: 0.5298 - accuracy: 0.8295\n",
      "Epoch 00014: saving model to model/keypoint_classifier/newModel.hdf5\n",
      "104/104 [==============================] - 7s 63ms/step - loss: 0.5299 - accuracy: 0.8296 - val_loss: 0.3649 - val_accuracy: 0.8856\n",
      "Epoch 15/1000\n",
      "103/104 [============================>.] - ETA: 0s - loss: 0.5152 - accuracy: 0.8322\n",
      "Epoch 00015: saving model to model/keypoint_classifier/newModel.hdf5\n",
      "104/104 [==============================] - 6s 62ms/step - loss: 0.5153 - accuracy: 0.8321 - val_loss: 0.3620 - val_accuracy: 0.8845\n",
      "Epoch 16/1000\n",
      "104/104 [==============================] - ETA: 0s - loss: 0.5083 - accuracy: 0.8359\n",
      "Epoch 00016: saving model to model/keypoint_classifier/newModel.hdf5\n",
      "104/104 [==============================] - 7s 63ms/step - loss: 0.5083 - accuracy: 0.8359 - val_loss: 0.3464 - val_accuracy: 0.8926\n",
      "Epoch 17/1000\n",
      "104/104 [==============================] - ETA: 0s - loss: 0.5013 - accuracy: 0.8387\n",
      "Epoch 00017: saving model to model/keypoint_classifier/newModel.hdf5\n",
      "104/104 [==============================] - 8s 77ms/step - loss: 0.5013 - accuracy: 0.8387 - val_loss: 0.2991 - val_accuracy: 0.9086\n",
      "Epoch 18/1000\n",
      "104/104 [==============================] - ETA: 0s - loss: 0.4905 - accuracy: 0.8398\n",
      "Epoch 00018: saving model to model/keypoint_classifier/newModel.hdf5\n",
      "104/104 [==============================] - 7s 72ms/step - loss: 0.4905 - accuracy: 0.8398 - val_loss: 0.3109 - val_accuracy: 0.9041\n",
      "Epoch 19/1000\n",
      "104/104 [==============================] - ETA: 0s - loss: 0.4800 - accuracy: 0.8447\n",
      "Epoch 00019: saving model to model/keypoint_classifier/newModel.hdf5\n",
      "104/104 [==============================] - 7s 66ms/step - loss: 0.4800 - accuracy: 0.8447 - val_loss: 0.3510 - val_accuracy: 0.8888\n",
      "Epoch 20/1000\n",
      "103/104 [============================>.] - ETA: 0s - loss: 0.4791 - accuracy: 0.8454\n",
      "Epoch 00020: saving model to model/keypoint_classifier/newModel.hdf5\n",
      "104/104 [==============================] - 7s 66ms/step - loss: 0.4792 - accuracy: 0.8453 - val_loss: 0.3177 - val_accuracy: 0.9056\n",
      "Epoch 21/1000\n",
      "104/104 [==============================] - ETA: 0s - loss: 0.4727 - accuracy: 0.8473\n",
      "Epoch 00021: saving model to model/keypoint_classifier/newModel.hdf5\n",
      "104/104 [==============================] - 6s 61ms/step - loss: 0.4727 - accuracy: 0.8473 - val_loss: 0.3064 - val_accuracy: 0.9065\n",
      "Epoch 22/1000\n",
      "103/104 [============================>.] - ETA: 0s - loss: 0.4599 - accuracy: 0.8513\n",
      "Epoch 00022: saving model to model/keypoint_classifier/newModel.hdf5\n",
      "104/104 [==============================] - 6s 62ms/step - loss: 0.4595 - accuracy: 0.8513 - val_loss: 0.3190 - val_accuracy: 0.9021\n",
      "Epoch 23/1000\n",
      "103/104 [============================>.] - ETA: 0s - loss: 0.4599 - accuracy: 0.8514\n",
      "Epoch 00023: saving model to model/keypoint_classifier/newModel.hdf5\n",
      "104/104 [==============================] - 6s 62ms/step - loss: 0.4599 - accuracy: 0.8513 - val_loss: 0.3067 - val_accuracy: 0.9060\n",
      "Epoch 24/1000\n",
      "103/104 [============================>.] - ETA: 0s - loss: 0.4509 - accuracy: 0.8533\n",
      "Epoch 00024: saving model to model/keypoint_classifier/newModel.hdf5\n",
      "104/104 [==============================] - 7s 64ms/step - loss: 0.4514 - accuracy: 0.8533 - val_loss: 0.3344 - val_accuracy: 0.8948\n",
      "Epoch 25/1000\n",
      "103/104 [============================>.] - ETA: 0s - loss: 0.4469 - accuracy: 0.8554\n",
      "Epoch 00025: saving model to model/keypoint_classifier/newModel.hdf5\n",
      "104/104 [==============================] - 7s 69ms/step - loss: 0.4463 - accuracy: 0.8555 - val_loss: 0.2644 - val_accuracy: 0.9194\n",
      "Epoch 26/1000\n",
      "104/104 [==============================] - ETA: 0s - loss: 0.4409 - accuracy: 0.8572\n",
      "Epoch 00026: saving model to model/keypoint_classifier/newModel.hdf5\n",
      "104/104 [==============================] - 7s 67ms/step - loss: 0.4409 - accuracy: 0.8572 - val_loss: 0.2819 - val_accuracy: 0.9173\n",
      "Epoch 27/1000\n",
      "103/104 [============================>.] - ETA: 0s - loss: 0.4327 - accuracy: 0.8607\n",
      "Epoch 00027: saving model to model/keypoint_classifier/newModel.hdf5\n",
      "104/104 [==============================] - 7s 70ms/step - loss: 0.4330 - accuracy: 0.8606 - val_loss: 0.2773 - val_accuracy: 0.9122\n",
      "Epoch 28/1000\n",
      "103/104 [============================>.] - ETA: 0s - loss: 0.4345 - accuracy: 0.8598\n",
      "Epoch 00028: saving model to model/keypoint_classifier/newModel.hdf5\n",
      "104/104 [==============================] - 8s 76ms/step - loss: 0.4344 - accuracy: 0.8598 - val_loss: 0.3044 - val_accuracy: 0.9067\n"
     ]
    },
    {
     "name": "stdout",
     "output_type": "stream",
     "text": [
      "Epoch 29/1000\n",
      "104/104 [==============================] - ETA: 0s - loss: 0.4322 - accuracy: 0.8604\n",
      "Epoch 00029: saving model to model/keypoint_classifier/newModel.hdf5\n",
      "104/104 [==============================] - 7s 71ms/step - loss: 0.4322 - accuracy: 0.8604 - val_loss: 0.2944 - val_accuracy: 0.9119\n",
      "Epoch 30/1000\n",
      "103/104 [============================>.] - ETA: 0s - loss: 0.4284 - accuracy: 0.8603\n",
      "Epoch 00030: saving model to model/keypoint_classifier/newModel.hdf5\n",
      "104/104 [==============================] - 7s 68ms/step - loss: 0.4289 - accuracy: 0.8602 - val_loss: 0.3254 - val_accuracy: 0.8973\n",
      "Epoch 31/1000\n",
      "104/104 [==============================] - ETA: 0s - loss: 0.4235 - accuracy: 0.8628\n",
      "Epoch 00031: saving model to model/keypoint_classifier/newModel.hdf5\n",
      "104/104 [==============================] - 7s 65ms/step - loss: 0.4235 - accuracy: 0.8628 - val_loss: 0.3501 - val_accuracy: 0.8936\n",
      "Epoch 32/1000\n",
      "104/104 [==============================] - ETA: 0s - loss: 0.4209 - accuracy: 0.8646\n",
      "Epoch 00032: saving model to model/keypoint_classifier/newModel.hdf5\n",
      "104/104 [==============================] - 7s 67ms/step - loss: 0.4209 - accuracy: 0.8646 - val_loss: 0.2685 - val_accuracy: 0.9203\n",
      "Epoch 33/1000\n",
      "104/104 [==============================] - ETA: 0s - loss: 0.4116 - accuracy: 0.8671\n",
      "Epoch 00033: saving model to model/keypoint_classifier/newModel.hdf5\n",
      "104/104 [==============================] - 7s 69ms/step - loss: 0.4116 - accuracy: 0.8671 - val_loss: 0.3162 - val_accuracy: 0.8983\n",
      "Epoch 34/1000\n",
      "104/104 [==============================] - ETA: 0s - loss: 0.4052 - accuracy: 0.8682\n",
      "Epoch 00034: saving model to model/keypoint_classifier/newModel.hdf5\n",
      "104/104 [==============================] - 7s 69ms/step - loss: 0.4052 - accuracy: 0.8682 - val_loss: 0.3541 - val_accuracy: 0.8874\n",
      "Epoch 35/1000\n",
      "104/104 [==============================] - ETA: 0s - loss: 0.4070 - accuracy: 0.8678\n",
      "Epoch 00035: saving model to model/keypoint_classifier/newModel.hdf5\n",
      "104/104 [==============================] - 10s 94ms/step - loss: 0.4070 - accuracy: 0.8678 - val_loss: 0.3132 - val_accuracy: 0.9043\n",
      "Epoch 36/1000\n",
      "104/104 [==============================] - ETA: 0s - loss: 0.4021 - accuracy: 0.8701\n",
      "Epoch 00036: saving model to model/keypoint_classifier/newModel.hdf5\n",
      "104/104 [==============================] - 10s 92ms/step - loss: 0.4021 - accuracy: 0.8701 - val_loss: 0.3218 - val_accuracy: 0.8996\n",
      "Epoch 37/1000\n",
      "103/104 [============================>.] - ETA: 0s - loss: 0.3985 - accuracy: 0.8712\n",
      "Epoch 00037: saving model to model/keypoint_classifier/newModel.hdf5\n",
      "104/104 [==============================] - 10s 92ms/step - loss: 0.3988 - accuracy: 0.8709 - val_loss: 0.3125 - val_accuracy: 0.8981\n",
      "Epoch 38/1000\n",
      "104/104 [==============================] - ETA: 0s - loss: 0.3976 - accuracy: 0.8721\n",
      "Epoch 00038: saving model to model/keypoint_classifier/newModel.hdf5\n",
      "104/104 [==============================] - 9s 83ms/step - loss: 0.3976 - accuracy: 0.8721 - val_loss: 0.3104 - val_accuracy: 0.9035\n",
      "Epoch 39/1000\n",
      "104/104 [==============================] - ETA: 0s - loss: 0.3946 - accuracy: 0.8729\n",
      "Epoch 00039: saving model to model/keypoint_classifier/newModel.hdf5\n",
      "104/104 [==============================] - 7s 71ms/step - loss: 0.3946 - accuracy: 0.8729 - val_loss: 0.3121 - val_accuracy: 0.9082\n",
      "Epoch 40/1000\n",
      "103/104 [============================>.] - ETA: 0s - loss: 0.3928 - accuracy: 0.8728\n",
      "Epoch 00040: saving model to model/keypoint_classifier/newModel.hdf5\n",
      "104/104 [==============================] - 7s 67ms/step - loss: 0.3925 - accuracy: 0.8730 - val_loss: 0.2933 - val_accuracy: 0.9077\n",
      "Epoch 41/1000\n",
      "104/104 [==============================] - ETA: 0s - loss: 0.3875 - accuracy: 0.8743\n",
      "Epoch 00041: saving model to model/keypoint_classifier/newModel.hdf5\n",
      "104/104 [==============================] - 8s 73ms/step - loss: 0.3875 - accuracy: 0.8743 - val_loss: 0.3219 - val_accuracy: 0.8975\n",
      "Epoch 42/1000\n",
      "104/104 [==============================] - ETA: 0s - loss: 0.3844 - accuracy: 0.8755\n",
      "Epoch 00042: saving model to model/keypoint_classifier/newModel.hdf5\n",
      "104/104 [==============================] - 7s 67ms/step - loss: 0.3844 - accuracy: 0.8755 - val_loss: 0.3243 - val_accuracy: 0.8951\n"
     ]
    },
    {
     "data": {
      "text/plain": [
       "<keras.callbacks.History at 0x7fc019eee100>"
      ]
     },
     "execution_count": 44,
     "metadata": {},
     "output_type": "execute_result"
    }
   ],
   "source": [
    "model.fit(\n",
    "    X_train,\n",
    "    y_train,\n",
    "    epochs=1000,\n",
    "    batch_size=512,\n",
    "    validation_data=(X_test, y_test),\n",
    "    callbacks=[cp_callback,tf.keras.callbacks.EarlyStopping(monitor='val_accuracy', patience=10)]\n",
    ")"
   ]
  },
  {
   "cell_type": "code",
   "execution_count": 45,
   "metadata": {},
   "outputs": [
    {
     "name": "stdout",
     "output_type": "stream",
     "text": [
      "35/35 [==============================] - 1s 16ms/step - loss: 0.3243 - accuracy: 0.8951\n"
     ]
    }
   ],
   "source": [
    "val_loss, val_acc = model.evaluate(X_test, y_test, batch_size=512)"
   ]
  },
  {
   "cell_type": "code",
   "execution_count": 46,
   "metadata": {},
   "outputs": [],
   "source": [
    "model = tf.keras.models.load_model(model_save_path)"
   ]
  },
  {
   "cell_type": "code",
   "execution_count": 47,
   "metadata": {},
   "outputs": [
    {
     "name": "stdout",
     "output_type": "stream",
     "text": [
      "[4.1862400e-08 1.6644022e-07 3.6700806e-07 9.9989176e-01 9.0237438e-07\n",
      " 3.1694064e-05 8.8358561e-08 3.5916184e-08 6.2334817e-05 2.8603038e-09\n",
      " 1.3386141e-06 6.2401814e-06 3.7329333e-08 4.9752671e-08 3.6511346e-07\n",
      " 1.5794779e-12 1.3997386e-18 1.4925945e-06 8.9205709e-09 5.7792726e-09\n",
      " 1.5357947e-06 4.4641899e-07 2.2600815e-09 4.6591782e-07 6.5677006e-07\n",
      " 3.4126000e-08 4.2586812e-08 1.6259690e-18 8.5889167e-16]\n",
      "3\n"
     ]
    }
   ],
   "source": [
    "predict_result = model.predict(np.array([X_test[0]]))\n",
    "print(np.squeeze(predict_result))\n",
    "print(np.argmax(np.squeeze(predict_result)))"
   ]
  },
  {
   "cell_type": "code",
   "execution_count": 49,
   "metadata": {},
   "outputs": [
    {
     "data": {
      "image/png": "[encoded data removed]",
      "text/plain": [
       "<Figure size 1440x1440 with 2 Axes>"
      ]
     },
     "metadata": {
      "needs_background": "light"
     },
     "output_type": "display_data"
    },
    {
     "name": "stdout",
     "output_type": "stream",
     "text": [
      "Classification Report\n",
      "              precision    recall  f1-score   support\n",
      "\n",
      "           0       0.98      0.90      0.94       571\n",
      "           1       0.92      0.98      0.95       655\n",
      "           2       0.96      0.96      0.96       622\n",
      "           3       0.86      0.95      0.90       674\n",
      "           4       0.87      0.91      0.89       681\n",
      "           5       0.98      0.93      0.95       737\n",
      "           6       0.98      0.91      0.94       658\n",
      "           7       0.98      0.96      0.97       668\n",
      "           8       0.90      0.88      0.89       714\n",
      "           9       0.92      0.97      0.94       701\n",
      "          10       0.98      0.75      0.85       736\n",
      "          11       0.73      0.96      0.83       748\n",
      "          12       0.82      0.76      0.79       470\n",
      "          13       0.77      0.89      0.83       383\n",
      "          14       0.94      0.85      0.89       644\n",
      "          15       0.96      0.91      0.94       574\n",
      "          16       0.89      0.95      0.92       568\n",
      "          17       0.83      0.92      0.87       637\n",
      "          18       0.95      0.77      0.85       669\n",
      "          19       0.93      0.56      0.70       700\n",
      "          20       0.87      0.78      0.82       684\n",
      "          21       0.74      0.94      0.83       644\n",
      "          22       0.97      0.93      0.95       670\n",
      "          23       0.73      0.95      0.82       618\n",
      "          24       1.00      0.92      0.96       690\n",
      "          25       0.92      0.98      0.95       711\n",
      "          26       0.98      0.96      0.97       445\n",
      "          27       0.96      0.96      0.96       426\n",
      "\n",
      "    accuracy                           0.90     17698\n",
      "   macro avg       0.90      0.90      0.89     17698\n",
      "weighted avg       0.90      0.90      0.89     17698\n",
      "\n"
     ]
    }
   ],
   "source": [
    "import pandas as pd\n",
    "import seaborn as sns\n",
    "import matplotlib.pyplot as plt\n",
    "from sklearn.metrics import confusion_matrix, classification_report\n",
    "\n",
    "def print_confusion_matrix(y_true, y_pred, report=True):\n",
    "    labels = sorted(list(set(y_true)))\n",
    "    cmx_data = confusion_matrix(y_true, y_pred, labels=labels)\n",
    "    \n",
    "    df_cmx = pd.DataFrame(cmx_data, index=labels, columns=labels)\n",
    " \n",
    "    fig, ax = plt.subplots(figsize=(20, 20))\n",
    "    sns.heatmap(df_cmx, annot=True, fmt='g' ,square=False)\n",
    "    ax.set_ylim(len(set(y_true)), 0)\n",
    "    plt.show()\n",
    "    \n",
    "    if report:\n",
    "        print('Classification Report')\n",
    "        print(classification_report(y_test, y_pred))\n",
    "\n",
    "Y_pred = model.predict(X_test)\n",
    "y_pred = np.argmax(Y_pred, axis=1)\n",
    "\n",
    "print_confusion_matrix(y_test, y_pred)"
   ]
  },
  {
   "cell_type": "markdown",
   "metadata": {},
   "source": [
    "# Tensorflow-Lite"
   ]
  },
  {
   "cell_type": "code",
   "execution_count": 50,
   "metadata": {},
   "outputs": [],
   "source": [
    "model.save(model_save_path, include_optimizer=False)"
   ]
  },
  {
   "cell_type": "code",
   "execution_count": null,
   "metadata": {},
   "outputs": [],
   "source": [
    "#--doneee-----"
   ]
  },
  {
   "cell_type": "code",
   "execution_count": null,
   "metadata": {},
   "outputs": [],
   "source": []
  },
  {
   "cell_type": "code",
   "execution_count": 35,
   "metadata": {},
   "outputs": [
    {
     "name": "stdout",
     "output_type": "stream",
     "text": [
      "INFO:tensorflow:Assets written to: C:\\Users\\LAPTOP~1\\AppData\\Local\\Temp\\tmptzjxwvhz\\assets\n"
     ]
    },
    {
     "data": {
      "text/plain": [
       "8416"
      ]
     },
     "execution_count": 35,
     "metadata": {},
     "output_type": "execute_result"
    }
   ],
   "source": [
    "tflite_save_path = 'model/keypoint_classifier/alpha_clf.tflite'\n",
    "\n",
    "converter = tf.lite.TFLiteConverter.from_keras_model(model)\n",
    "converter.optimizations = [tf.lite.Optimize.DEFAULT]\n",
    "tflite_quantized_model = converter.convert()\n",
    "\n",
    "open(tflite_save_path, 'wb').write(tflite_quantized_model)"
   ]
  },
  {
   "cell_type": "code",
   "execution_count": 36,
   "metadata": {},
   "outputs": [],
   "source": [
    "interpreter = tf.lite.Interpreter(model_path=tflite_save_path)\n",
    "interpreter.allocate_tensors()"
   ]
  },
  {
   "cell_type": "code",
   "execution_count": 37,
   "metadata": {},
   "outputs": [],
   "source": [
    "input_details = interpreter.get_input_details()\n",
    "output_details = interpreter.get_output_details()"
   ]
  },
  {
   "cell_type": "code",
   "execution_count": 38,
   "metadata": {},
   "outputs": [],
   "source": [
    "interpreter.set_tensor(input_details[0]['index'], np.array([X_test[0]]))"
   ]
  },
  {
   "cell_type": "code",
   "execution_count": 39,
   "metadata": {
    "scrolled": true
   },
   "outputs": [
    {
     "name": "stdout",
     "output_type": "stream",
     "text": [
      "Wall time: 2.36 ms\n"
     ]
    }
   ],
   "source": [
    "%%time\n",
    "interpreter.invoke()\n",
    "tflite_results = interpreter.get_tensor(output_details[0]['index'])"
   ]
  },
  {
   "cell_type": "code",
   "execution_count": 40,
   "metadata": {},
   "outputs": [
    {
     "name": "stdout",
     "output_type": "stream",
     "text": [
      "[3.5452247e-01 1.0898571e-04 8.2036621e-07 7.3600160e-05 9.3638782e-06\n",
      " 3.7210332e-06 1.4782027e-07 6.2996434e-04 2.2291286e-05 2.6794480e-05\n",
      " 2.2813518e-10 1.7536161e-10 7.5322172e-11 7.0934980e-11 1.5375309e-10\n",
      " 1.0157168e-10 4.2755038e-10 3.8340503e-10 1.1011170e-10 6.9636512e-11\n",
      " 2.2658289e-03 6.0953522e-01 3.2798070e-02 2.6595790e-06 1.3648225e-09\n",
      " 2.1177215e-08]\n",
      "21\n"
     ]
    }
   ],
   "source": [
    "print(np.squeeze(tflite_results))\n",
    "print(np.argmax(np.squeeze(tflite_results)))"
   ]
  },
  {
   "cell_type": "code",
   "execution_count": null,
   "metadata": {},
   "outputs": [],
   "source": []
  }
 ],
 "metadata": {
  "kernelspec": {
   "display_name": "Python 3",
   "language": "python",
   "name": "python3"
  },
  "language_info": {
   "codemirror_mode": {
    "name": "ipython",
    "version": 3
   },
   "file_extension": ".py",
   "mimetype": "text/x-python",
   "name": "python",
   "nbconvert_exporter": "python",
   "pygments_lexer": "ipython3",
   "version": "3.8.3"
  }
 },
 "nbformat": 4,
 "nbformat_minor": 4
}
